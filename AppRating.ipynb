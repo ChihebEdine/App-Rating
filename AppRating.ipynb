{
  "nbformat": 4,
  "nbformat_minor": 0,
  "metadata": {
    "colab": {
      "name": "ProjetML.ipynb",
      "version": "0.3.2",
      "provenance": [],
      "collapsed_sections": [],
      "toc_visible": true
    },
    "kernelspec": {
      "name": "python3",
      "display_name": "Python 3"
    }
  },
  "cells": [
    {
      "cell_type": "markdown",
      "metadata": {
        "colab_type": "text",
        "id": "MkkRy3CJ1lhj"
      },
      "source": [
        "# **App Rating & Sentiment Prediction**"
      ]
    },
    {
      "cell_type": "markdown",
      "metadata": {
        "colab_type": "text",
        "id": "8yhlpp_pd-O4"
      },
      "source": [
        "## **Introduction**"
      ]
    },
    {
      "cell_type": "markdown",
      "metadata": {
        "colab_type": "text",
        "id": "HzIFxNjubgsm"
      },
      "source": [
        "The goal of this project is to use data of 10k Play Store apps and their user reviews to make rating & sentiment predictions.\n",
        "The dataset is composed of two *csv* files :\n",
        "*   *googleplaystore_user_reviews.csv* : contains the first 'most relevant' 100 reviews for each app\n",
        "*   *googleplaystore.csv* : contains the details of the apps\n",
        "\n",
        "We start by loading some libraries and importing the dataset."
      ]
    },
    {
      "cell_type": "code",
      "execution_count": 0,
      "metadata": {
        "colab": {},
        "colab_type": "code",
        "id": "LR9Kp3I_10S9"
      },
      "outputs": [],
      "source": [
        "from sklearn.linear_model import LinearRegression \n",
        "from sklearn import svm\n",
        "from sklearn.decomposition import TruncatedSVD\n",
        "from sklearn.tree import DecisionTreeRegressor\n",
        "from sklearn.ensemble import RandomForestRegressor\n",
        "from sklearn.preprocessing import normalize\n",
        "from sklearn.model_selection import train_test_split\n",
        "from sklearn import metrics\n",
        "from keras.models import Sequential\n",
        "from keras.layers import Dense\n",
        "from keras.layers import Dropout\n",
        "import pandas as pd\n",
        "import numpy as np\n",
        "import matplotlib.pyplot as plt\n",
        "import seaborn as sns\n",
        "import csv\n",
        "import re\n",
        "import nltk\n",
        "from nltk.corpus import stopwords\n",
        "import string\n",
        "from gensim.models import Word2Vec\n",
        "from scipy import spatial\n",
        "from sklearn.linear_model import LogisticRegression\n",
        "from sklearn.tree import DecisionTreeClassifier\n",
        "from sklearn.neighbors import KNeighborsClassifier\n",
        "from sklearn.discriminant_analysis import LinearDiscriminantAnalysis\n",
        "from sklearn.naive_bayes import GaussianNB\n",
        "from sklearn.svm import SVC\n",
        "from sklearn.ensemble import AdaBoostClassifier\n",
        "from sklearn.feature_extraction.text import CountVectorizer"
      ]
    },
    {
      "cell_type": "code",
      "execution_count": 0,
      "metadata": {
        "colab": {},
        "colab_type": "code",
        "id": "kOqbLfSv2ccj"
      },
      "outputs": [],
      "source": [
        "app_data_file_name = 'googleplaystore.csv'\n",
        "user_reviews_file_name = 'googleplaystore_user_reviews.csv'"
      ]
    },
    {
      "cell_type": "code",
      "execution_count": 0,
      "metadata": {
        "colab": {},
        "colab_type": "code",
        "id": "PF4Xl0Ny2kER"
      },
      "outputs": [],
      "source": [
        "app_data = pd.read_csv(app_data_file_name)\n",
        "user_reviews = pd.read_csv(user_reviews_file_name)"
      ]
    },
    {
      "cell_type": "markdown",
      "metadata": {
        "colab_type": "text",
        "id": "x66_5x4Q2qk9"
      },
      "source": [
        "## **I. Data Exploration**"
      ]
    },
    {
      "cell_type": "markdown",
      "metadata": {
        "colab_type": "text",
        "id": "A-RA-FiLXn12"
      },
      "source": [
        "In this section we will be discovering our data, we will look at some of its relevant properties, like the size, the type ... "
      ]
    },
    {
      "cell_type": "markdown",
      "metadata": {
        "colab_type": "text",
        "id": "CZiQmnkOksep"
      },
      "source": [
        "### **I. 1. Details of the apps**\n"
      ]
    },
    {
      "cell_type": "code",
      "execution_count": 100,
      "metadata": {
        "colab": {
          "base_uri": "https://localhost:8080/",
          "height": 34
        },
        "colab_type": "code",
        "id": "ONdlEeLE21Qr",
        "outputId": "acfee1f8-2232-4748-9395-fc68a01a74c8"
      },
      "outputs": [
        {
          "name": "stdout",
          "output_type": "stream",
          "text": [
            "We have 10841 apps, and 13 features for each app.\n"
          ]
        }
      ],
      "source": [
        "print(\"We have\", app_data.shape[0], \"apps, and\", app_data.shape[1], \"features for each app.\")"
      ]
    },
    {
      "cell_type": "code",
      "execution_count": 101,
      "metadata": {
        "colab": {
          "base_uri": "https://localhost:8080/",
          "height": 101
        },
        "colab_type": "code",
        "id": "v-1ueChK24y8",
        "outputId": "008f92e8-d594-47bf-fddf-db190a68a82e"
      },
      "outputs": [
        {
          "name": "stdout",
          "output_type": "stream",
          "text": [
            "These are the features: \n",
            " Index(['App', 'Category', 'Rating', 'Reviews', 'Size', 'Installs', 'Type',\n",
            "       'Price', 'Content Rating', 'Genres', 'Last Updated', 'Current Ver',\n",
            "       'Android Ver'],\n",
            "      dtype='object')\n"
          ]
        }
      ],
      "source": [
        "print(\"These are the features: \\n\", app_data.columns)"
      ]
    },
    {
      "cell_type": "markdown",
      "metadata": {
        "colab_type": "text",
        "id": "vM7P_ELVQ65b"
      },
      "source": [
        "Here is what the dataset looks like. \\\\\n",
        "We can see that most of the fields do not have numerical value: we will take care of that in the data cleaning section.\n"
      ]
    },
    {
      "cell_type": "code",
      "execution_count": 102,
      "metadata": {
        "colab": {
          "base_uri": "https://localhost:8080/",
          "height": 363
        },
        "colab_type": "code",
        "id": "ScYSybdB27O7",
        "outputId": "93a95a1b-32b6-4791-eadb-17813e50c2f0"
      },
      "outputs": [
        {
          "data": {
            "text/html": [
              "<div>\n",
              "<style scoped>\n",
              "    .dataframe tbody tr th:only-of-type {\n",
              "        vertical-align: middle;\n",
              "    }\n",
              "\n",
              "    .dataframe tbody tr th {\n",
              "        vertical-align: top;\n",
              "    }\n",
              "\n",
              "    .dataframe thead th {\n",
              "        text-align: right;\n",
              "    }\n",
              "</style>\n",
              "<table border=\"1\" class=\"dataframe\">\n",
              "  <thead>\n",
              "    <tr style=\"text-align: right;\">\n",
              "      <th></th>\n",
              "      <th>App</th>\n",
              "      <th>Category</th>\n",
              "      <th>Rating</th>\n",
              "      <th>Reviews</th>\n",
              "      <th>Size</th>\n",
              "      <th>Installs</th>\n",
              "      <th>Type</th>\n",
              "      <th>Price</th>\n",
              "      <th>Content Rating</th>\n",
              "      <th>Genres</th>\n",
              "      <th>Last Updated</th>\n",
              "      <th>Current Ver</th>\n",
              "      <th>Android Ver</th>\n",
              "    </tr>\n",
              "  </thead>\n",
              "  <tbody>\n",
              "    <tr>\n",
              "      <th>0</th>\n",
              "      <td>Photo Editor &amp; Candy Camera &amp; Grid &amp; ScrapBook</td>\n",
              "      <td>ART_AND_DESIGN</td>\n",
              "      <td>4.1</td>\n",
              "      <td>159</td>\n",
              "      <td>19M</td>\n",
              "      <td>10,000+</td>\n",
              "      <td>Free</td>\n",
              "      <td>0</td>\n",
              "      <td>Everyone</td>\n",
              "      <td>Art &amp; Design</td>\n",
              "      <td>January 7, 2018</td>\n",
              "      <td>1.0.0</td>\n",
              "      <td>4.0.3 and up</td>\n",
              "    </tr>\n",
              "    <tr>\n",
              "      <th>1</th>\n",
              "      <td>Coloring book moana</td>\n",
              "      <td>ART_AND_DESIGN</td>\n",
              "      <td>3.9</td>\n",
              "      <td>967</td>\n",
              "      <td>14M</td>\n",
              "      <td>500,000+</td>\n",
              "      <td>Free</td>\n",
              "      <td>0</td>\n",
              "      <td>Everyone</td>\n",
              "      <td>Art &amp; Design;Pretend Play</td>\n",
              "      <td>January 15, 2018</td>\n",
              "      <td>2.0.0</td>\n",
              "      <td>4.0.3 and up</td>\n",
              "    </tr>\n",
              "    <tr>\n",
              "      <th>2</th>\n",
              "      <td>U Launcher Lite – FREE Live Cool Themes, Hide ...</td>\n",
              "      <td>ART_AND_DESIGN</td>\n",
              "      <td>4.7</td>\n",
              "      <td>87510</td>\n",
              "      <td>8.7M</td>\n",
              "      <td>5,000,000+</td>\n",
              "      <td>Free</td>\n",
              "      <td>0</td>\n",
              "      <td>Everyone</td>\n",
              "      <td>Art &amp; Design</td>\n",
              "      <td>August 1, 2018</td>\n",
              "      <td>1.2.4</td>\n",
              "      <td>4.0.3 and up</td>\n",
              "    </tr>\n",
              "    <tr>\n",
              "      <th>3</th>\n",
              "      <td>Sketch - Draw &amp; Paint</td>\n",
              "      <td>ART_AND_DESIGN</td>\n",
              "      <td>4.5</td>\n",
              "      <td>215644</td>\n",
              "      <td>25M</td>\n",
              "      <td>50,000,000+</td>\n",
              "      <td>Free</td>\n",
              "      <td>0</td>\n",
              "      <td>Teen</td>\n",
              "      <td>Art &amp; Design</td>\n",
              "      <td>June 8, 2018</td>\n",
              "      <td>Varies with device</td>\n",
              "      <td>4.2 and up</td>\n",
              "    </tr>\n",
              "    <tr>\n",
              "      <th>4</th>\n",
              "      <td>Pixel Draw - Number Art Coloring Book</td>\n",
              "      <td>ART_AND_DESIGN</td>\n",
              "      <td>4.3</td>\n",
              "      <td>967</td>\n",
              "      <td>2.8M</td>\n",
              "      <td>100,000+</td>\n",
              "      <td>Free</td>\n",
              "      <td>0</td>\n",
              "      <td>Everyone</td>\n",
              "      <td>Art &amp; Design;Creativity</td>\n",
              "      <td>June 20, 2018</td>\n",
              "      <td>1.1</td>\n",
              "      <td>4.4 and up</td>\n",
              "    </tr>\n",
              "  </tbody>\n",
              "</table>\n",
              "</div>"
            ],
            "text/plain": [
              "                                                 App  ...   Android Ver\n",
              "0     Photo Editor & Candy Camera & Grid & ScrapBook  ...  4.0.3 and up\n",
              "1                                Coloring book moana  ...  4.0.3 and up\n",
              "2  U Launcher Lite – FREE Live Cool Themes, Hide ...  ...  4.0.3 and up\n",
              "3                              Sketch - Draw & Paint  ...    4.2 and up\n",
              "4              Pixel Draw - Number Art Coloring Book  ...    4.4 and up\n",
              "\n",
              "[5 rows x 13 columns]"
            ]
          },
          "execution_count": 102,
          "metadata": {
            "tags": []
          },
          "output_type": "execute_result"
        }
      ],
      "source": [
        "app_data.head()"
      ]
    },
    {
      "cell_type": "code",
      "execution_count": 103,
      "metadata": {
        "colab": {
          "base_uri": "https://localhost:8080/",
          "height": 319
        },
        "colab_type": "code",
        "id": "kqKExE6A2934",
        "outputId": "c8e30574-5496-4e86-d189-7af3e44a7ad6"
      },
      "outputs": [
        {
          "name": "stdout",
          "output_type": "stream",
          "text": [
            "<class 'pandas.core.frame.DataFrame'>\n",
            "RangeIndex: 10841 entries, 0 to 10840\n",
            "Data columns (total 13 columns):\n",
            "App               10841 non-null object\n",
            "Category          10841 non-null object\n",
            "Rating            9367 non-null float64\n",
            "Reviews           10841 non-null object\n",
            "Size              10841 non-null object\n",
            "Installs          10841 non-null object\n",
            "Type              10840 non-null object\n",
            "Price             10841 non-null object\n",
            "Content Rating    10840 non-null object\n",
            "Genres            10841 non-null object\n",
            "Last Updated      10841 non-null object\n",
            "Current Ver       10833 non-null object\n",
            "Android Ver       10838 non-null object\n",
            "dtypes: float64(1), object(12)\n",
            "memory usage: 1.1+ MB\n"
          ]
        }
      ],
      "source": [
        "app_data.info()"
      ]
    },
    {
      "cell_type": "code",
      "execution_count": 104,
      "metadata": {
        "colab": {
          "base_uri": "https://localhost:8080/",
          "height": 406
        },
        "colab_type": "code",
        "id": "y-UlNSdx3Ijp",
        "outputId": "0d16df31-b833-4148-cf8b-3d9501940d22"
      },
      "outputs": [
        {
          "data": {
            "text/html": [
              "<div>\n",
              "<style scoped>\n",
              "    .dataframe tbody tr th:only-of-type {\n",
              "        vertical-align: middle;\n",
              "    }\n",
              "\n",
              "    .dataframe tbody tr th {\n",
              "        vertical-align: top;\n",
              "    }\n",
              "\n",
              "    .dataframe thead th {\n",
              "        text-align: right;\n",
              "    }\n",
              "</style>\n",
              "<table border=\"1\" class=\"dataframe\">\n",
              "  <thead>\n",
              "    <tr style=\"text-align: right;\">\n",
              "      <th></th>\n",
              "      <th>App</th>\n",
              "      <th>Category</th>\n",
              "      <th>Rating</th>\n",
              "      <th>Reviews</th>\n",
              "      <th>Size</th>\n",
              "      <th>Installs</th>\n",
              "      <th>Type</th>\n",
              "      <th>Price</th>\n",
              "      <th>Content Rating</th>\n",
              "      <th>Genres</th>\n",
              "      <th>Last Updated</th>\n",
              "      <th>Current Ver</th>\n",
              "      <th>Android Ver</th>\n",
              "    </tr>\n",
              "  </thead>\n",
              "  <tbody>\n",
              "    <tr>\n",
              "      <th>count</th>\n",
              "      <td>10841</td>\n",
              "      <td>10841</td>\n",
              "      <td>9367.000000</td>\n",
              "      <td>10841</td>\n",
              "      <td>10841</td>\n",
              "      <td>10841</td>\n",
              "      <td>10840</td>\n",
              "      <td>10841</td>\n",
              "      <td>10840</td>\n",
              "      <td>10841</td>\n",
              "      <td>10841</td>\n",
              "      <td>10833</td>\n",
              "      <td>10838</td>\n",
              "    </tr>\n",
              "    <tr>\n",
              "      <th>unique</th>\n",
              "      <td>9660</td>\n",
              "      <td>34</td>\n",
              "      <td>NaN</td>\n",
              "      <td>6002</td>\n",
              "      <td>462</td>\n",
              "      <td>22</td>\n",
              "      <td>3</td>\n",
              "      <td>93</td>\n",
              "      <td>6</td>\n",
              "      <td>120</td>\n",
              "      <td>1378</td>\n",
              "      <td>2832</td>\n",
              "      <td>33</td>\n",
              "    </tr>\n",
              "    <tr>\n",
              "      <th>top</th>\n",
              "      <td>ROBLOX</td>\n",
              "      <td>FAMILY</td>\n",
              "      <td>NaN</td>\n",
              "      <td>0</td>\n",
              "      <td>Varies with device</td>\n",
              "      <td>1,000,000+</td>\n",
              "      <td>Free</td>\n",
              "      <td>0</td>\n",
              "      <td>Everyone</td>\n",
              "      <td>Tools</td>\n",
              "      <td>August 3, 2018</td>\n",
              "      <td>Varies with device</td>\n",
              "      <td>4.1 and up</td>\n",
              "    </tr>\n",
              "    <tr>\n",
              "      <th>freq</th>\n",
              "      <td>9</td>\n",
              "      <td>1972</td>\n",
              "      <td>NaN</td>\n",
              "      <td>596</td>\n",
              "      <td>1695</td>\n",
              "      <td>1579</td>\n",
              "      <td>10039</td>\n",
              "      <td>10040</td>\n",
              "      <td>8714</td>\n",
              "      <td>842</td>\n",
              "      <td>326</td>\n",
              "      <td>1459</td>\n",
              "      <td>2451</td>\n",
              "    </tr>\n",
              "    <tr>\n",
              "      <th>mean</th>\n",
              "      <td>NaN</td>\n",
              "      <td>NaN</td>\n",
              "      <td>4.193338</td>\n",
              "      <td>NaN</td>\n",
              "      <td>NaN</td>\n",
              "      <td>NaN</td>\n",
              "      <td>NaN</td>\n",
              "      <td>NaN</td>\n",
              "      <td>NaN</td>\n",
              "      <td>NaN</td>\n",
              "      <td>NaN</td>\n",
              "      <td>NaN</td>\n",
              "      <td>NaN</td>\n",
              "    </tr>\n",
              "    <tr>\n",
              "      <th>std</th>\n",
              "      <td>NaN</td>\n",
              "      <td>NaN</td>\n",
              "      <td>0.537431</td>\n",
              "      <td>NaN</td>\n",
              "      <td>NaN</td>\n",
              "      <td>NaN</td>\n",
              "      <td>NaN</td>\n",
              "      <td>NaN</td>\n",
              "      <td>NaN</td>\n",
              "      <td>NaN</td>\n",
              "      <td>NaN</td>\n",
              "      <td>NaN</td>\n",
              "      <td>NaN</td>\n",
              "    </tr>\n",
              "    <tr>\n",
              "      <th>min</th>\n",
              "      <td>NaN</td>\n",
              "      <td>NaN</td>\n",
              "      <td>1.000000</td>\n",
              "      <td>NaN</td>\n",
              "      <td>NaN</td>\n",
              "      <td>NaN</td>\n",
              "      <td>NaN</td>\n",
              "      <td>NaN</td>\n",
              "      <td>NaN</td>\n",
              "      <td>NaN</td>\n",
              "      <td>NaN</td>\n",
              "      <td>NaN</td>\n",
              "      <td>NaN</td>\n",
              "    </tr>\n",
              "    <tr>\n",
              "      <th>25%</th>\n",
              "      <td>NaN</td>\n",
              "      <td>NaN</td>\n",
              "      <td>4.000000</td>\n",
              "      <td>NaN</td>\n",
              "      <td>NaN</td>\n",
              "      <td>NaN</td>\n",
              "      <td>NaN</td>\n",
              "      <td>NaN</td>\n",
              "      <td>NaN</td>\n",
              "      <td>NaN</td>\n",
              "      <td>NaN</td>\n",
              "      <td>NaN</td>\n",
              "      <td>NaN</td>\n",
              "    </tr>\n",
              "    <tr>\n",
              "      <th>50%</th>\n",
              "      <td>NaN</td>\n",
              "      <td>NaN</td>\n",
              "      <td>4.300000</td>\n",
              "      <td>NaN</td>\n",
              "      <td>NaN</td>\n",
              "      <td>NaN</td>\n",
              "      <td>NaN</td>\n",
              "      <td>NaN</td>\n",
              "      <td>NaN</td>\n",
              "      <td>NaN</td>\n",
              "      <td>NaN</td>\n",
              "      <td>NaN</td>\n",
              "      <td>NaN</td>\n",
              "    </tr>\n",
              "    <tr>\n",
              "      <th>75%</th>\n",
              "      <td>NaN</td>\n",
              "      <td>NaN</td>\n",
              "      <td>4.500000</td>\n",
              "      <td>NaN</td>\n",
              "      <td>NaN</td>\n",
              "      <td>NaN</td>\n",
              "      <td>NaN</td>\n",
              "      <td>NaN</td>\n",
              "      <td>NaN</td>\n",
              "      <td>NaN</td>\n",
              "      <td>NaN</td>\n",
              "      <td>NaN</td>\n",
              "      <td>NaN</td>\n",
              "    </tr>\n",
              "    <tr>\n",
              "      <th>max</th>\n",
              "      <td>NaN</td>\n",
              "      <td>NaN</td>\n",
              "      <td>19.000000</td>\n",
              "      <td>NaN</td>\n",
              "      <td>NaN</td>\n",
              "      <td>NaN</td>\n",
              "      <td>NaN</td>\n",
              "      <td>NaN</td>\n",
              "      <td>NaN</td>\n",
              "      <td>NaN</td>\n",
              "      <td>NaN</td>\n",
              "      <td>NaN</td>\n",
              "      <td>NaN</td>\n",
              "    </tr>\n",
              "  </tbody>\n",
              "</table>\n",
              "</div>"
            ],
            "text/plain": [
              "           App Category  ...         Current Ver Android Ver\n",
              "count    10841    10841  ...               10833       10838\n",
              "unique    9660       34  ...                2832          33\n",
              "top     ROBLOX   FAMILY  ...  Varies with device  4.1 and up\n",
              "freq         9     1972  ...                1459        2451\n",
              "mean       NaN      NaN  ...                 NaN         NaN\n",
              "std        NaN      NaN  ...                 NaN         NaN\n",
              "min        NaN      NaN  ...                 NaN         NaN\n",
              "25%        NaN      NaN  ...                 NaN         NaN\n",
              "50%        NaN      NaN  ...                 NaN         NaN\n",
              "75%        NaN      NaN  ...                 NaN         NaN\n",
              "max        NaN      NaN  ...                 NaN         NaN\n",
              "\n",
              "[11 rows x 13 columns]"
            ]
          },
          "execution_count": 104,
          "metadata": {
            "tags": []
          },
          "output_type": "execute_result"
        }
      ],
      "source": [
        "app_data.describe(include = 'all')"
      ]
    },
    {
      "cell_type": "markdown",
      "metadata": {
        "colab_type": "text",
        "id": "V0GpkerVSL7-"
      },
      "source": [
        "For a total of 10841 apps, we only have 9367 rated apps: we need to scale down our research to the rated portion of the data."
      ]
    },
    {
      "cell_type": "code",
      "execution_count": 105,
      "metadata": {
        "colab": {
          "base_uri": "https://localhost:8080/",
          "height": 370
        },
        "colab_type": "code",
        "id": "VdcKJ1vk3K4I",
        "outputId": "de0f94bc-0d19-42b7-b865-47de4037abce"
      },
      "outputs": [
        {
          "data": {
            "text/plain": [
              "array([[<matplotlib.axes._subplots.AxesSubplot object at 0x7f1237625c88>]],\n",
              "      dtype=object)"
            ]
          },
          "execution_count": 105,
          "metadata": {
            "tags": []
          },
          "output_type": "execute_result"
        },
        {
          "data": {
            "image/png": "[encoded data removed]",
            "text/plain": [
              "<Figure size 360x360 with 1 Axes>"
            ]
          },
          "metadata": {
            "tags": []
          },
          "output_type": "display_data"
        }
      ],
      "source": [
        "app_data.hist(bins = 5, column = \"Rating\", figsize=(5, 5), grid = False, range=(0, 5))"
      ]
    },
    {
      "cell_type": "markdown",
      "metadata": {
        "colab_type": "text",
        "id": "PA_A7ANblXQ5"
      },
      "source": [
        "### **I. 2. User reviews**"
      ]
    },
    {
      "cell_type": "code",
      "execution_count": 106,
      "metadata": {
        "colab": {
          "base_uri": "https://localhost:8080/",
          "height": 34
        },
        "colab_type": "code",
        "id": "cthEpVotlq80",
        "outputId": "98eaa6b1-ce81-4e07-c26b-c43a6e04b58b"
      },
      "outputs": [
        {
          "data": {
            "text/plain": [
              "(64295, 5)"
            ]
          },
          "execution_count": 106,
          "metadata": {
            "tags": []
          },
          "output_type": "execute_result"
        }
      ],
      "source": [
        "user_reviews.shape"
      ]
    },
    {
      "cell_type": "code",
      "execution_count": 107,
      "metadata": {
        "colab": {
          "base_uri": "https://localhost:8080/",
          "height": 67
        },
        "colab_type": "code",
        "id": "auhSaz9Wluw5",
        "outputId": "a62eb66d-01ec-4615-f8fd-07ed3f946a38"
      },
      "outputs": [
        {
          "data": {
            "text/plain": [
              "Index(['App', 'Translated_Review', 'Sentiment', 'Sentiment_Polarity',\n",
              "       'Sentiment_Subjectivity'],\n",
              "      dtype='object')"
            ]
          },
          "execution_count": 107,
          "metadata": {
            "tags": []
          },
          "output_type": "execute_result"
        }
      ],
      "source": [
        "user_reviews.columns"
      ]
    },
    {
      "cell_type": "code",
      "execution_count": 108,
      "metadata": {
        "colab": {
          "base_uri": "https://localhost:8080/",
          "height": 195
        },
        "colab_type": "code",
        "id": "fvAEMNw3lxeR",
        "outputId": "77a61f68-69bb-4dd9-d1fe-3bb05ee0427f"
      },
      "outputs": [
        {
          "data": {
            "text/html": [
              "<div>\n",
              "<style scoped>\n",
              "    .dataframe tbody tr th:only-of-type {\n",
              "        vertical-align: middle;\n",
              "    }\n",
              "\n",
              "    .dataframe tbody tr th {\n",
              "        vertical-align: top;\n",
              "    }\n",
              "\n",
              "    .dataframe thead th {\n",
              "        text-align: right;\n",
              "    }\n",
              "</style>\n",
              "<table border=\"1\" class=\"dataframe\">\n",
              "  <thead>\n",
              "    <tr style=\"text-align: right;\">\n",
              "      <th></th>\n",
              "      <th>App</th>\n",
              "      <th>Translated_Review</th>\n",
              "      <th>Sentiment</th>\n",
              "      <th>Sentiment_Polarity</th>\n",
              "      <th>Sentiment_Subjectivity</th>\n",
              "    </tr>\n",
              "  </thead>\n",
              "  <tbody>\n",
              "    <tr>\n",
              "      <th>0</th>\n",
              "      <td>10 Best Foods for You</td>\n",
              "      <td>I like eat delicious food. That's I'm cooking ...</td>\n",
              "      <td>Positive</td>\n",
              "      <td>1.00</td>\n",
              "      <td>0.533333</td>\n",
              "    </tr>\n",
              "    <tr>\n",
              "      <th>1</th>\n",
              "      <td>10 Best Foods for You</td>\n",
              "      <td>This help eating healthy exercise regular basis</td>\n",
              "      <td>Positive</td>\n",
              "      <td>0.25</td>\n",
              "      <td>0.288462</td>\n",
              "    </tr>\n",
              "    <tr>\n",
              "      <th>2</th>\n",
              "      <td>10 Best Foods for You</td>\n",
              "      <td>NaN</td>\n",
              "      <td>NaN</td>\n",
              "      <td>NaN</td>\n",
              "      <td>NaN</td>\n",
              "    </tr>\n",
              "    <tr>\n",
              "      <th>3</th>\n",
              "      <td>10 Best Foods for You</td>\n",
              "      <td>Works great especially going grocery store</td>\n",
              "      <td>Positive</td>\n",
              "      <td>0.40</td>\n",
              "      <td>0.875000</td>\n",
              "    </tr>\n",
              "    <tr>\n",
              "      <th>4</th>\n",
              "      <td>10 Best Foods for You</td>\n",
              "      <td>Best idea us</td>\n",
              "      <td>Positive</td>\n",
              "      <td>1.00</td>\n",
              "      <td>0.300000</td>\n",
              "    </tr>\n",
              "  </tbody>\n",
              "</table>\n",
              "</div>"
            ],
            "text/plain": [
              "                     App  ... Sentiment_Subjectivity\n",
              "0  10 Best Foods for You  ...               0.533333\n",
              "1  10 Best Foods for You  ...               0.288462\n",
              "2  10 Best Foods for You  ...                    NaN\n",
              "3  10 Best Foods for You  ...               0.875000\n",
              "4  10 Best Foods for You  ...               0.300000\n",
              "\n",
              "[5 rows x 5 columns]"
            ]
          },
          "execution_count": 108,
          "metadata": {
            "tags": []
          },
          "output_type": "execute_result"
        }
      ],
      "source": [
        "user_reviews.head()"
      ]
    },
    {
      "cell_type": "code",
      "execution_count": 109,
      "metadata": {
        "colab": {
          "base_uri": "https://localhost:8080/",
          "height": 185
        },
        "colab_type": "code",
        "id": "XECyidgLm9d7",
        "outputId": "08a04cc8-7e68-4ec5-db78-33ad93f03091"
      },
      "outputs": [
        {
          "name": "stdout",
          "output_type": "stream",
          "text": [
            "<class 'pandas.core.frame.DataFrame'>\n",
            "RangeIndex: 64295 entries, 0 to 64294\n",
            "Data columns (total 5 columns):\n",
            "App                       64295 non-null object\n",
            "Translated_Review         37427 non-null object\n",
            "Sentiment                 37432 non-null object\n",
            "Sentiment_Polarity        37432 non-null float64\n",
            "Sentiment_Subjectivity    37432 non-null float64\n",
            "dtypes: float64(2), object(3)\n",
            "memory usage: 2.5+ MB\n"
          ]
        }
      ],
      "source": [
        "user_reviews.info()"
      ]
    },
    {
      "cell_type": "code",
      "execution_count": 110,
      "metadata": {
        "colab": {
          "base_uri": "https://localhost:8080/",
          "height": 373
        },
        "colab_type": "code",
        "id": "1FWDbD00oa_T",
        "outputId": "4a4b8fd1-2cec-4f0f-8d48-033ead9f068b"
      },
      "outputs": [
        {
          "data": {
            "text/html": [
              "<div>\n",
              "<style scoped>\n",
              "    .dataframe tbody tr th:only-of-type {\n",
              "        vertical-align: middle;\n",
              "    }\n",
              "\n",
              "    .dataframe tbody tr th {\n",
              "        vertical-align: top;\n",
              "    }\n",
              "\n",
              "    .dataframe thead th {\n",
              "        text-align: right;\n",
              "    }\n",
              "</style>\n",
              "<table border=\"1\" class=\"dataframe\">\n",
              "  <thead>\n",
              "    <tr style=\"text-align: right;\">\n",
              "      <th></th>\n",
              "      <th>App</th>\n",
              "      <th>Translated_Review</th>\n",
              "      <th>Sentiment</th>\n",
              "      <th>Sentiment_Polarity</th>\n",
              "      <th>Sentiment_Subjectivity</th>\n",
              "    </tr>\n",
              "  </thead>\n",
              "  <tbody>\n",
              "    <tr>\n",
              "      <th>count</th>\n",
              "      <td>64295</td>\n",
              "      <td>37427</td>\n",
              "      <td>37432</td>\n",
              "      <td>37432.000000</td>\n",
              "      <td>37432.000000</td>\n",
              "    </tr>\n",
              "    <tr>\n",
              "      <th>unique</th>\n",
              "      <td>1074</td>\n",
              "      <td>27994</td>\n",
              "      <td>3</td>\n",
              "      <td>NaN</td>\n",
              "      <td>NaN</td>\n",
              "    </tr>\n",
              "    <tr>\n",
              "      <th>top</th>\n",
              "      <td>CBS Sports App - Scores, News, Stats &amp; Watch Live</td>\n",
              "      <td>Good</td>\n",
              "      <td>Positive</td>\n",
              "      <td>NaN</td>\n",
              "      <td>NaN</td>\n",
              "    </tr>\n",
              "    <tr>\n",
              "      <th>freq</th>\n",
              "      <td>320</td>\n",
              "      <td>247</td>\n",
              "      <td>23998</td>\n",
              "      <td>NaN</td>\n",
              "      <td>NaN</td>\n",
              "    </tr>\n",
              "    <tr>\n",
              "      <th>mean</th>\n",
              "      <td>NaN</td>\n",
              "      <td>NaN</td>\n",
              "      <td>NaN</td>\n",
              "      <td>0.182146</td>\n",
              "      <td>0.492704</td>\n",
              "    </tr>\n",
              "    <tr>\n",
              "      <th>std</th>\n",
              "      <td>NaN</td>\n",
              "      <td>NaN</td>\n",
              "      <td>NaN</td>\n",
              "      <td>0.351301</td>\n",
              "      <td>0.259949</td>\n",
              "    </tr>\n",
              "    <tr>\n",
              "      <th>min</th>\n",
              "      <td>NaN</td>\n",
              "      <td>NaN</td>\n",
              "      <td>NaN</td>\n",
              "      <td>-1.000000</td>\n",
              "      <td>0.000000</td>\n",
              "    </tr>\n",
              "    <tr>\n",
              "      <th>25%</th>\n",
              "      <td>NaN</td>\n",
              "      <td>NaN</td>\n",
              "      <td>NaN</td>\n",
              "      <td>0.000000</td>\n",
              "      <td>0.357143</td>\n",
              "    </tr>\n",
              "    <tr>\n",
              "      <th>50%</th>\n",
              "      <td>NaN</td>\n",
              "      <td>NaN</td>\n",
              "      <td>NaN</td>\n",
              "      <td>0.150000</td>\n",
              "      <td>0.514286</td>\n",
              "    </tr>\n",
              "    <tr>\n",
              "      <th>75%</th>\n",
              "      <td>NaN</td>\n",
              "      <td>NaN</td>\n",
              "      <td>NaN</td>\n",
              "      <td>0.400000</td>\n",
              "      <td>0.650000</td>\n",
              "    </tr>\n",
              "    <tr>\n",
              "      <th>max</th>\n",
              "      <td>NaN</td>\n",
              "      <td>NaN</td>\n",
              "      <td>NaN</td>\n",
              "      <td>1.000000</td>\n",
              "      <td>1.000000</td>\n",
              "    </tr>\n",
              "  </tbody>\n",
              "</table>\n",
              "</div>"
            ],
            "text/plain": [
              "                                                      App  ... Sentiment_Subjectivity\n",
              "count                                               64295  ...           37432.000000\n",
              "unique                                               1074  ...                    NaN\n",
              "top     CBS Sports App - Scores, News, Stats & Watch Live  ...                    NaN\n",
              "freq                                                  320  ...                    NaN\n",
              "mean                                                  NaN  ...               0.492704\n",
              "std                                                   NaN  ...               0.259949\n",
              "min                                                   NaN  ...               0.000000\n",
              "25%                                                   NaN  ...               0.357143\n",
              "50%                                                   NaN  ...               0.514286\n",
              "75%                                                   NaN  ...               0.650000\n",
              "max                                                   NaN  ...               1.000000\n",
              "\n",
              "[11 rows x 5 columns]"
            ]
          },
          "execution_count": 110,
          "metadata": {
            "tags": []
          },
          "output_type": "execute_result"
        }
      ],
      "source": [
        "user_reviews.describe(include = 'all')"
      ]
    },
    {
      "cell_type": "code",
      "execution_count": 111,
      "metadata": {
        "colab": {
          "base_uri": "https://localhost:8080/",
          "height": 386
        },
        "colab_type": "code",
        "id": "dp82InU4qDFb",
        "outputId": "6925cca9-257c-4345-f20f-acc6b15d939f"
      },
      "outputs": [
        {
          "data": {
            "text/plain": [
              "array([[<matplotlib.axes._subplots.AxesSubplot object at 0x7f12375e0e10>,\n",
              "        <matplotlib.axes._subplots.AxesSubplot object at 0x7f123758ce10>]],\n",
              "      dtype=object)"
            ]
          },
          "execution_count": 111,
          "metadata": {
            "tags": []
          },
          "output_type": "execute_result"
        },
        {
          "data": {
            "image/png": "[encoded data removed]",
            "text/plain": [
              "<Figure size 720x360 with 2 Axes>"
            ]
          },
          "metadata": {
            "tags": []
          },
          "output_type": "display_data"
        }
      ],
      "source": [
        "user_reviews.hist(bins = 20, column = ['Sentiment_Polarity', 'Sentiment_Subjectivity'], figsize = (10, 5), grid = False)"
      ]
    },
    {
      "cell_type": "markdown",
      "metadata": {
        "colab_type": "text",
        "id": "Hr5tGh883_oK"
      },
      "source": [
        "## **II. Data Cleaning**"
      ]
    },
    {
      "cell_type": "markdown",
      "metadata": {
        "colab_type": "text",
        "id": "6YKW8O8febk4"
      },
      "source": [
        "Here are some functions we'll use to clean the data and convert all the string values into intergers."
      ]
    },
    {
      "cell_type": "code",
      "execution_count": 0,
      "metadata": {
        "colab": {},
        "colab_type": "code",
        "id": "WbzPfvGDmyzV"
      },
      "outputs": [],
      "source": [
        "def commas_to_int(commas):\n",
        "  L = [c for c in commas if c!=',']\n",
        "  string = ''.join(L)\n",
        "  return int(string)\n",
        "\n",
        "def string_to_int(s):\n",
        "  if s[-1]=='M':\n",
        "    n = float(s[:-1])*1000000\n",
        "  elif s[-1]=='K' or s[-1]=='k':\n",
        "    n = float(s[:-1])*1000\n",
        "  elif s[-1]=='+':\n",
        "    n = commas_to_int(s[:-1])\n",
        "  elif s[0] == \"$\":\n",
        "    n = float(s[1:])*100\n",
        "  else:\n",
        "    n = float(s)\n",
        "  return int(n)\n",
        "\n",
        "def type_to_binary(t):\n",
        "  if t == \"Free\":\n",
        "    return 0\n",
        "  else :\n",
        "    return 1\n",
        "  \n",
        "def CR_to_int(list_of_ratings):\n",
        "  list_of_ratings = list(list_of_ratings)\n",
        "  return lambda rating : len(list_of_ratings) - list_of_ratings.index(rating) - 1 "
      ]
    },
    {
      "cell_type": "markdown",
      "metadata": {
        "colab_type": "text",
        "id": "AuS9jtLPg-Lb"
      },
      "source": [
        "### II. 1. Dropping unecessary colums"
      ]
    },
    {
      "cell_type": "markdown",
      "metadata": {
        "colab_type": "text",
        "id": "hRNyZvaKbw_v"
      },
      "source": [
        "Since we can assume that the *Android Ver*, *Current Ver* and *Last Updated* columns are unrelated to the rating property, we can drop them from our data set."
      ]
    },
    {
      "cell_type": "code",
      "execution_count": 113,
      "metadata": {
        "colab": {
          "base_uri": "https://localhost:8080/",
          "height": 296
        },
        "colab_type": "code",
        "id": "TYybAxsahi9f",
        "outputId": "0bdfebbe-b5f8-4663-d5ed-1e811d05eb42"
      },
      "outputs": [
        {
          "data": {
            "text/html": [
              "<div>\n",
              "<style scoped>\n",
              "    .dataframe tbody tr th:only-of-type {\n",
              "        vertical-align: middle;\n",
              "    }\n",
              "\n",
              "    .dataframe tbody tr th {\n",
              "        vertical-align: top;\n",
              "    }\n",
              "\n",
              "    .dataframe thead th {\n",
              "        text-align: right;\n",
              "    }\n",
              "</style>\n",
              "<table border=\"1\" class=\"dataframe\">\n",
              "  <thead>\n",
              "    <tr style=\"text-align: right;\">\n",
              "      <th></th>\n",
              "      <th>App</th>\n",
              "      <th>Category</th>\n",
              "      <th>Rating</th>\n",
              "      <th>Reviews</th>\n",
              "      <th>Size</th>\n",
              "      <th>Installs</th>\n",
              "      <th>Type</th>\n",
              "      <th>Price</th>\n",
              "      <th>Content Rating</th>\n",
              "      <th>Genres</th>\n",
              "    </tr>\n",
              "  </thead>\n",
              "  <tbody>\n",
              "    <tr>\n",
              "      <th>0</th>\n",
              "      <td>Photo Editor &amp; Candy Camera &amp; Grid &amp; ScrapBook</td>\n",
              "      <td>ART_AND_DESIGN</td>\n",
              "      <td>4.1</td>\n",
              "      <td>159</td>\n",
              "      <td>19M</td>\n",
              "      <td>10,000+</td>\n",
              "      <td>Free</td>\n",
              "      <td>0</td>\n",
              "      <td>Everyone</td>\n",
              "      <td>Art &amp; Design</td>\n",
              "    </tr>\n",
              "    <tr>\n",
              "      <th>1</th>\n",
              "      <td>Coloring book moana</td>\n",
              "      <td>ART_AND_DESIGN</td>\n",
              "      <td>3.9</td>\n",
              "      <td>967</td>\n",
              "      <td>14M</td>\n",
              "      <td>500,000+</td>\n",
              "      <td>Free</td>\n",
              "      <td>0</td>\n",
              "      <td>Everyone</td>\n",
              "      <td>Art &amp; Design;Pretend Play</td>\n",
              "    </tr>\n",
              "    <tr>\n",
              "      <th>2</th>\n",
              "      <td>U Launcher Lite – FREE Live Cool Themes, Hide ...</td>\n",
              "      <td>ART_AND_DESIGN</td>\n",
              "      <td>4.7</td>\n",
              "      <td>87510</td>\n",
              "      <td>8.7M</td>\n",
              "      <td>5,000,000+</td>\n",
              "      <td>Free</td>\n",
              "      <td>0</td>\n",
              "      <td>Everyone</td>\n",
              "      <td>Art &amp; Design</td>\n",
              "    </tr>\n",
              "    <tr>\n",
              "      <th>3</th>\n",
              "      <td>Sketch - Draw &amp; Paint</td>\n",
              "      <td>ART_AND_DESIGN</td>\n",
              "      <td>4.5</td>\n",
              "      <td>215644</td>\n",
              "      <td>25M</td>\n",
              "      <td>50,000,000+</td>\n",
              "      <td>Free</td>\n",
              "      <td>0</td>\n",
              "      <td>Teen</td>\n",
              "      <td>Art &amp; Design</td>\n",
              "    </tr>\n",
              "    <tr>\n",
              "      <th>4</th>\n",
              "      <td>Pixel Draw - Number Art Coloring Book</td>\n",
              "      <td>ART_AND_DESIGN</td>\n",
              "      <td>4.3</td>\n",
              "      <td>967</td>\n",
              "      <td>2.8M</td>\n",
              "      <td>100,000+</td>\n",
              "      <td>Free</td>\n",
              "      <td>0</td>\n",
              "      <td>Everyone</td>\n",
              "      <td>Art &amp; Design;Creativity</td>\n",
              "    </tr>\n",
              "  </tbody>\n",
              "</table>\n",
              "</div>"
            ],
            "text/plain": [
              "                                                 App  ...                     Genres\n",
              "0     Photo Editor & Candy Camera & Grid & ScrapBook  ...               Art & Design\n",
              "1                                Coloring book moana  ...  Art & Design;Pretend Play\n",
              "2  U Launcher Lite – FREE Live Cool Themes, Hide ...  ...               Art & Design\n",
              "3                              Sketch - Draw & Paint  ...               Art & Design\n",
              "4              Pixel Draw - Number Art Coloring Book  ...    Art & Design;Creativity\n",
              "\n",
              "[5 rows x 10 columns]"
            ]
          },
          "execution_count": 113,
          "metadata": {
            "tags": []
          },
          "output_type": "execute_result"
        }
      ],
      "source": [
        "app_data.drop(labels = ['Last Updated','Current Ver','Android Ver'], axis = 1, inplace = True)\n",
        "app_data.head()"
      ]
    },
    {
      "cell_type": "markdown",
      "metadata": {
        "colab_type": "text",
        "id": "TPMrXHtsiZLj"
      },
      "source": [
        "### II.2 Removing Rows with NaN values"
      ]
    },
    {
      "cell_type": "code",
      "execution_count": 114,
      "metadata": {
        "colab": {
          "base_uri": "https://localhost:8080/",
          "height": 50
        },
        "colab_type": "code",
        "id": "RVKnJxcAil-N",
        "outputId": "34437d37-8187-4f0e-a0ea-e4983d40244e"
      },
      "outputs": [
        {
          "name": "stdout",
          "output_type": "stream",
          "text": [
            "New shape = (9366, 10)\n",
            "Ratio of deleted rows: 14 %\n"
          ]
        }
      ],
      "source": [
        "previous_number_of_rows = app_data.shape[0]\n",
        "app_data = app_data.dropna()\n",
        "print(\"New shape =\", app_data.shape)\n",
        "print('Ratio of deleted rows:', round((1-app_data.shape[0]/previous_number_of_rows)*100), '%')"
      ]
    },
    {
      "cell_type": "code",
      "execution_count": 115,
      "metadata": {
        "colab": {
          "base_uri": "https://localhost:8080/",
          "height": 50
        },
        "colab_type": "code",
        "id": "oy2oqCeHj3a_",
        "outputId": "d169e6fc-f1cd-4dd4-974d-01386ccd3fd9"
      },
      "outputs": [
        {
          "name": "stdout",
          "output_type": "stream",
          "text": [
            "New shape = (37427, 5)\n",
            "Ratio of deleted rows: 42 %\n"
          ]
        }
      ],
      "source": [
        "previous_number_of_rows = user_reviews.shape[0]\n",
        "user_reviews = user_reviews.dropna()\n",
        "print(\"New shape =\", user_reviews.shape)\n",
        "print('Ratio of deleted rows:', round((1-user_reviews.shape[0]/previous_number_of_rows)*100), '%')"
      ]
    },
    {
      "cell_type": "markdown",
      "metadata": {
        "colab_type": "text",
        "id": "u-m4o7Jzk1Fj"
      },
      "source": [
        "### II. 3. Changing fields with numerical nature to numbers\n",
        "\n"
      ]
    },
    {
      "cell_type": "markdown",
      "metadata": {
        "colab_type": "text",
        "id": "BnedLAPgmpDb"
      },
      "source": [
        "#### a) REVIEWS"
      ]
    },
    {
      "cell_type": "code",
      "execution_count": 116,
      "metadata": {
        "colab": {
          "base_uri": "https://localhost:8080/",
          "height": 34
        },
        "colab_type": "code",
        "id": "KNPxi6YhlJbD",
        "outputId": "ae8b3b78-769f-485e-bca0-aa5a0a28d95a"
      },
      "outputs": [
        {
          "data": {
            "text/plain": [
              "array(['159', '967', '87510', ..., '603', '1195', '398307'], dtype=object)"
            ]
          },
          "execution_count": 116,
          "metadata": {
            "tags": []
          },
          "output_type": "execute_result"
        }
      ],
      "source": [
        "app_data['Reviews'].unique()"
      ]
    },
    {
      "cell_type": "markdown",
      "metadata": {
        "colab_type": "text",
        "id": "x3e2A-g_mAnW"
      },
      "source": [
        "Since we only have integer values, we can directly convert the reviews into integers (they are currently strings)."
      ]
    },
    {
      "cell_type": "code",
      "execution_count": 117,
      "metadata": {
        "colab": {
          "base_uri": "https://localhost:8080/",
          "height": 34
        },
        "colab_type": "code",
        "id": "C46z-9yelyF1",
        "outputId": "a7be7e20-589b-43ac-ec62-1dc4ab57cd17"
      },
      "outputs": [
        {
          "data": {
            "text/plain": [
              "array([   159,    967,  87510, ...,    603,   1195, 398307])"
            ]
          },
          "execution_count": 117,
          "metadata": {
            "tags": []
          },
          "output_type": "execute_result"
        }
      ],
      "source": [
        "app_data['Reviews'] = app_data['Reviews'].apply(string_to_int)\n",
        "app_data['Reviews'].unique()"
      ]
    },
    {
      "cell_type": "markdown",
      "metadata": {
        "colab_type": "text",
        "id": "E1I3IMhRnLLA"
      },
      "source": [
        "#### b) SIZE"
      ]
    },
    {
      "cell_type": "code",
      "execution_count": 118,
      "metadata": {
        "colab": {
          "base_uri": "https://localhost:8080/",
          "height": 874
        },
        "colab_type": "code",
        "id": "JXUBsadHlgzl",
        "outputId": "dc4161c3-51c2-4ff0-841d-d3d135905fc9"
      },
      "outputs": [
        {
          "data": {
            "text/plain": [
              "array(['19M', '14M', '8.7M', '25M', '2.8M', '5.6M', '29M', '33M', '3.1M',\n",
              "       '28M', '12M', '20M', '21M', '37M', '2.7M', '5.5M', '17M', '39M',\n",
              "       '31M', '4.2M', '23M', '6.0M', '6.1M', '4.6M', '9.2M', '5.2M',\n",
              "       '11M', '24M', 'Varies with device', '9.4M', '15M', '10M', '1.2M',\n",
              "       '26M', '8.0M', '7.9M', '56M', '57M', '35M', '54M', '201k', '3.6M',\n",
              "       '5.7M', '8.6M', '2.4M', '27M', '2.5M', '7.0M', '16M', '3.4M',\n",
              "       '8.9M', '3.9M', '2.9M', '38M', '32M', '5.4M', '18M', '1.1M',\n",
              "       '2.2M', '4.5M', '9.8M', '52M', '9.0M', '6.7M', '30M', '2.6M',\n",
              "       '7.1M', '22M', '6.4M', '3.2M', '8.2M', '4.9M', '9.5M', '5.0M',\n",
              "       '5.9M', '13M', '73M', '6.8M', '3.5M', '4.0M', '2.3M', '2.1M',\n",
              "       '42M', '9.1M', '55M', '23k', '7.3M', '6.5M', '1.5M', '7.5M', '51M',\n",
              "       '41M', '48M', '8.5M', '46M', '8.3M', '4.3M', '4.7M', '3.3M', '40M',\n",
              "       '7.8M', '8.8M', '6.6M', '5.1M', '61M', '66M', '79k', '8.4M',\n",
              "       '3.7M', '118k', '44M', '695k', '1.6M', '6.2M', '53M', '1.4M',\n",
              "       '3.0M', '7.2M', '5.8M', '3.8M', '9.6M', '45M', '63M', '49M', '77M',\n",
              "       '4.4M', '70M', '9.3M', '8.1M', '36M', '6.9M', '7.4M', '84M', '97M',\n",
              "       '2.0M', '1.9M', '1.8M', '5.3M', '47M', '556k', '526k', '76M',\n",
              "       '7.6M', '59M', '9.7M', '78M', '72M', '43M', '7.7M', '6.3M', '334k',\n",
              "       '93M', '65M', '79M', '100M', '58M', '50M', '68M', '64M', '34M',\n",
              "       '67M', '60M', '94M', '9.9M', '232k', '99M', '624k', '95M', '8.5k',\n",
              "       '41k', '292k', '11k', '80M', '1.7M', '10.0M', '74M', '62M', '69M',\n",
              "       '75M', '98M', '85M', '82M', '96M', '87M', '71M', '86M', '91M',\n",
              "       '81M', '92M', '83M', '88M', '704k', '862k', '899k', '378k', '4.8M',\n",
              "       '266k', '375k', '1.3M', '975k', '980k', '4.1M', '89M', '696k',\n",
              "       '544k', '525k', '920k', '779k', '853k', '720k', '713k', '772k',\n",
              "       '318k', '58k', '241k', '196k', '857k', '51k', '953k', '865k',\n",
              "       '251k', '930k', '540k', '313k', '746k', '203k', '26k', '314k',\n",
              "       '239k', '371k', '220k', '730k', '756k', '91k', '293k', '17k',\n",
              "       '74k', '14k', '317k', '78k', '924k', '818k', '81k', '939k', '169k',\n",
              "       '45k', '965k', '90M', '545k', '61k', '283k', '655k', '714k', '93k',\n",
              "       '872k', '121k', '322k', '976k', '206k', '954k', '444k', '717k',\n",
              "       '210k', '609k', '308k', '306k', '175k', '350k', '383k', '454k',\n",
              "       '1.0M', '70k', '812k', '442k', '842k', '417k', '412k', '459k',\n",
              "       '478k', '335k', '782k', '721k', '430k', '429k', '192k', '460k',\n",
              "       '728k', '496k', '816k', '414k', '506k', '887k', '613k', '778k',\n",
              "       '683k', '592k', '186k', '840k', '647k', '373k', '437k', '598k',\n",
              "       '716k', '585k', '982k', '219k', '55k', '323k', '691k', '511k',\n",
              "       '951k', '963k', '25k', '554k', '351k', '27k', '82k', '208k',\n",
              "       '551k', '29k', '103k', '116k', '153k', '209k', '499k', '173k',\n",
              "       '597k', '809k', '122k', '411k', '400k', '801k', '787k', '50k',\n",
              "       '643k', '986k', '516k', '837k', '780k', '20k', '498k', '600k',\n",
              "       '656k', '221k', '228k', '176k', '34k', '259k', '164k', '458k',\n",
              "       '629k', '28k', '288k', '775k', '785k', '636k', '916k', '994k',\n",
              "       '309k', '485k', '914k', '903k', '608k', '500k', '54k', '562k',\n",
              "       '847k', '948k', '811k', '270k', '48k', '523k', '784k', '280k',\n",
              "       '24k', '892k', '154k', '18k', '33k', '860k', '364k', '387k',\n",
              "       '626k', '161k', '879k', '39k', '170k', '141k', '160k', '144k',\n",
              "       '143k', '190k', '376k', '193k', '473k', '246k', '73k', '253k',\n",
              "       '957k', '420k', '72k', '404k', '470k', '226k', '240k', '89k',\n",
              "       '234k', '257k', '861k', '467k', '676k', '552k', '582k', '619k'],\n",
              "      dtype=object)"
            ]
          },
          "execution_count": 118,
          "metadata": {
            "tags": []
          },
          "output_type": "execute_result"
        }
      ],
      "source": [
        "app_data['Size'].unique()"
      ]
    },
    {
      "cell_type": "markdown",
      "metadata": {
        "colab_type": "text",
        "id": "h0ahRbTinqrv"
      },
      "source": [
        "We need to scale all the sizes to the same unit, and get rid of the 'M' or 'K' and of course remove rows that have 'Varies with device'."
      ]
    },
    {
      "cell_type": "code",
      "execution_count": 119,
      "metadata": {
        "colab": {
          "base_uri": "https://localhost:8080/",
          "height": 1000
        },
        "colab_type": "code",
        "id": "OLM0atS7oRFA",
        "outputId": "566a2ca1-24a4-4f38-e3b2-d3ba838b2658"
      },
      "outputs": [
        {
          "data": {
            "text/plain": [
              "array([ 19000000,  14000000,   8700000,  25000000,   2800000,   5600000,\n",
              "        29000000,  33000000,   3100000,  28000000,  12000000,  20000000,\n",
              "        21000000,  37000000,   2700000,   5500000,  17000000,  39000000,\n",
              "        31000000,   4200000,  23000000,   6000000,   6100000,   4600000,\n",
              "         9200000,   5200000,  11000000,  24000000,   9400000,  15000000,\n",
              "        10000000,   1200000,  26000000,   8000000,   7900000,  56000000,\n",
              "        57000000,  35000000,  54000000,    201000,   3600000,   5700000,\n",
              "         8600000,   2400000,  27000000,   2500000,   7000000,  16000000,\n",
              "         3400000,   8900000,   3900000,   2900000,  38000000,  32000000,\n",
              "         5400000,  18000000,   1100000,   2200000,   4500000,   9800000,\n",
              "        52000000,   9000000,   6700000,  30000000,   2600000,   7100000,\n",
              "        22000000,   6400000,   3200000,   8199999,   4900000,   9500000,\n",
              "         5000000,   5900000,  13000000,  73000000,   6800000,   3500000,\n",
              "         4000000,   2300000,   2100000,  42000000,   9100000,  55000000,\n",
              "           23000,   7300000,   6500000,   1500000,   7500000,  51000000,\n",
              "        41000000,  48000000,   8500000,  46000000,   8300000,   4300000,\n",
              "         4700000,   3300000,  40000000,   7800000,   8800000,   6600000,\n",
              "         5100000,  61000000,  66000000,     79000,   8400000,   3700000,\n",
              "          118000,  44000000,    695000,   1600000,   6200000,  53000000,\n",
              "         1400000,   3000000,   7200000,   5800000,   3800000,   9600000,\n",
              "        45000000,  63000000,  49000000,  77000000,   4400000,  70000000,\n",
              "         9300000,   8100000,  36000000,   6900000,   7400000,  84000000,\n",
              "        97000000,   2000000,   1900000,   1800000,   5300000,  47000000,\n",
              "          556000,    526000,  76000000,   7600000,  59000000,   9700000,\n",
              "        78000000,  72000000,  43000000,   7700000,   6300000,    334000,\n",
              "        93000000,  65000000,  79000000, 100000000,  58000000,  50000000,\n",
              "        68000000,  64000000,  34000000,  67000000,  60000000,  94000000,\n",
              "         9900000,    232000,  99000000,    624000,  95000000,      8500,\n",
              "           41000,    292000,     11000,  80000000,   1700000,  74000000,\n",
              "        62000000,  69000000,  75000000,  98000000,  85000000,  82000000,\n",
              "        96000000,  87000000,  71000000,  86000000,  91000000,  81000000,\n",
              "        92000000,  83000000,  88000000,    704000,    862000,    899000,\n",
              "          378000,   4800000,    266000,    375000,   1300000,    975000,\n",
              "          980000,   4099999,  89000000,    696000,    544000,    525000,\n",
              "          920000,    779000,    853000,    720000,    713000,    772000,\n",
              "          318000,     58000,    241000,    196000,    857000,     51000,\n",
              "          953000,    865000,    251000,    930000,    540000,    313000,\n",
              "          746000,    203000,     26000,    314000,    239000,    371000,\n",
              "          220000,    730000,    756000,     91000,    293000,     17000,\n",
              "           74000,     14000,    317000,     78000,    924000,    818000,\n",
              "           81000,    939000,    169000,     45000,    965000,  90000000,\n",
              "          545000,     61000,    283000,    655000,    714000,     93000,\n",
              "          872000,    121000,    322000,    976000,    206000,    954000,\n",
              "          444000,    717000,    210000,    609000,    308000,    306000,\n",
              "          175000,    350000,    383000,    454000,   1000000,     70000,\n",
              "          812000,    442000,    842000,    417000,    412000,    459000,\n",
              "          478000,    335000,    782000,    721000,    430000,    429000,\n",
              "          192000,    460000,    728000,    496000,    816000,    414000,\n",
              "          506000,    887000,    613000,    778000,    683000,    592000,\n",
              "          186000,    840000,    647000,    373000,    437000,    598000,\n",
              "          716000,    585000,    982000,    219000,     55000,    323000,\n",
              "          691000,    511000,    951000,    963000,     25000,    554000,\n",
              "          351000,     27000,     82000,    208000,    551000,     29000,\n",
              "          103000,    116000,    153000,    209000,    499000,    173000,\n",
              "          597000,    809000,    122000,    411000,    400000,    801000,\n",
              "          787000,     50000,    643000,    986000,    516000,    837000,\n",
              "          780000,     20000,    498000,    600000,    656000,    221000,\n",
              "          228000,    176000,     34000,    259000,    164000,    458000,\n",
              "          629000,     28000,    288000,    775000,    785000,    636000,\n",
              "          916000,    994000,    309000,    485000,    914000,    903000,\n",
              "          608000,    500000,     54000,    562000,    847000,    948000,\n",
              "          811000,    270000,     48000,    523000,    784000,    280000,\n",
              "           24000,    892000,    154000,     18000,     33000,    860000,\n",
              "          364000,    387000,    626000,    161000,    879000,     39000,\n",
              "          170000,    141000,    160000,    144000,    143000,    190000,\n",
              "          376000,    193000,    473000,    246000,     73000,    253000,\n",
              "          957000,    420000,     72000,    404000,    470000,    226000,\n",
              "          240000,     89000,    234000,    257000,    861000,    467000,\n",
              "          676000,    552000,    582000,    619000])"
            ]
          },
          "execution_count": 119,
          "metadata": {
            "tags": []
          },
          "output_type": "execute_result"
        }
      ],
      "source": [
        "app_data = app_data[app_data.Size != 'Varies with device']\n",
        "app_data['Size'] = app_data['Size'].apply(string_to_int)\n",
        "app_data['Size'].unique()"
      ]
    },
    {
      "cell_type": "markdown",
      "metadata": {
        "colab_type": "text",
        "id": "-akC7v63uDR8"
      },
      "source": [
        "#### c) INSTALLS"
      ]
    },
    {
      "cell_type": "code",
      "execution_count": 120,
      "metadata": {
        "colab": {
          "base_uri": "https://localhost:8080/",
          "height": 84
        },
        "colab_type": "code",
        "id": "GMb3JANjuSju",
        "outputId": "edcaba97-152d-4441-b983-0fccaf600664"
      },
      "outputs": [
        {
          "data": {
            "text/plain": [
              "array(['10,000+', '500,000+', '5,000,000+', '50,000,000+', '100,000+',\n",
              "       '50,000+', '1,000,000+', '10,000,000+', '5,000+', '100,000,000+',\n",
              "       '1,000+', '500,000,000+', '100+', '500+', '10+', '1,000,000,000+',\n",
              "       '5+', '50+', '1+'], dtype=object)"
            ]
          },
          "execution_count": 120,
          "metadata": {
            "tags": []
          },
          "output_type": "execute_result"
        }
      ],
      "source": [
        "app_data['Installs'].unique()"
      ]
    },
    {
      "cell_type": "markdown",
      "metadata": {
        "colab_type": "text",
        "id": "KKZVc4cIuYxr"
      },
      "source": [
        "Here we need to remove the \"+\"."
      ]
    },
    {
      "cell_type": "code",
      "execution_count": 121,
      "metadata": {
        "colab": {
          "base_uri": "https://localhost:8080/",
          "height": 84
        },
        "colab_type": "code",
        "id": "Z0o0OQAYv0OL",
        "outputId": "0636c403-6855-4d03-b317-f9a5cce0fe60"
      },
      "outputs": [
        {
          "data": {
            "text/plain": [
              "array([     10000,     500000,    5000000,   50000000,     100000,\n",
              "            50000,    1000000,   10000000,       5000,  100000000,\n",
              "             1000,  500000000,        100,        500,         10,\n",
              "       1000000000,          5,         50,          1])"
            ]
          },
          "execution_count": 121,
          "metadata": {
            "tags": []
          },
          "output_type": "execute_result"
        }
      ],
      "source": [
        "app_data['Installs'] = app_data['Installs'].apply(string_to_int)\n",
        "app_data['Installs'].unique()"
      ]
    },
    {
      "cell_type": "markdown",
      "metadata": {
        "colab_type": "text",
        "id": "Bi4WwUy_ulgs"
      },
      "source": [
        "#### d) PRICE"
      ]
    },
    {
      "cell_type": "code",
      "execution_count": 122,
      "metadata": {
        "colab": {
          "base_uri": "https://localhost:8080/",
          "height": 185
        },
        "colab_type": "code",
        "id": "L0iCrHtacsGS",
        "outputId": "a1bae424-5208-4bc3-eaef-b25960ae197b"
      },
      "outputs": [
        {
          "data": {
            "text/plain": [
              "array(['0', '$4.99', '$6.99', '$7.99', '$3.99', '$5.99', '$2.99', '$1.99',\n",
              "       '$9.99', '$0.99', '$9.00', '$5.49', '$10.00', '$24.99', '$11.99',\n",
              "       '$79.99', '$16.99', '$14.99', '$29.99', '$12.99', '$3.49',\n",
              "       '$10.99', '$7.49', '$1.50', '$19.99', '$15.99', '$33.99', '$39.99',\n",
              "       '$2.49', '$4.49', '$1.70', '$1.49', '$3.88', '$399.99', '$17.99',\n",
              "       '$400.00', '$3.02', '$1.76', '$4.84', '$4.77', '$1.61', '$1.59',\n",
              "       '$6.49', '$1.29', '$299.99', '$379.99', '$37.99', '$18.99',\n",
              "       '$389.99', '$8.49', '$1.75', '$14.00', '$2.00', '$3.08', '$2.59',\n",
              "       '$19.40', '$15.46', '$8.99', '$3.04', '$13.99', '$4.29', '$3.28',\n",
              "       '$4.60', '$1.00', '$2.90', '$1.97', '$2.56', '$1.20'], dtype=object)"
            ]
          },
          "execution_count": 122,
          "metadata": {
            "tags": []
          },
          "output_type": "execute_result"
        }
      ],
      "source": [
        "app_data['Price'].unique()"
      ]
    },
    {
      "cell_type": "markdown",
      "metadata": {
        "colab_type": "text",
        "id": "6Fw9s7heu2Ix"
      },
      "source": [
        "We have to remove the \"$\" sign and convert the prices into cents in order to work with integer values."
      ]
    },
    {
      "cell_type": "code",
      "execution_count": 123,
      "metadata": {
        "colab": {
          "base_uri": "https://localhost:8080/",
          "height": 151
        },
        "colab_type": "code",
        "id": "ceN6wtzHv7og",
        "outputId": "6e7959f5-34f9-4190-eb59-09426b72f10e"
      },
      "outputs": [
        {
          "data": {
            "text/plain": [
              "array([    0,   499,   699,   799,   399,   599,   299,   199,   999,\n",
              "          99,   900,   549,  1000,  2499,  1199,  7998,  1698,  1499,\n",
              "        2999,  1299,   349,  1099,   749,   150,  1998,  1599,  3399,\n",
              "        3999,   249,   449,   170,   149,   388, 39999,  1798, 40000,\n",
              "         302,   176,   484,   476,   161,   159,   649,   129, 29999,\n",
              "       37999,  3799,  1898, 38999,   849,   175,  1400,   200,   308,\n",
              "         259,  1939,  1546,   899,   304,  1399,   429,   328,   459,\n",
              "         100,   290,   197,   256,   120])"
            ]
          },
          "execution_count": 123,
          "metadata": {
            "tags": []
          },
          "output_type": "execute_result"
        }
      ],
      "source": [
        "app_data['Price'] = app_data['Price'].apply(string_to_int)\n",
        "app_data['Price'].unique()"
      ]
    },
    {
      "cell_type": "markdown",
      "metadata": {
        "colab_type": "text",
        "id": "eIWlE5bvAcLU"
      },
      "source": [
        "### II. 4. Changing fields with non numerical nature to numbers"
      ]
    },
    {
      "cell_type": "markdown",
      "metadata": {
        "colab_type": "text",
        "id": "1qaPsqwnwF1u"
      },
      "source": [
        "#### a) TYPE"
      ]
    },
    {
      "cell_type": "code",
      "execution_count": 124,
      "metadata": {
        "colab": {
          "base_uri": "https://localhost:8080/",
          "height": 34
        },
        "colab_type": "code",
        "id": "Va17XzaJwNHJ",
        "outputId": "0e161e59-4ae1-4cdc-a763-25bae1f06634"
      },
      "outputs": [
        {
          "data": {
            "text/plain": [
              "array(['Free', 'Paid'], dtype=object)"
            ]
          },
          "execution_count": 124,
          "metadata": {
            "tags": []
          },
          "output_type": "execute_result"
        }
      ],
      "source": [
        "app_data['Type'].unique()"
      ]
    },
    {
      "cell_type": "markdown",
      "metadata": {
        "colab_type": "text",
        "id": "tQdSYdiogLwi"
      },
      "source": [
        "We can convert the *Type* column into a binary $0/1$ column since it contains either 'Free' or 'Paid' tags."
      ]
    },
    {
      "cell_type": "code",
      "execution_count": 125,
      "metadata": {
        "colab": {
          "base_uri": "https://localhost:8080/",
          "height": 34
        },
        "colab_type": "code",
        "id": "leJdQ3g4wYr0",
        "outputId": "098533c0-ca00-466e-8235-391e8742597a"
      },
      "outputs": [
        {
          "data": {
            "text/plain": [
              "array([0, 1])"
            ]
          },
          "execution_count": 125,
          "metadata": {
            "tags": []
          },
          "output_type": "execute_result"
        }
      ],
      "source": [
        "app_data['Type'] = app_data['Type'].apply(type_to_binary)\n",
        "app_data['Type'].unique()"
      ]
    },
    {
      "cell_type": "markdown",
      "metadata": {
        "colab_type": "text",
        "id": "dWdQSdYSyDRq"
      },
      "source": [
        "#### b) CONTENT RATING"
      ]
    },
    {
      "cell_type": "code",
      "execution_count": 126,
      "metadata": {
        "colab": {
          "base_uri": "https://localhost:8080/",
          "height": 50
        },
        "colab_type": "code",
        "id": "n_fYamFYgpcJ",
        "outputId": "5d6c9030-70bb-4974-fa6f-aeea78d01eb8"
      },
      "outputs": [
        {
          "data": {
            "text/plain": [
              "array(['Everyone', 'Teen', 'Everyone 10+', 'Mature 17+',\n",
              "       'Adults only 18+', 'Unrated'], dtype=object)"
            ]
          },
          "execution_count": 126,
          "metadata": {
            "tags": []
          },
          "output_type": "execute_result"
        }
      ],
      "source": [
        "app_data['Content Rating'].unique()"
      ]
    },
    {
      "cell_type": "markdown",
      "metadata": {
        "colab_type": "text",
        "id": "jKyf7SgEyW2S"
      },
      "source": [
        "For the content rating, we can give an integer order to the tags. For example, *Unrated* $= 0$, ..., *Everyone* $= 5$."
      ]
    },
    {
      "cell_type": "code",
      "execution_count": 127,
      "metadata": {
        "colab": {
          "base_uri": "https://localhost:8080/",
          "height": 34
        },
        "colab_type": "code",
        "id": "hxvi5Z8KyWLw",
        "outputId": "7fe3a1f8-7086-4b51-9974-24173066b10b"
      },
      "outputs": [
        {
          "data": {
            "text/plain": [
              "array([5, 4, 3, 2, 1, 0])"
            ]
          },
          "execution_count": 127,
          "metadata": {
            "tags": []
          },
          "output_type": "execute_result"
        }
      ],
      "source": [
        "app_data['Content Rating'] = app_data['Content Rating'].apply(CR_to_int(app_data['Content Rating'].unique()))\n",
        "app_data['Content Rating'].unique()"
      ]
    },
    {
      "cell_type": "markdown",
      "metadata": {
        "colab_type": "text",
        "id": "yFR31O_c014x"
      },
      "source": [
        "#### c) CATEGORY"
      ]
    },
    {
      "cell_type": "code",
      "execution_count": 128,
      "metadata": {
        "colab": {
          "base_uri": "https://localhost:8080/",
          "height": 168
        },
        "colab_type": "code",
        "id": "vRPtw2sRxdx-",
        "outputId": "f89ce1f1-df51-4fb9-d52d-844d7566653c"
      },
      "outputs": [
        {
          "data": {
            "text/plain": [
              "array(['ART_AND_DESIGN', 'AUTO_AND_VEHICLES', 'BEAUTY',\n",
              "       'BOOKS_AND_REFERENCE', 'BUSINESS', 'COMICS', 'COMMUNICATION',\n",
              "       'DATING', 'EDUCATION', 'ENTERTAINMENT', 'EVENTS', 'FINANCE',\n",
              "       'FOOD_AND_DRINK', 'HEALTH_AND_FITNESS', 'HOUSE_AND_HOME',\n",
              "       'LIBRARIES_AND_DEMO', 'LIFESTYLE', 'GAME', 'FAMILY', 'MEDICAL',\n",
              "       'SOCIAL', 'SHOPPING', 'PHOTOGRAPHY', 'SPORTS', 'TRAVEL_AND_LOCAL',\n",
              "       'TOOLS', 'PERSONALIZATION', 'PRODUCTIVITY', 'PARENTING', 'WEATHER',\n",
              "       'VIDEO_PLAYERS', 'NEWS_AND_MAGAZINES', 'MAPS_AND_NAVIGATION'],\n",
              "      dtype=object)"
            ]
          },
          "execution_count": 128,
          "metadata": {
            "tags": []
          },
          "output_type": "execute_result"
        }
      ],
      "source": [
        "app_data['Category'].unique()"
      ]
    },
    {
      "cell_type": "markdown",
      "metadata": {
        "colab_type": "text",
        "id": "gjPanMZy331o"
      },
      "source": [
        "Since we can't order the categories, it's not recommanded to transform this field into an integer field. \\\\\n",
        "Instead, we create dummy columns to represent each category. "
      ]
    },
    {
      "cell_type": "code",
      "execution_count": 129,
      "metadata": {
        "colab": {
          "base_uri": "https://localhost:8080/",
          "height": 261
        },
        "colab_type": "code",
        "id": "s9tBfnkJ218N",
        "outputId": "0c6c5e5c-fa9b-4ed4-d434-55c9a4579d70"
      },
      "outputs": [
        {
          "data": {
            "text/html": [
              "<div>\n",
              "<style scoped>\n",
              "    .dataframe tbody tr th:only-of-type {\n",
              "        vertical-align: middle;\n",
              "    }\n",
              "\n",
              "    .dataframe tbody tr th {\n",
              "        vertical-align: top;\n",
              "    }\n",
              "\n",
              "    .dataframe thead th {\n",
              "        text-align: right;\n",
              "    }\n",
              "</style>\n",
              "<table border=\"1\" class=\"dataframe\">\n",
              "  <thead>\n",
              "    <tr style=\"text-align: right;\">\n",
              "      <th></th>\n",
              "      <th>App</th>\n",
              "      <th>Rating</th>\n",
              "      <th>Reviews</th>\n",
              "      <th>Size</th>\n",
              "      <th>Installs</th>\n",
              "      <th>Type</th>\n",
              "      <th>Price</th>\n",
              "      <th>Content Rating</th>\n",
              "      <th>Genres</th>\n",
              "      <th>Category_ART_AND_DESIGN</th>\n",
              "      <th>Category_AUTO_AND_VEHICLES</th>\n",
              "      <th>Category_BEAUTY</th>\n",
              "      <th>Category_BOOKS_AND_REFERENCE</th>\n",
              "      <th>Category_BUSINESS</th>\n",
              "      <th>Category_COMICS</th>\n",
              "      <th>Category_COMMUNICATION</th>\n",
              "      <th>Category_DATING</th>\n",
              "      <th>Category_EDUCATION</th>\n",
              "      <th>Category_ENTERTAINMENT</th>\n",
              "      <th>Category_EVENTS</th>\n",
              "      <th>Category_FAMILY</th>\n",
              "      <th>Category_FINANCE</th>\n",
              "      <th>Category_FOOD_AND_DRINK</th>\n",
              "      <th>Category_GAME</th>\n",
              "      <th>Category_HEALTH_AND_FITNESS</th>\n",
              "      <th>Category_HOUSE_AND_HOME</th>\n",
              "      <th>Category_LIBRARIES_AND_DEMO</th>\n",
              "      <th>Category_LIFESTYLE</th>\n",
              "      <th>Category_MAPS_AND_NAVIGATION</th>\n",
              "      <th>Category_MEDICAL</th>\n",
              "      <th>Category_NEWS_AND_MAGAZINES</th>\n",
              "      <th>Category_PARENTING</th>\n",
              "      <th>Category_PERSONALIZATION</th>\n",
              "      <th>Category_PHOTOGRAPHY</th>\n",
              "      <th>Category_PRODUCTIVITY</th>\n",
              "      <th>Category_SHOPPING</th>\n",
              "      <th>Category_SOCIAL</th>\n",
              "      <th>Category_SPORTS</th>\n",
              "      <th>Category_TOOLS</th>\n",
              "      <th>Category_TRAVEL_AND_LOCAL</th>\n",
              "      <th>Category_VIDEO_PLAYERS</th>\n",
              "      <th>Category_WEATHER</th>\n",
              "    </tr>\n",
              "  </thead>\n",
              "  <tbody>\n",
              "    <tr>\n",
              "      <th>0</th>\n",
              "      <td>Photo Editor &amp; Candy Camera &amp; Grid &amp; ScrapBook</td>\n",
              "      <td>4.1</td>\n",
              "      <td>159</td>\n",
              "      <td>19000000</td>\n",
              "      <td>10000</td>\n",
              "      <td>0</td>\n",
              "      <td>0</td>\n",
              "      <td>5</td>\n",
              "      <td>Art &amp; Design</td>\n",
              "      <td>1</td>\n",
              "      <td>0</td>\n",
              "      <td>0</td>\n",
              "      <td>0</td>\n",
              "      <td>0</td>\n",
              "      <td>0</td>\n",
              "      <td>0</td>\n",
              "      <td>0</td>\n",
              "      <td>0</td>\n",
              "      <td>0</td>\n",
              "      <td>0</td>\n",
              "      <td>0</td>\n",
              "      <td>0</td>\n",
              "      <td>0</td>\n",
              "      <td>0</td>\n",
              "      <td>0</td>\n",
              "      <td>0</td>\n",
              "      <td>0</td>\n",
              "      <td>0</td>\n",
              "      <td>0</td>\n",
              "      <td>0</td>\n",
              "      <td>0</td>\n",
              "      <td>0</td>\n",
              "      <td>0</td>\n",
              "      <td>0</td>\n",
              "      <td>0</td>\n",
              "      <td>0</td>\n",
              "      <td>0</td>\n",
              "      <td>0</td>\n",
              "      <td>0</td>\n",
              "      <td>0</td>\n",
              "      <td>0</td>\n",
              "      <td>0</td>\n",
              "    </tr>\n",
              "    <tr>\n",
              "      <th>1</th>\n",
              "      <td>Coloring book moana</td>\n",
              "      <td>3.9</td>\n",
              "      <td>967</td>\n",
              "      <td>14000000</td>\n",
              "      <td>500000</td>\n",
              "      <td>0</td>\n",
              "      <td>0</td>\n",
              "      <td>5</td>\n",
              "      <td>Art &amp; Design;Pretend Play</td>\n",
              "      <td>1</td>\n",
              "      <td>0</td>\n",
              "      <td>0</td>\n",
              "      <td>0</td>\n",
              "      <td>0</td>\n",
              "      <td>0</td>\n",
              "      <td>0</td>\n",
              "      <td>0</td>\n",
              "      <td>0</td>\n",
              "      <td>0</td>\n",
              "      <td>0</td>\n",
              "      <td>0</td>\n",
              "      <td>0</td>\n",
              "      <td>0</td>\n",
              "      <td>0</td>\n",
              "      <td>0</td>\n",
              "      <td>0</td>\n",
              "      <td>0</td>\n",
              "      <td>0</td>\n",
              "      <td>0</td>\n",
              "      <td>0</td>\n",
              "      <td>0</td>\n",
              "      <td>0</td>\n",
              "      <td>0</td>\n",
              "      <td>0</td>\n",
              "      <td>0</td>\n",
              "      <td>0</td>\n",
              "      <td>0</td>\n",
              "      <td>0</td>\n",
              "      <td>0</td>\n",
              "      <td>0</td>\n",
              "      <td>0</td>\n",
              "      <td>0</td>\n",
              "    </tr>\n",
              "  </tbody>\n",
              "</table>\n",
              "</div>"
            ],
            "text/plain": [
              "                                              App  ...  Category_WEATHER\n",
              "0  Photo Editor & Candy Camera & Grid & ScrapBook  ...                 0\n",
              "1                             Coloring book moana  ...                 0\n",
              "\n",
              "[2 rows x 42 columns]"
            ]
          },
          "execution_count": 129,
          "metadata": {
            "tags": []
          },
          "output_type": "execute_result"
        }
      ],
      "source": [
        "app_data = pd.get_dummies(app_data, columns=['Category'])\n",
        "app_data.head(2)"
      ]
    },
    {
      "cell_type": "markdown",
      "metadata": {
        "colab_type": "text",
        "id": "AoIEpuEG5TO7"
      },
      "source": [
        "#### d) GENRES"
      ]
    },
    {
      "cell_type": "code",
      "execution_count": 130,
      "metadata": {
        "colab": {
          "base_uri": "https://localhost:8080/",
          "height": 739
        },
        "colab_type": "code",
        "id": "qVZHQBW32--5",
        "outputId": "37d3b05f-a6a6-4a6b-82af-464f6dccce8a"
      },
      "outputs": [
        {
          "data": {
            "text/plain": [
              "array(['Art & Design', 'Art & Design;Pretend Play',\n",
              "       'Art & Design;Creativity', 'Auto & Vehicles', 'Beauty',\n",
              "       'Books & Reference', 'Business', 'Comics', 'Comics;Creativity',\n",
              "       'Communication', 'Dating', 'Education', 'Education;Creativity',\n",
              "       'Education;Education', 'Education;Action & Adventure',\n",
              "       'Education;Pretend Play', 'Education;Brain Games', 'Entertainment',\n",
              "       'Entertainment;Brain Games', 'Entertainment;Music & Video',\n",
              "       'Events', 'Finance', 'Food & Drink', 'Health & Fitness',\n",
              "       'House & Home', 'Libraries & Demo', 'Lifestyle',\n",
              "       'Lifestyle;Pretend Play', 'Adventure;Action & Adventure', 'Arcade',\n",
              "       'Casual', 'Card', 'Casual;Pretend Play', 'Strategy', 'Action',\n",
              "       'Puzzle', 'Sports', 'Word', 'Racing', 'Casual;Creativity',\n",
              "       'Simulation', 'Adventure', 'Board', 'Trivia', 'Role Playing',\n",
              "       'Simulation;Education', 'Action;Action & Adventure',\n",
              "       'Casual;Brain Games', 'Simulation;Action & Adventure',\n",
              "       'Educational;Creativity', 'Puzzle;Brain Games',\n",
              "       'Educational;Education', 'Card;Brain Games',\n",
              "       'Educational;Brain Games', 'Educational;Pretend Play',\n",
              "       'Casual;Action & Adventure', 'Entertainment;Education',\n",
              "       'Casual;Education', 'Music;Music & Video', 'Arcade;Pretend Play',\n",
              "       'Simulation;Pretend Play', 'Puzzle;Creativity',\n",
              "       'Racing;Action & Adventure', 'Educational;Action & Adventure',\n",
              "       'Arcade;Action & Adventure', 'Entertainment;Action & Adventure',\n",
              "       'Puzzle;Action & Adventure', 'Role Playing;Action & Adventure',\n",
              "       'Strategy;Action & Adventure', 'Music & Audio;Music & Video',\n",
              "       'Health & Fitness;Education', 'Adventure;Education',\n",
              "       'Board;Brain Games', 'Board;Action & Adventure',\n",
              "       'Board;Pretend Play', 'Casual;Music & Video',\n",
              "       'Education;Music & Video', 'Role Playing;Pretend Play',\n",
              "       'Entertainment;Pretend Play', 'Video Players & Editors;Creativity',\n",
              "       'Card;Action & Adventure', 'Medical', 'Social', 'Shopping',\n",
              "       'Photography', 'Travel & Local',\n",
              "       'Travel & Local;Action & Adventure', 'Tools', 'Personalization',\n",
              "       'Productivity', 'Parenting', 'Parenting;Brain Games',\n",
              "       'Parenting;Education', 'Parenting;Music & Video', 'Weather',\n",
              "       'Video Players & Editors', 'News & Magazines', 'Maps & Navigation',\n",
              "       'Health & Fitness;Action & Adventure', 'Music', 'Educational',\n",
              "       'Casino', 'Adventure;Brain Games',\n",
              "       'Video Players & Editors;Music & Video',\n",
              "       'Entertainment;Creativity', 'Sports;Action & Adventure',\n",
              "       'Books & Reference;Education', 'Puzzle;Education',\n",
              "       'Role Playing;Brain Games', 'Strategy;Education',\n",
              "       'Racing;Pretend Play', 'Strategy;Creativity'], dtype=object)"
            ]
          },
          "execution_count": 130,
          "metadata": {
            "tags": []
          },
          "output_type": "execute_result"
        }
      ],
      "source": [
        "app_data['Genres'].unique()\n"
      ]
    },
    {
      "cell_type": "markdown",
      "metadata": {
        "colab_type": "text",
        "id": "GkRPm6d47Wxh"
      },
      "source": [
        "We can make dummy columns for this field too."
      ]
    },
    {
      "cell_type": "code",
      "execution_count": 131,
      "metadata": {
        "colab": {
          "base_uri": "https://localhost:8080/",
          "height": 323
        },
        "colab_type": "code",
        "id": "QxplFIjZ7qd9",
        "outputId": "d50d9d44-5dd9-497c-bafa-f193d92567de"
      },
      "outputs": [
        {
          "data": {
            "text/html": [
              "<div>\n",
              "<style scoped>\n",
              "    .dataframe tbody tr th:only-of-type {\n",
              "        vertical-align: middle;\n",
              "    }\n",
              "\n",
              "    .dataframe tbody tr th {\n",
              "        vertical-align: top;\n",
              "    }\n",
              "\n",
              "    .dataframe thead th {\n",
              "        text-align: right;\n",
              "    }\n",
              "</style>\n",
              "<table border=\"1\" class=\"dataframe\">\n",
              "  <thead>\n",
              "    <tr style=\"text-align: right;\">\n",
              "      <th></th>\n",
              "      <th>App</th>\n",
              "      <th>Rating</th>\n",
              "      <th>Reviews</th>\n",
              "      <th>Size</th>\n",
              "      <th>Installs</th>\n",
              "      <th>Type</th>\n",
              "      <th>Price</th>\n",
              "      <th>Content Rating</th>\n",
              "      <th>Category_ART_AND_DESIGN</th>\n",
              "      <th>Category_AUTO_AND_VEHICLES</th>\n",
              "      <th>Category_BEAUTY</th>\n",
              "      <th>Category_BOOKS_AND_REFERENCE</th>\n",
              "      <th>Category_BUSINESS</th>\n",
              "      <th>Category_COMICS</th>\n",
              "      <th>Category_COMMUNICATION</th>\n",
              "      <th>Category_DATING</th>\n",
              "      <th>Category_EDUCATION</th>\n",
              "      <th>Category_ENTERTAINMENT</th>\n",
              "      <th>Category_EVENTS</th>\n",
              "      <th>Category_FAMILY</th>\n",
              "      <th>Category_FINANCE</th>\n",
              "      <th>Category_FOOD_AND_DRINK</th>\n",
              "      <th>Category_GAME</th>\n",
              "      <th>Category_HEALTH_AND_FITNESS</th>\n",
              "      <th>Category_HOUSE_AND_HOME</th>\n",
              "      <th>Category_LIBRARIES_AND_DEMO</th>\n",
              "      <th>Category_LIFESTYLE</th>\n",
              "      <th>Category_MAPS_AND_NAVIGATION</th>\n",
              "      <th>Category_MEDICAL</th>\n",
              "      <th>Category_NEWS_AND_MAGAZINES</th>\n",
              "      <th>Category_PARENTING</th>\n",
              "      <th>Category_PERSONALIZATION</th>\n",
              "      <th>Category_PHOTOGRAPHY</th>\n",
              "      <th>Category_PRODUCTIVITY</th>\n",
              "      <th>Category_SHOPPING</th>\n",
              "      <th>Category_SOCIAL</th>\n",
              "      <th>Category_SPORTS</th>\n",
              "      <th>Category_TOOLS</th>\n",
              "      <th>Category_TRAVEL_AND_LOCAL</th>\n",
              "      <th>Category_VIDEO_PLAYERS</th>\n",
              "      <th>...</th>\n",
              "      <th>Genres_Parenting</th>\n",
              "      <th>Genres_Parenting;Brain Games</th>\n",
              "      <th>Genres_Parenting;Education</th>\n",
              "      <th>Genres_Parenting;Music &amp; Video</th>\n",
              "      <th>Genres_Personalization</th>\n",
              "      <th>Genres_Photography</th>\n",
              "      <th>Genres_Productivity</th>\n",
              "      <th>Genres_Puzzle</th>\n",
              "      <th>Genres_Puzzle;Action &amp; Adventure</th>\n",
              "      <th>Genres_Puzzle;Brain Games</th>\n",
              "      <th>Genres_Puzzle;Creativity</th>\n",
              "      <th>Genres_Puzzle;Education</th>\n",
              "      <th>Genres_Racing</th>\n",
              "      <th>Genres_Racing;Action &amp; Adventure</th>\n",
              "      <th>Genres_Racing;Pretend Play</th>\n",
              "      <th>Genres_Role Playing</th>\n",
              "      <th>Genres_Role Playing;Action &amp; Adventure</th>\n",
              "      <th>Genres_Role Playing;Brain Games</th>\n",
              "      <th>Genres_Role Playing;Pretend Play</th>\n",
              "      <th>Genres_Shopping</th>\n",
              "      <th>Genres_Simulation</th>\n",
              "      <th>Genres_Simulation;Action &amp; Adventure</th>\n",
              "      <th>Genres_Simulation;Education</th>\n",
              "      <th>Genres_Simulation;Pretend Play</th>\n",
              "      <th>Genres_Social</th>\n",
              "      <th>Genres_Sports</th>\n",
              "      <th>Genres_Sports;Action &amp; Adventure</th>\n",
              "      <th>Genres_Strategy</th>\n",
              "      <th>Genres_Strategy;Action &amp; Adventure</th>\n",
              "      <th>Genres_Strategy;Creativity</th>\n",
              "      <th>Genres_Strategy;Education</th>\n",
              "      <th>Genres_Tools</th>\n",
              "      <th>Genres_Travel &amp; Local</th>\n",
              "      <th>Genres_Travel &amp; Local;Action &amp; Adventure</th>\n",
              "      <th>Genres_Trivia</th>\n",
              "      <th>Genres_Video Players &amp; Editors</th>\n",
              "      <th>Genres_Video Players &amp; Editors;Creativity</th>\n",
              "      <th>Genres_Video Players &amp; Editors;Music &amp; Video</th>\n",
              "      <th>Genres_Weather</th>\n",
              "      <th>Genres_Word</th>\n",
              "    </tr>\n",
              "  </thead>\n",
              "  <tbody>\n",
              "    <tr>\n",
              "      <th>0</th>\n",
              "      <td>Photo Editor &amp; Candy Camera &amp; Grid &amp; ScrapBook</td>\n",
              "      <td>4.1</td>\n",
              "      <td>159</td>\n",
              "      <td>19000000</td>\n",
              "      <td>10000</td>\n",
              "      <td>0</td>\n",
              "      <td>0</td>\n",
              "      <td>5</td>\n",
              "      <td>1</td>\n",
              "      <td>0</td>\n",
              "      <td>0</td>\n",
              "      <td>0</td>\n",
              "      <td>0</td>\n",
              "      <td>0</td>\n",
              "      <td>0</td>\n",
              "      <td>0</td>\n",
              "      <td>0</td>\n",
              "      <td>0</td>\n",
              "      <td>0</td>\n",
              "      <td>0</td>\n",
              "      <td>0</td>\n",
              "      <td>0</td>\n",
              "      <td>0</td>\n",
              "      <td>0</td>\n",
              "      <td>0</td>\n",
              "      <td>0</td>\n",
              "      <td>0</td>\n",
              "      <td>0</td>\n",
              "      <td>0</td>\n",
              "      <td>0</td>\n",
              "      <td>0</td>\n",
              "      <td>0</td>\n",
              "      <td>0</td>\n",
              "      <td>0</td>\n",
              "      <td>0</td>\n",
              "      <td>0</td>\n",
              "      <td>0</td>\n",
              "      <td>0</td>\n",
              "      <td>0</td>\n",
              "      <td>0</td>\n",
              "      <td>...</td>\n",
              "      <td>0</td>\n",
              "      <td>0</td>\n",
              "      <td>0</td>\n",
              "      <td>0</td>\n",
              "      <td>0</td>\n",
              "      <td>0</td>\n",
              "      <td>0</td>\n",
              "      <td>0</td>\n",
              "      <td>0</td>\n",
              "      <td>0</td>\n",
              "      <td>0</td>\n",
              "      <td>0</td>\n",
              "      <td>0</td>\n",
              "      <td>0</td>\n",
              "      <td>0</td>\n",
              "      <td>0</td>\n",
              "      <td>0</td>\n",
              "      <td>0</td>\n",
              "      <td>0</td>\n",
              "      <td>0</td>\n",
              "      <td>0</td>\n",
              "      <td>0</td>\n",
              "      <td>0</td>\n",
              "      <td>0</td>\n",
              "      <td>0</td>\n",
              "      <td>0</td>\n",
              "      <td>0</td>\n",
              "      <td>0</td>\n",
              "      <td>0</td>\n",
              "      <td>0</td>\n",
              "      <td>0</td>\n",
              "      <td>0</td>\n",
              "      <td>0</td>\n",
              "      <td>0</td>\n",
              "      <td>0</td>\n",
              "      <td>0</td>\n",
              "      <td>0</td>\n",
              "      <td>0</td>\n",
              "      <td>0</td>\n",
              "      <td>0</td>\n",
              "    </tr>\n",
              "    <tr>\n",
              "      <th>1</th>\n",
              "      <td>Coloring book moana</td>\n",
              "      <td>3.9</td>\n",
              "      <td>967</td>\n",
              "      <td>14000000</td>\n",
              "      <td>500000</td>\n",
              "      <td>0</td>\n",
              "      <td>0</td>\n",
              "      <td>5</td>\n",
              "      <td>1</td>\n",
              "      <td>0</td>\n",
              "      <td>0</td>\n",
              "      <td>0</td>\n",
              "      <td>0</td>\n",
              "      <td>0</td>\n",
              "      <td>0</td>\n",
              "      <td>0</td>\n",
              "      <td>0</td>\n",
              "      <td>0</td>\n",
              "      <td>0</td>\n",
              "      <td>0</td>\n",
              "      <td>0</td>\n",
              "      <td>0</td>\n",
              "      <td>0</td>\n",
              "      <td>0</td>\n",
              "      <td>0</td>\n",
              "      <td>0</td>\n",
              "      <td>0</td>\n",
              "      <td>0</td>\n",
              "      <td>0</td>\n",
              "      <td>0</td>\n",
              "      <td>0</td>\n",
              "      <td>0</td>\n",
              "      <td>0</td>\n",
              "      <td>0</td>\n",
              "      <td>0</td>\n",
              "      <td>0</td>\n",
              "      <td>0</td>\n",
              "      <td>0</td>\n",
              "      <td>0</td>\n",
              "      <td>0</td>\n",
              "      <td>...</td>\n",
              "      <td>0</td>\n",
              "      <td>0</td>\n",
              "      <td>0</td>\n",
              "      <td>0</td>\n",
              "      <td>0</td>\n",
              "      <td>0</td>\n",
              "      <td>0</td>\n",
              "      <td>0</td>\n",
              "      <td>0</td>\n",
              "      <td>0</td>\n",
              "      <td>0</td>\n",
              "      <td>0</td>\n",
              "      <td>0</td>\n",
              "      <td>0</td>\n",
              "      <td>0</td>\n",
              "      <td>0</td>\n",
              "      <td>0</td>\n",
              "      <td>0</td>\n",
              "      <td>0</td>\n",
              "      <td>0</td>\n",
              "      <td>0</td>\n",
              "      <td>0</td>\n",
              "      <td>0</td>\n",
              "      <td>0</td>\n",
              "      <td>0</td>\n",
              "      <td>0</td>\n",
              "      <td>0</td>\n",
              "      <td>0</td>\n",
              "      <td>0</td>\n",
              "      <td>0</td>\n",
              "      <td>0</td>\n",
              "      <td>0</td>\n",
              "      <td>0</td>\n",
              "      <td>0</td>\n",
              "      <td>0</td>\n",
              "      <td>0</td>\n",
              "      <td>0</td>\n",
              "      <td>0</td>\n",
              "      <td>0</td>\n",
              "      <td>0</td>\n",
              "    </tr>\n",
              "  </tbody>\n",
              "</table>\n",
              "<p>2 rows × 153 columns</p>\n",
              "</div>"
            ],
            "text/plain": [
              "                                              App  ...  Genres_Word\n",
              "0  Photo Editor & Candy Camera & Grid & ScrapBook  ...            0\n",
              "1                             Coloring book moana  ...            0\n",
              "\n",
              "[2 rows x 153 columns]"
            ]
          },
          "execution_count": 131,
          "metadata": {
            "tags": []
          },
          "output_type": "execute_result"
        }
      ],
      "source": [
        "app_data = pd.get_dummies(app_data, columns=['Genres'])\n",
        "app_data.head(2)"
      ]
    },
    {
      "cell_type": "markdown",
      "metadata": {
        "colab_type": "text",
        "id": "N4unG7Y7LJYx"
      },
      "source": [
        "### II. 5. Reuniting the two datasets"
      ]
    },
    {
      "cell_type": "markdown",
      "metadata": {
        "colab_type": "text",
        "id": "K0x5dwvpMY0k"
      },
      "source": [
        "#### a) SENTIMENT"
      ]
    },
    {
      "cell_type": "markdown",
      "metadata": {
        "colab_type": "text",
        "id": "JPTnMDTmLaHy"
      },
      "source": [
        "The most important feature in the user reviews table is the sentiment."
      ]
    },
    {
      "cell_type": "code",
      "execution_count": 132,
      "metadata": {
        "colab": {
          "base_uri": "https://localhost:8080/",
          "height": 34
        },
        "colab_type": "code",
        "id": "6FHU7z-9Lr3U",
        "outputId": "ed9b89de-c1d9-4380-993d-6b8ca377dd32"
      },
      "outputs": [
        {
          "data": {
            "text/plain": [
              "array(['Positive', 'Neutral', 'Negative'], dtype=object)"
            ]
          },
          "execution_count": 132,
          "metadata": {
            "tags": []
          },
          "output_type": "execute_result"
        }
      ],
      "source": [
        "user_reviews['Sentiment'].unique()"
      ]
    },
    {
      "cell_type": "markdown",
      "metadata": {
        "colab_type": "text",
        "id": "w18D0_EyL82r"
      },
      "source": [
        "First, we need to transform it into an integer field : *Positive* $= 2$, *Neutral* $= 1$ and *Negative* $= 0$."
      ]
    },
    {
      "cell_type": "code",
      "execution_count": 133,
      "metadata": {
        "colab": {
          "base_uri": "https://localhost:8080/",
          "height": 34
        },
        "colab_type": "code",
        "id": "cgBPGhppM4Yl",
        "outputId": "b349f528-eeaf-4eaa-9187-539004aaa0e4"
      },
      "outputs": [
        {
          "data": {
            "text/plain": [
              "array([2, 1, 0])"
            ]
          },
          "execution_count": 133,
          "metadata": {
            "tags": []
          },
          "output_type": "execute_result"
        }
      ],
      "source": [
        "user_reviews['Sentiment'] = user_reviews['Sentiment'].apply(CR_to_int(user_reviews['Sentiment'].unique()))\n",
        "user_reviews['Sentiment'].unique()"
      ]
    },
    {
      "cell_type": "markdown",
      "metadata": {
        "colab_type": "text",
        "id": "Tgk_ILyGN2s7"
      },
      "source": [
        "#### b) Can we add the Sentiment average to the app's table?"
      ]
    },
    {
      "cell_type": "code",
      "execution_count": 134,
      "metadata": {
        "colab": {
          "base_uri": "https://localhost:8080/",
          "height": 67
        },
        "colab_type": "code",
        "id": "N6dNsPXUNEr_",
        "outputId": "8fb8ebb1-3e43-4caf-feed-d6150f527e69"
      },
      "outputs": [
        {
          "name": "stdout",
          "output_type": "stream",
          "text": [
            "We have 7029 apps in our data set.\n",
            "There are 865 apps reviewed.\n",
            "There are 569 reviewed apps in our data set.\n"
          ]
        }
      ],
      "source": [
        "A = app_data['App'].unique()\n",
        "B = user_reviews['App'].unique()\n",
        "C = [] \n",
        "for b in B:\n",
        "    if b in A :\n",
        "        C.append(b)\n",
        "\n",
        "print(\"We have\", len(A), \"apps in our data set.\")                \n",
        "print(\"There are\", len(B), \"apps reviewed.\")\n",
        "print(\"There are\", len(C), \"reviewed apps in our data set.\")"
      ]
    },
    {
      "cell_type": "markdown",
      "metadata": {
        "colab_type": "text",
        "id": "ItJqxfvfkkDq"
      },
      "source": [
        "Since the number of reviewed app is very small compared to the size of our data set, *user_reviews* table does not provide relevant information to be added to *app_data* table"
      ]
    },
    {
      "cell_type": "markdown",
      "metadata": {
        "colab_type": "text",
        "id": "cik7JB0PBLDT"
      },
      "source": [
        "### II. 6. Scaling data"
      ]
    },
    {
      "cell_type": "markdown",
      "metadata": {
        "colab_type": "text",
        "id": "7nxkPZyeBKGE"
      },
      "source": [
        "This makes training less sensitive to the scale of features."
      ]
    },
    {
      "cell_type": "code",
      "execution_count": 135,
      "metadata": {
        "colab": {
          "base_uri": "https://localhost:8080/",
          "height": 202
        },
        "colab_type": "code",
        "id": "q6-NhW8PlTLv",
        "outputId": "44d9ff80-fd46-46a4-ba1c-89d4f76a04d8"
      },
      "outputs": [
        {
          "data": {
            "text/plain": [
              "Index(['Rating', 'Reviews', 'Size', 'Installs', 'Type', 'Price',\n",
              "       'Content Rating', 'Category_ART_AND_DESIGN',\n",
              "       'Category_AUTO_AND_VEHICLES', 'Category_BEAUTY',\n",
              "       ...\n",
              "       'Genres_Strategy;Education', 'Genres_Tools', 'Genres_Travel & Local',\n",
              "       'Genres_Travel & Local;Action & Adventure', 'Genres_Trivia',\n",
              "       'Genres_Video Players & Editors',\n",
              "       'Genres_Video Players & Editors;Creativity',\n",
              "       'Genres_Video Players & Editors;Music & Video', 'Genres_Weather',\n",
              "       'Genres_Word'],\n",
              "      dtype='object', length=152)"
            ]
          },
          "execution_count": 135,
          "metadata": {
            "tags": []
          },
          "output_type": "execute_result"
        }
      ],
      "source": [
        "app_data.columns[1:]\n"
      ]
    },
    {
      "cell_type": "code",
      "execution_count": 0,
      "metadata": {
        "colab": {},
        "colab_type": "code",
        "id": "TTyoqwRZGjDp"
      },
      "outputs": [],
      "source": [
        "app_data_final_array = normalize(np.array(app_data)[:,1:], axis = 0, norm = 'max')"
      ]
    },
    {
      "cell_type": "code",
      "execution_count": 0,
      "metadata": {
        "colab": {},
        "colab_type": "code",
        "id": "DV_MYYBVk5iv"
      },
      "outputs": [],
      "source": [
        "app_data_final_df = pd.DataFrame(data = app_data_final_array, columns = app_data.columns[1:] )"
      ]
    },
    {
      "cell_type": "code",
      "execution_count": 138,
      "metadata": {
        "colab": {
          "base_uri": "https://localhost:8080/",
          "height": 294
        },
        "colab_type": "code",
        "id": "VeLFB15gltqa",
        "outputId": "fc9be0e9-0eb0-4393-fda9-cde9f57befe0"
      },
      "outputs": [
        {
          "data": {
            "text/html": [
              "<div>\n",
              "<style scoped>\n",
              "    .dataframe tbody tr th:only-of-type {\n",
              "        vertical-align: middle;\n",
              "    }\n",
              "\n",
              "    .dataframe tbody tr th {\n",
              "        vertical-align: top;\n",
              "    }\n",
              "\n",
              "    .dataframe thead th {\n",
              "        text-align: right;\n",
              "    }\n",
              "</style>\n",
              "<table border=\"1\" class=\"dataframe\">\n",
              "  <thead>\n",
              "    <tr style=\"text-align: right;\">\n",
              "      <th></th>\n",
              "      <th>Rating</th>\n",
              "      <th>Reviews</th>\n",
              "      <th>Size</th>\n",
              "      <th>Installs</th>\n",
              "      <th>Type</th>\n",
              "      <th>Price</th>\n",
              "      <th>Content Rating</th>\n",
              "      <th>Category_ART_AND_DESIGN</th>\n",
              "      <th>Category_AUTO_AND_VEHICLES</th>\n",
              "      <th>Category_BEAUTY</th>\n",
              "      <th>Category_BOOKS_AND_REFERENCE</th>\n",
              "      <th>Category_BUSINESS</th>\n",
              "      <th>Category_COMICS</th>\n",
              "      <th>Category_COMMUNICATION</th>\n",
              "      <th>Category_DATING</th>\n",
              "      <th>Category_EDUCATION</th>\n",
              "      <th>Category_ENTERTAINMENT</th>\n",
              "      <th>Category_EVENTS</th>\n",
              "      <th>Category_FAMILY</th>\n",
              "      <th>Category_FINANCE</th>\n",
              "      <th>Category_FOOD_AND_DRINK</th>\n",
              "      <th>Category_GAME</th>\n",
              "      <th>Category_HEALTH_AND_FITNESS</th>\n",
              "      <th>Category_HOUSE_AND_HOME</th>\n",
              "      <th>Category_LIBRARIES_AND_DEMO</th>\n",
              "      <th>Category_LIFESTYLE</th>\n",
              "      <th>Category_MAPS_AND_NAVIGATION</th>\n",
              "      <th>Category_MEDICAL</th>\n",
              "      <th>Category_NEWS_AND_MAGAZINES</th>\n",
              "      <th>Category_PARENTING</th>\n",
              "      <th>Category_PERSONALIZATION</th>\n",
              "      <th>Category_PHOTOGRAPHY</th>\n",
              "      <th>Category_PRODUCTIVITY</th>\n",
              "      <th>Category_SHOPPING</th>\n",
              "      <th>Category_SOCIAL</th>\n",
              "      <th>Category_SPORTS</th>\n",
              "      <th>Category_TOOLS</th>\n",
              "      <th>Category_TRAVEL_AND_LOCAL</th>\n",
              "      <th>Category_VIDEO_PLAYERS</th>\n",
              "      <th>Category_WEATHER</th>\n",
              "      <th>...</th>\n",
              "      <th>Genres_Parenting</th>\n",
              "      <th>Genres_Parenting;Brain Games</th>\n",
              "      <th>Genres_Parenting;Education</th>\n",
              "      <th>Genres_Parenting;Music &amp; Video</th>\n",
              "      <th>Genres_Personalization</th>\n",
              "      <th>Genres_Photography</th>\n",
              "      <th>Genres_Productivity</th>\n",
              "      <th>Genres_Puzzle</th>\n",
              "      <th>Genres_Puzzle;Action &amp; Adventure</th>\n",
              "      <th>Genres_Puzzle;Brain Games</th>\n",
              "      <th>Genres_Puzzle;Creativity</th>\n",
              "      <th>Genres_Puzzle;Education</th>\n",
              "      <th>Genres_Racing</th>\n",
              "      <th>Genres_Racing;Action &amp; Adventure</th>\n",
              "      <th>Genres_Racing;Pretend Play</th>\n",
              "      <th>Genres_Role Playing</th>\n",
              "      <th>Genres_Role Playing;Action &amp; Adventure</th>\n",
              "      <th>Genres_Role Playing;Brain Games</th>\n",
              "      <th>Genres_Role Playing;Pretend Play</th>\n",
              "      <th>Genres_Shopping</th>\n",
              "      <th>Genres_Simulation</th>\n",
              "      <th>Genres_Simulation;Action &amp; Adventure</th>\n",
              "      <th>Genres_Simulation;Education</th>\n",
              "      <th>Genres_Simulation;Pretend Play</th>\n",
              "      <th>Genres_Social</th>\n",
              "      <th>Genres_Sports</th>\n",
              "      <th>Genres_Sports;Action &amp; Adventure</th>\n",
              "      <th>Genres_Strategy</th>\n",
              "      <th>Genres_Strategy;Action &amp; Adventure</th>\n",
              "      <th>Genres_Strategy;Creativity</th>\n",
              "      <th>Genres_Strategy;Education</th>\n",
              "      <th>Genres_Tools</th>\n",
              "      <th>Genres_Travel &amp; Local</th>\n",
              "      <th>Genres_Travel &amp; Local;Action &amp; Adventure</th>\n",
              "      <th>Genres_Trivia</th>\n",
              "      <th>Genres_Video Players &amp; Editors</th>\n",
              "      <th>Genres_Video Players &amp; Editors;Creativity</th>\n",
              "      <th>Genres_Video Players &amp; Editors;Music &amp; Video</th>\n",
              "      <th>Genres_Weather</th>\n",
              "      <th>Genres_Word</th>\n",
              "    </tr>\n",
              "  </thead>\n",
              "  <tbody>\n",
              "    <tr>\n",
              "      <th>0</th>\n",
              "      <td>0.82</td>\n",
              "      <td>0.000004</td>\n",
              "      <td>0.190</td>\n",
              "      <td>0.00001</td>\n",
              "      <td>0.0</td>\n",
              "      <td>0.0</td>\n",
              "      <td>1.0</td>\n",
              "      <td>1.0</td>\n",
              "      <td>0.0</td>\n",
              "      <td>0.0</td>\n",
              "      <td>0.0</td>\n",
              "      <td>0.0</td>\n",
              "      <td>0.0</td>\n",
              "      <td>0.0</td>\n",
              "      <td>0.0</td>\n",
              "      <td>0.0</td>\n",
              "      <td>0.0</td>\n",
              "      <td>0.0</td>\n",
              "      <td>0.0</td>\n",
              "      <td>0.0</td>\n",
              "      <td>0.0</td>\n",
              "      <td>0.0</td>\n",
              "      <td>0.0</td>\n",
              "      <td>0.0</td>\n",
              "      <td>0.0</td>\n",
              "      <td>0.0</td>\n",
              "      <td>0.0</td>\n",
              "      <td>0.0</td>\n",
              "      <td>0.0</td>\n",
              "      <td>0.0</td>\n",
              "      <td>0.0</td>\n",
              "      <td>0.0</td>\n",
              "      <td>0.0</td>\n",
              "      <td>0.0</td>\n",
              "      <td>0.0</td>\n",
              "      <td>0.0</td>\n",
              "      <td>0.0</td>\n",
              "      <td>0.0</td>\n",
              "      <td>0.0</td>\n",
              "      <td>0.0</td>\n",
              "      <td>...</td>\n",
              "      <td>0.0</td>\n",
              "      <td>0.0</td>\n",
              "      <td>0.0</td>\n",
              "      <td>0.0</td>\n",
              "      <td>0.0</td>\n",
              "      <td>0.0</td>\n",
              "      <td>0.0</td>\n",
              "      <td>0.0</td>\n",
              "      <td>0.0</td>\n",
              "      <td>0.0</td>\n",
              "      <td>0.0</td>\n",
              "      <td>0.0</td>\n",
              "      <td>0.0</td>\n",
              "      <td>0.0</td>\n",
              "      <td>0.0</td>\n",
              "      <td>0.0</td>\n",
              "      <td>0.0</td>\n",
              "      <td>0.0</td>\n",
              "      <td>0.0</td>\n",
              "      <td>0.0</td>\n",
              "      <td>0.0</td>\n",
              "      <td>0.0</td>\n",
              "      <td>0.0</td>\n",
              "      <td>0.0</td>\n",
              "      <td>0.0</td>\n",
              "      <td>0.0</td>\n",
              "      <td>0.0</td>\n",
              "      <td>0.0</td>\n",
              "      <td>0.0</td>\n",
              "      <td>0.0</td>\n",
              "      <td>0.0</td>\n",
              "      <td>0.0</td>\n",
              "      <td>0.0</td>\n",
              "      <td>0.0</td>\n",
              "      <td>0.0</td>\n",
              "      <td>0.0</td>\n",
              "      <td>0.0</td>\n",
              "      <td>0.0</td>\n",
              "      <td>0.0</td>\n",
              "      <td>0.0</td>\n",
              "    </tr>\n",
              "    <tr>\n",
              "      <th>1</th>\n",
              "      <td>0.78</td>\n",
              "      <td>0.000022</td>\n",
              "      <td>0.140</td>\n",
              "      <td>0.00050</td>\n",
              "      <td>0.0</td>\n",
              "      <td>0.0</td>\n",
              "      <td>1.0</td>\n",
              "      <td>1.0</td>\n",
              "      <td>0.0</td>\n",
              "      <td>0.0</td>\n",
              "      <td>0.0</td>\n",
              "      <td>0.0</td>\n",
              "      <td>0.0</td>\n",
              "      <td>0.0</td>\n",
              "      <td>0.0</td>\n",
              "      <td>0.0</td>\n",
              "      <td>0.0</td>\n",
              "      <td>0.0</td>\n",
              "      <td>0.0</td>\n",
              "      <td>0.0</td>\n",
              "      <td>0.0</td>\n",
              "      <td>0.0</td>\n",
              "      <td>0.0</td>\n",
              "      <td>0.0</td>\n",
              "      <td>0.0</td>\n",
              "      <td>0.0</td>\n",
              "      <td>0.0</td>\n",
              "      <td>0.0</td>\n",
              "      <td>0.0</td>\n",
              "      <td>0.0</td>\n",
              "      <td>0.0</td>\n",
              "      <td>0.0</td>\n",
              "      <td>0.0</td>\n",
              "      <td>0.0</td>\n",
              "      <td>0.0</td>\n",
              "      <td>0.0</td>\n",
              "      <td>0.0</td>\n",
              "      <td>0.0</td>\n",
              "      <td>0.0</td>\n",
              "      <td>0.0</td>\n",
              "      <td>...</td>\n",
              "      <td>0.0</td>\n",
              "      <td>0.0</td>\n",
              "      <td>0.0</td>\n",
              "      <td>0.0</td>\n",
              "      <td>0.0</td>\n",
              "      <td>0.0</td>\n",
              "      <td>0.0</td>\n",
              "      <td>0.0</td>\n",
              "      <td>0.0</td>\n",
              "      <td>0.0</td>\n",
              "      <td>0.0</td>\n",
              "      <td>0.0</td>\n",
              "      <td>0.0</td>\n",
              "      <td>0.0</td>\n",
              "      <td>0.0</td>\n",
              "      <td>0.0</td>\n",
              "      <td>0.0</td>\n",
              "      <td>0.0</td>\n",
              "      <td>0.0</td>\n",
              "      <td>0.0</td>\n",
              "      <td>0.0</td>\n",
              "      <td>0.0</td>\n",
              "      <td>0.0</td>\n",
              "      <td>0.0</td>\n",
              "      <td>0.0</td>\n",
              "      <td>0.0</td>\n",
              "      <td>0.0</td>\n",
              "      <td>0.0</td>\n",
              "      <td>0.0</td>\n",
              "      <td>0.0</td>\n",
              "      <td>0.0</td>\n",
              "      <td>0.0</td>\n",
              "      <td>0.0</td>\n",
              "      <td>0.0</td>\n",
              "      <td>0.0</td>\n",
              "      <td>0.0</td>\n",
              "      <td>0.0</td>\n",
              "      <td>0.0</td>\n",
              "      <td>0.0</td>\n",
              "      <td>0.0</td>\n",
              "    </tr>\n",
              "    <tr>\n",
              "      <th>2</th>\n",
              "      <td>0.94</td>\n",
              "      <td>0.001949</td>\n",
              "      <td>0.087</td>\n",
              "      <td>0.00500</td>\n",
              "      <td>0.0</td>\n",
              "      <td>0.0</td>\n",
              "      <td>1.0</td>\n",
              "      <td>1.0</td>\n",
              "      <td>0.0</td>\n",
              "      <td>0.0</td>\n",
              "      <td>0.0</td>\n",
              "      <td>0.0</td>\n",
              "      <td>0.0</td>\n",
              "      <td>0.0</td>\n",
              "      <td>0.0</td>\n",
              "      <td>0.0</td>\n",
              "      <td>0.0</td>\n",
              "      <td>0.0</td>\n",
              "      <td>0.0</td>\n",
              "      <td>0.0</td>\n",
              "      <td>0.0</td>\n",
              "      <td>0.0</td>\n",
              "      <td>0.0</td>\n",
              "      <td>0.0</td>\n",
              "      <td>0.0</td>\n",
              "      <td>0.0</td>\n",
              "      <td>0.0</td>\n",
              "      <td>0.0</td>\n",
              "      <td>0.0</td>\n",
              "      <td>0.0</td>\n",
              "      <td>0.0</td>\n",
              "      <td>0.0</td>\n",
              "      <td>0.0</td>\n",
              "      <td>0.0</td>\n",
              "      <td>0.0</td>\n",
              "      <td>0.0</td>\n",
              "      <td>0.0</td>\n",
              "      <td>0.0</td>\n",
              "      <td>0.0</td>\n",
              "      <td>0.0</td>\n",
              "      <td>...</td>\n",
              "      <td>0.0</td>\n",
              "      <td>0.0</td>\n",
              "      <td>0.0</td>\n",
              "      <td>0.0</td>\n",
              "      <td>0.0</td>\n",
              "      <td>0.0</td>\n",
              "      <td>0.0</td>\n",
              "      <td>0.0</td>\n",
              "      <td>0.0</td>\n",
              "      <td>0.0</td>\n",
              "      <td>0.0</td>\n",
              "      <td>0.0</td>\n",
              "      <td>0.0</td>\n",
              "      <td>0.0</td>\n",
              "      <td>0.0</td>\n",
              "      <td>0.0</td>\n",
              "      <td>0.0</td>\n",
              "      <td>0.0</td>\n",
              "      <td>0.0</td>\n",
              "      <td>0.0</td>\n",
              "      <td>0.0</td>\n",
              "      <td>0.0</td>\n",
              "      <td>0.0</td>\n",
              "      <td>0.0</td>\n",
              "      <td>0.0</td>\n",
              "      <td>0.0</td>\n",
              "      <td>0.0</td>\n",
              "      <td>0.0</td>\n",
              "      <td>0.0</td>\n",
              "      <td>0.0</td>\n",
              "      <td>0.0</td>\n",
              "      <td>0.0</td>\n",
              "      <td>0.0</td>\n",
              "      <td>0.0</td>\n",
              "      <td>0.0</td>\n",
              "      <td>0.0</td>\n",
              "      <td>0.0</td>\n",
              "      <td>0.0</td>\n",
              "      <td>0.0</td>\n",
              "      <td>0.0</td>\n",
              "    </tr>\n",
              "    <tr>\n",
              "      <th>3</th>\n",
              "      <td>0.90</td>\n",
              "      <td>0.004803</td>\n",
              "      <td>0.250</td>\n",
              "      <td>0.05000</td>\n",
              "      <td>0.0</td>\n",
              "      <td>0.0</td>\n",
              "      <td>0.8</td>\n",
              "      <td>1.0</td>\n",
              "      <td>0.0</td>\n",
              "      <td>0.0</td>\n",
              "      <td>0.0</td>\n",
              "      <td>0.0</td>\n",
              "      <td>0.0</td>\n",
              "      <td>0.0</td>\n",
              "      <td>0.0</td>\n",
              "      <td>0.0</td>\n",
              "      <td>0.0</td>\n",
              "      <td>0.0</td>\n",
              "      <td>0.0</td>\n",
              "      <td>0.0</td>\n",
              "      <td>0.0</td>\n",
              "      <td>0.0</td>\n",
              "      <td>0.0</td>\n",
              "      <td>0.0</td>\n",
              "      <td>0.0</td>\n",
              "      <td>0.0</td>\n",
              "      <td>0.0</td>\n",
              "      <td>0.0</td>\n",
              "      <td>0.0</td>\n",
              "      <td>0.0</td>\n",
              "      <td>0.0</td>\n",
              "      <td>0.0</td>\n",
              "      <td>0.0</td>\n",
              "      <td>0.0</td>\n",
              "      <td>0.0</td>\n",
              "      <td>0.0</td>\n",
              "      <td>0.0</td>\n",
              "      <td>0.0</td>\n",
              "      <td>0.0</td>\n",
              "      <td>0.0</td>\n",
              "      <td>...</td>\n",
              "      <td>0.0</td>\n",
              "      <td>0.0</td>\n",
              "      <td>0.0</td>\n",
              "      <td>0.0</td>\n",
              "      <td>0.0</td>\n",
              "      <td>0.0</td>\n",
              "      <td>0.0</td>\n",
              "      <td>0.0</td>\n",
              "      <td>0.0</td>\n",
              "      <td>0.0</td>\n",
              "      <td>0.0</td>\n",
              "      <td>0.0</td>\n",
              "      <td>0.0</td>\n",
              "      <td>0.0</td>\n",
              "      <td>0.0</td>\n",
              "      <td>0.0</td>\n",
              "      <td>0.0</td>\n",
              "      <td>0.0</td>\n",
              "      <td>0.0</td>\n",
              "      <td>0.0</td>\n",
              "      <td>0.0</td>\n",
              "      <td>0.0</td>\n",
              "      <td>0.0</td>\n",
              "      <td>0.0</td>\n",
              "      <td>0.0</td>\n",
              "      <td>0.0</td>\n",
              "      <td>0.0</td>\n",
              "      <td>0.0</td>\n",
              "      <td>0.0</td>\n",
              "      <td>0.0</td>\n",
              "      <td>0.0</td>\n",
              "      <td>0.0</td>\n",
              "      <td>0.0</td>\n",
              "      <td>0.0</td>\n",
              "      <td>0.0</td>\n",
              "      <td>0.0</td>\n",
              "      <td>0.0</td>\n",
              "      <td>0.0</td>\n",
              "      <td>0.0</td>\n",
              "      <td>0.0</td>\n",
              "    </tr>\n",
              "    <tr>\n",
              "      <th>4</th>\n",
              "      <td>0.86</td>\n",
              "      <td>0.000022</td>\n",
              "      <td>0.028</td>\n",
              "      <td>0.00010</td>\n",
              "      <td>0.0</td>\n",
              "      <td>0.0</td>\n",
              "      <td>1.0</td>\n",
              "      <td>1.0</td>\n",
              "      <td>0.0</td>\n",
              "      <td>0.0</td>\n",
              "      <td>0.0</td>\n",
              "      <td>0.0</td>\n",
              "      <td>0.0</td>\n",
              "      <td>0.0</td>\n",
              "      <td>0.0</td>\n",
              "      <td>0.0</td>\n",
              "      <td>0.0</td>\n",
              "      <td>0.0</td>\n",
              "      <td>0.0</td>\n",
              "      <td>0.0</td>\n",
              "      <td>0.0</td>\n",
              "      <td>0.0</td>\n",
              "      <td>0.0</td>\n",
              "      <td>0.0</td>\n",
              "      <td>0.0</td>\n",
              "      <td>0.0</td>\n",
              "      <td>0.0</td>\n",
              "      <td>0.0</td>\n",
              "      <td>0.0</td>\n",
              "      <td>0.0</td>\n",
              "      <td>0.0</td>\n",
              "      <td>0.0</td>\n",
              "      <td>0.0</td>\n",
              "      <td>0.0</td>\n",
              "      <td>0.0</td>\n",
              "      <td>0.0</td>\n",
              "      <td>0.0</td>\n",
              "      <td>0.0</td>\n",
              "      <td>0.0</td>\n",
              "      <td>0.0</td>\n",
              "      <td>...</td>\n",
              "      <td>0.0</td>\n",
              "      <td>0.0</td>\n",
              "      <td>0.0</td>\n",
              "      <td>0.0</td>\n",
              "      <td>0.0</td>\n",
              "      <td>0.0</td>\n",
              "      <td>0.0</td>\n",
              "      <td>0.0</td>\n",
              "      <td>0.0</td>\n",
              "      <td>0.0</td>\n",
              "      <td>0.0</td>\n",
              "      <td>0.0</td>\n",
              "      <td>0.0</td>\n",
              "      <td>0.0</td>\n",
              "      <td>0.0</td>\n",
              "      <td>0.0</td>\n",
              "      <td>0.0</td>\n",
              "      <td>0.0</td>\n",
              "      <td>0.0</td>\n",
              "      <td>0.0</td>\n",
              "      <td>0.0</td>\n",
              "      <td>0.0</td>\n",
              "      <td>0.0</td>\n",
              "      <td>0.0</td>\n",
              "      <td>0.0</td>\n",
              "      <td>0.0</td>\n",
              "      <td>0.0</td>\n",
              "      <td>0.0</td>\n",
              "      <td>0.0</td>\n",
              "      <td>0.0</td>\n",
              "      <td>0.0</td>\n",
              "      <td>0.0</td>\n",
              "      <td>0.0</td>\n",
              "      <td>0.0</td>\n",
              "      <td>0.0</td>\n",
              "      <td>0.0</td>\n",
              "      <td>0.0</td>\n",
              "      <td>0.0</td>\n",
              "      <td>0.0</td>\n",
              "      <td>0.0</td>\n",
              "    </tr>\n",
              "  </tbody>\n",
              "</table>\n",
              "<p>5 rows × 152 columns</p>\n",
              "</div>"
            ],
            "text/plain": [
              "   Rating   Reviews  ...  Genres_Weather  Genres_Word\n",
              "0    0.82  0.000004  ...             0.0          0.0\n",
              "1    0.78  0.000022  ...             0.0          0.0\n",
              "2    0.94  0.001949  ...             0.0          0.0\n",
              "3    0.90  0.004803  ...             0.0          0.0\n",
              "4    0.86  0.000022  ...             0.0          0.0\n",
              "\n",
              "[5 rows x 152 columns]"
            ]
          },
          "execution_count": 138,
          "metadata": {
            "tags": []
          },
          "output_type": "execute_result"
        }
      ],
      "source": [
        "app_data_final_df.head()"
      ]
    },
    {
      "cell_type": "markdown",
      "metadata": {
        "colab_type": "text",
        "id": "9gjuHIQa4FzM"
      },
      "source": [
        "## **III. Machine Learning Models**"
      ]
    },
    {
      "cell_type": "markdown",
      "metadata": {
        "colab_type": "text",
        "id": "odkRP2kJcRIb"
      },
      "source": [
        "Once the data is cleaned, we can start to apply ML models to it in order to make rating predictions.\n",
        "Here are some functions we will use to build our models and evaluate their performance. "
      ]
    },
    {
      "cell_type": "code",
      "execution_count": 0,
      "metadata": {
        "colab": {},
        "colab_type": "code",
        "id": "gIw4KNy4FHhx"
      },
      "outputs": [],
      "source": [
        "X = app_data_final_df.drop(labels = ['Rating'], axis = 1)\n",
        "y = app_data_final_df['Rating']"
      ]
    },
    {
      "cell_type": "markdown",
      "metadata": {
        "colab_type": "text",
        "id": "PLMF1sBC-ex-"
      },
      "source": [
        "### **III. 0.  Dimensionality reduction**"
      ]
    },
    {
      "cell_type": "markdown",
      "metadata": {
        "colab_type": "text",
        "id": "HOaAbz8sBZbV"
      },
      "source": [
        "Since we have a very sparse data set, it is a good idea to get rid of the unnecessary information"
      ]
    },
    {
      "cell_type": "code",
      "execution_count": 140,
      "metadata": {
        "colab": {
          "base_uri": "https://localhost:8080/",
          "height": 286
        },
        "colab_type": "code",
        "id": "Qozo90whBurY",
        "outputId": "3bee4fd2-d44f-49c6-c638-6ee80b873a56"
      },
      "outputs": [
        {
          "data": {
            "text/plain": [
              "[<matplotlib.lines.Line2D at 0x7f12374fe710>]"
            ]
          },
          "execution_count": 140,
          "metadata": {
            "tags": []
          },
          "output_type": "execute_result"
        },
        {
          "data": {
            "image/png": "[encoded data removed]",
            "text/plain": [
              "<Figure size 432x288 with 1 Axes>"
            ]
          },
          "metadata": {
            "tags": []
          },
          "output_type": "display_data"
        }
      ],
      "source": [
        "svd = TruncatedSVD(n_components=X.shape[1]-2)\n",
        "svd.fit(X)\n",
        "plt.plot(svd.singular_values_)"
      ]
    },
    {
      "cell_type": "markdown",
      "metadata": {
        "colab_type": "text",
        "id": "9WW8VhbJDoT5"
      },
      "source": [
        "We can  set the new number components to $n = 60$ based on the graph above, the singular values are a lot closer to $0$ starting from the $60^{th}$ value. "
      ]
    },
    {
      "cell_type": "code",
      "execution_count": 0,
      "metadata": {
        "colab": {},
        "colab_type": "code",
        "id": "kD3eCz8hDntO"
      },
      "outputs": [],
      "source": [
        "svd = TruncatedSVD(n_components=60)\n",
        "X = svd.fit_transform(X)"
      ]
    },
    {
      "cell_type": "code",
      "execution_count": 0,
      "metadata": {
        "colab": {},
        "colab_type": "code",
        "id": "8mB6Lwsgq8QI"
      },
      "outputs": [],
      "source": [
        "X_train, X_test, y_train, y_test = train_test_split(X, y, test_size=0.3)\n",
        "\n",
        "def model_results(model):\n",
        "  model.fit(X_train, y_train)\n",
        "  return model.predict(X_test)\n",
        "  \n",
        "\n",
        "def display_errors(test, results):\n",
        "  print('MSE:', round(metrics.mean_squared_error(test, results),4))\n",
        "  print('MAE:', round(metrics.mean_absolute_error(test, results),4))\n",
        "  print('MSLE:', round(metrics.mean_squared_log_error(test, results),4))\n",
        "  print('Predictions mean:', round(results.mean(),4))\n",
        "  print('Real mean:', round(y_test.mean(),4))\n",
        "  print('Relative gap:', round(abs(results.mean()-y_test.mean())/abs(y_test.mean())*100,2), '%')  \n",
        "  \n",
        "def plot_results(test, results, title):  \n",
        "  plt.figure()\n",
        "  sns.regplot(results, test)\n",
        "  plt.title(title)\n",
        "  plt.xlabel('Predicted Ratings')\n",
        "  plt.ylabel('Actual Ratings')\n",
        "  plt.show()"
      ]
    },
    {
      "cell_type": "markdown",
      "metadata": {
        "colab_type": "text",
        "id": "3rficGvH4j--"
      },
      "source": [
        "### **III. 1. Linear Regression Model**\n"
      ]
    },
    {
      "cell_type": "code",
      "execution_count": 0,
      "metadata": {
        "colab": {},
        "colab_type": "code",
        "id": "5oRZkuK_CwoS"
      },
      "outputs": [],
      "source": [
        "LR_model = LinearRegression()\n",
        "LR_results = model_results(LR_model)"
      ]
    },
    {
      "cell_type": "code",
      "execution_count": 144,
      "metadata": {
        "colab": {
          "base_uri": "https://localhost:8080/",
          "height": 118
        },
        "colab_type": "code",
        "id": "3MDJJc9bqNX4",
        "outputId": "14ba56e4-9569-4cdc-fcd4-e38fb2bb4016"
      },
      "outputs": [
        {
          "name": "stdout",
          "output_type": "stream",
          "text": [
            "MSE: 0.0114\n",
            "MAE: 0.0755\n",
            "MSLE: 0.0039\n",
            "Predictions mean: 0.8354\n",
            "Real mean: 0.8352\n",
            "Relative gap: 0.02 %\n"
          ]
        }
      ],
      "source": [
        "display_errors(y_test, LR_results)"
      ]
    },
    {
      "cell_type": "code",
      "execution_count": 145,
      "metadata": {
        "colab": {
          "base_uri": "https://localhost:8080/",
          "height": 295
        },
        "colab_type": "code",
        "id": "yYTTv1DNyfgr",
        "outputId": "31eb835d-f876-4d6e-9da4-e5fb3810f61d"
      },
      "outputs": [
        {
          "data": {
            "image/png": "[encoded data removed]",
            "text/plain": [
              "<Figure size 432x288 with 1 Axes>"
            ]
          },
          "metadata": {
            "tags": []
          },
          "output_type": "display_data"
        }
      ],
      "source": [
        "plot_results(y_test, LR_results, title = 'Linear Regression Model')"
      ]
    },
    {
      "cell_type": "markdown",
      "metadata": {
        "colab_type": "text",
        "id": "ITq4TEAY551Q"
      },
      "source": [
        "### **III. 2. Support Vector Regresion Model** \n"
      ]
    },
    {
      "cell_type": "markdown",
      "metadata": {
        "colab_type": "text",
        "id": "CF_fBWLLJL_m"
      },
      "source": [
        "#### a) Linear"
      ]
    },
    {
      "cell_type": "code",
      "execution_count": 146,
      "metadata": {
        "colab": {
          "base_uri": "https://localhost:8080/",
          "height": 118
        },
        "colab_type": "code",
        "id": "xq7t4eCy7jD5",
        "outputId": "2d02729d-2379-47d3-ec8b-0030be0d9008"
      },
      "outputs": [
        {
          "name": "stdout",
          "output_type": "stream",
          "text": [
            "MSE: 0.0116\n",
            "MAE: 0.077\n",
            "MSLE: 0.0039\n",
            "Predictions mean: 0.8305\n",
            "Real mean: 0.8352\n",
            "Relative gap: 0.56 %\n"
          ]
        }
      ],
      "source": [
        "SVRL_model = svm.SVR(C=1e2, kernel='linear', gamma = 'auto')\n",
        "SVRL_results = model_results(SVRL_model)\n",
        "display_errors(y_test, SVRL_results)"
      ]
    },
    {
      "cell_type": "code",
      "execution_count": 147,
      "metadata": {
        "colab": {
          "base_uri": "https://localhost:8080/",
          "height": 295
        },
        "colab_type": "code",
        "id": "GG4SsyM87jQH",
        "outputId": "e036593f-a874-41a3-9ce8-f23bdff1a0ce"
      },
      "outputs": [
        {
          "data": {
            "image/png": "[encoded data removed]",
            "text/plain": [
              "<Figure size 432x288 with 1 Axes>"
            ]
          },
          "metadata": {
            "tags": []
          },
          "output_type": "display_data"
        }
      ],
      "source": [
        "plot_results(y_test, SVRL_results, title = 'Support Vector Regression - Linear Model')"
      ]
    },
    {
      "cell_type": "markdown",
      "metadata": {
        "colab_type": "text",
        "id": "1C83CsTqJaD1"
      },
      "source": [
        "#### b) Polynomial"
      ]
    },
    {
      "cell_type": "code",
      "execution_count": 148,
      "metadata": {
        "colab": {
          "base_uri": "https://localhost:8080/",
          "height": 118
        },
        "colab_type": "code",
        "id": "qcLTlT3ZJasa",
        "outputId": "bda8f756-07b5-4c8a-872d-d2caea9d32a7"
      },
      "outputs": [
        {
          "name": "stdout",
          "output_type": "stream",
          "text": [
            "MSE: 0.0116\n",
            "MAE: 0.0775\n",
            "MSLE: 0.004\n",
            "Predictions mean: 0.8294\n",
            "Real mean: 0.8352\n",
            "Relative gap: 0.69 %\n"
          ]
        }
      ],
      "source": [
        "SVRP_model = svm.SVR(C=1e2, kernel='poly', degree = 3, gamma = 'auto')\n",
        "SVRP_results = model_results(SVRP_model)\n",
        "display_errors(y_test, SVRP_results)"
      ]
    },
    {
      "cell_type": "code",
      "execution_count": 149,
      "metadata": {
        "colab": {
          "base_uri": "https://localhost:8080/",
          "height": 295
        },
        "colab_type": "code",
        "id": "-A5AotjPJbEg",
        "outputId": "91e10957-e79a-4db1-d0aa-16eb64cb3f8e"
      },
      "outputs": [
        {
          "data": {
            "image/png": "[encoded data removed]",
            "text/plain": [
              "<Figure size 432x288 with 1 Axes>"
            ]
          },
          "metadata": {
            "tags": []
          },
          "output_type": "display_data"
        }
      ],
      "source": [
        "plot_results(y_test, SVRP_results, title = 'Support Vector Regression - Polynomial Model')"
      ]
    },
    {
      "cell_type": "markdown",
      "metadata": {
        "colab_type": "text",
        "id": "P51I6ycSJbbN"
      },
      "source": [
        "#### c) Radial basis function"
      ]
    },
    {
      "cell_type": "code",
      "execution_count": 150,
      "metadata": {
        "colab": {
          "base_uri": "https://localhost:8080/",
          "height": 118
        },
        "colab_type": "code",
        "id": "xVn3FyzFJb8F",
        "outputId": "f57ceb85-7c8a-4688-a3b6-f4059f7550f1"
      },
      "outputs": [
        {
          "name": "stdout",
          "output_type": "stream",
          "text": [
            "MSE: 0.0116\n",
            "MAE: 0.0771\n",
            "MSLE: 0.004\n",
            "Predictions mean: 0.8305\n",
            "Real mean: 0.8352\n",
            "Relative gap: 0.56 %\n"
          ]
        }
      ],
      "source": [
        "SVRB_model = svm.SVR(C=1e2, kernel='rbf', gamma = 'auto')\n",
        "SVRB_results = model_results(SVRB_model)\n",
        "display_errors(y_test, SVRB_results)"
      ]
    },
    {
      "cell_type": "code",
      "execution_count": 151,
      "metadata": {
        "colab": {
          "base_uri": "https://localhost:8080/",
          "height": 295
        },
        "colab_type": "code",
        "id": "6Bcfdv37JcQZ",
        "outputId": "c248cb7a-4d18-41ce-c454-f673f7c1c493"
      },
      "outputs": [
        {
          "data": {
            "image/png": "[encoded data removed]",
            "text/plain": [
              "<Figure size 432x288 with 1 Axes>"
            ]
          },
          "metadata": {
            "tags": []
          },
          "output_type": "display_data"
        }
      ],
      "source": [
        "plot_results(y_test, SVRB_results, title = 'Support Vector Regression - RBF Model')"
      ]
    },
    {
      "cell_type": "markdown",
      "metadata": {
        "colab_type": "text",
        "id": "NB9VftEC64nq"
      },
      "source": [
        "### **III. 3. Decision Tree Regressor Model**\n"
      ]
    },
    {
      "cell_type": "code",
      "execution_count": 0,
      "metadata": {
        "colab": {},
        "colab_type": "code",
        "id": "myla2hUv7BnV"
      },
      "outputs": [],
      "source": [
        "DTR_model = DecisionTreeRegressor()\n",
        "DTR_results = model_results(DTR_model)"
      ]
    },
    {
      "cell_type": "code",
      "execution_count": 153,
      "metadata": {
        "colab": {
          "base_uri": "https://localhost:8080/",
          "height": 118
        },
        "colab_type": "code",
        "id": "xVhDnEmG7BsT",
        "outputId": "37ec9473-7005-4a4f-c213-a19274a3a0fc"
      },
      "outputs": [
        {
          "name": "stdout",
          "output_type": "stream",
          "text": [
            "MSE: 0.0207\n",
            "MAE: 0.0934\n",
            "MSLE: 0.0071\n",
            "Predictions mean: 0.8331\n",
            "Real mean: 0.8352\n",
            "Relative gap: 0.25 %\n"
          ]
        }
      ],
      "source": [
        "display_errors(y_test, DTR_results)"
      ]
    },
    {
      "cell_type": "code",
      "execution_count": 154,
      "metadata": {
        "colab": {
          "base_uri": "https://localhost:8080/",
          "height": 295
        },
        "colab_type": "code",
        "id": "iq4qjMBe7_eS",
        "outputId": "ae8d5a79-a3b3-4531-c143-3d2d53f70cfa"
      },
      "outputs": [
        {
          "data": {
            "image/png": "[encoded data removed]",
            "text/plain": [
              "<Figure size 432x288 with 1 Axes>"
            ]
          },
          "metadata": {
            "tags": []
          },
          "output_type": "display_data"
        }
      ],
      "source": [
        "plot_results(y_test, DTR_results, title = 'Decision Tree Regressor Model')"
      ]
    },
    {
      "cell_type": "markdown",
      "metadata": {
        "colab_type": "text",
        "id": "fomrlO2z8twA"
      },
      "source": [
        "### **III. 4. Random Forest Regressor Model**\n"
      ]
    },
    {
      "cell_type": "code",
      "execution_count": 0,
      "metadata": {
        "colab": {},
        "colab_type": "code",
        "id": "pKoTwUr48us-"
      },
      "outputs": [],
      "source": [
        "RFR_model = RandomForestRegressor(n_estimators = 100)\n",
        "RFR_results = model_results(RFR_model)"
      ]
    },
    {
      "cell_type": "code",
      "execution_count": 156,
      "metadata": {
        "colab": {
          "base_uri": "https://localhost:8080/",
          "height": 118
        },
        "colab_type": "code",
        "id": "vw3Oo6XL8u2i",
        "outputId": "cc4c04c7-cc52-48ff-a009-b7d90ec088a0"
      },
      "outputs": [
        {
          "name": "stdout",
          "output_type": "stream",
          "text": [
            "MSE: 0.0133\n",
            "MAE: 0.0777\n",
            "MSLE: 0.0045\n",
            "Predictions mean: 0.8334\n",
            "Real mean: 0.8352\n",
            "Relative gap: 0.21 %\n"
          ]
        }
      ],
      "source": [
        "display_errors(y_test, RFR_results)"
      ]
    },
    {
      "cell_type": "code",
      "execution_count": 157,
      "metadata": {
        "colab": {
          "base_uri": "https://localhost:8080/",
          "height": 295
        },
        "colab_type": "code",
        "id": "euaQQbn48u6g",
        "outputId": "a41f6410-19c5-4f5c-e4f0-46e16904d5d4"
      },
      "outputs": [
        {
          "data": {
            "image/png": "[encoded data removed]",
            "text/plain": [
              "<Figure size 432x288 with 1 Axes>"
            ]
          },
          "metadata": {
            "tags": []
          },
          "output_type": "display_data"
        }
      ],
      "source": [
        "plot_results(y_test, RFR_results, title = 'Random Forest Regressor Model')"
      ]
    },
    {
      "cell_type": "markdown",
      "metadata": {
        "colab_type": "text",
        "id": "Bui2xwhJ5fAq"
      },
      "source": [
        "#### **What are the relevant features ?**\n"
      ]
    },
    {
      "cell_type": "markdown",
      "metadata": {
        "colab_type": "text",
        "id": "TYbZ3qxG5lbJ"
      },
      "source": [
        "The RFR model has the advantage of allowing us to visualize the importance of each feature. Let's take this opportunity to check that we deal with useful features. Are the categories and the genres really relevant in rating prediction? "
      ]
    },
    {
      "cell_type": "code",
      "execution_count": 158,
      "metadata": {
        "colab": {
          "base_uri": "https://localhost:8080/",
          "height": 884
        },
        "colab_type": "code",
        "id": "7PaKN7g83-zG",
        "outputId": "9231dcb0-a4d6-449f-95f6-ef050ce37f4d"
      },
      "outputs": [
        {
          "data": {
            "text/plain": [
              "<Figure size 1080x1080 with 0 Axes>"
            ]
          },
          "metadata": {
            "tags": []
          },
          "output_type": "display_data"
        },
        {
          "data": {
            "image/png": "[encoded data removed]",
            "text/plain": [
              "<Figure size 1080x1080 with 1 Axes>"
            ]
          },
          "metadata": {
            "tags": []
          },
          "output_type": "display_data"
        }
      ],
      "source": [
        "features_importance = {}\n",
        "for column, feature in zip(app_data_final_df.drop(labels = ['Rating'], axis = 1).columns, RFR_model.feature_importances_):\n",
        "    features_importance[column] = feature\n",
        "\n",
        "features_importance = pd.DataFrame.from_dict(features_importance,orient = 'index')\n",
        "features_importance.sort_values(by = 0, inplace = True)\n",
        "features_importance.rename(index = str, columns = {0:'Pct'}, inplace = True)\n",
        "\n",
        "plt.figure(figsize= (15,15))\n",
        "features_importance.plot(kind = 'barh', figsize= (15,15),legend = False)\n",
        "plt.show()"
      ]
    },
    {
      "cell_type": "markdown",
      "metadata": {
        "colab_type": "text",
        "id": "XRE1kVSu7eDK"
      },
      "source": [
        "The figure above points the importance of taking into account the category, and especially the genre of an app. "
      ]
    },
    {
      "cell_type": "markdown",
      "metadata": {
        "colab_type": "text",
        "id": "9RYsuV41S19S"
      },
      "source": [
        "### III. 5. Artificial Neural Network"
      ]
    },
    {
      "cell_type": "code",
      "execution_count": 159,
      "metadata": {
        "colab": {
          "base_uri": "https://localhost:8080/",
          "height": 1000
        },
        "colab_type": "code",
        "id": "u3-XPqTxTA6h",
        "outputId": "14981506-b665-4b90-df34-255e753c6d0c"
      },
      "outputs": [
        {
          "name": "stderr",
          "output_type": "stream",
          "text": [
            "/usr/local/lib/python3.6/dist-packages/ipykernel_launcher.py:5: UserWarning: Update your `Dropout` call to the Keras 2 API: `Dropout(rate=0.1)`\n",
            "  \"\"\"\n",
            "/usr/local/lib/python3.6/dist-packages/ipykernel_launcher.py:15: UserWarning: Update your `Dropout` call to the Keras 2 API: `Dropout(rate=0.1)`\n",
            "  from ipykernel import kernelapp as app\n"
          ]
        },
        {
          "name": "stdout",
          "output_type": "stream",
          "text": [
            "Epoch 1/50\n",
            "5410/5410 [==============================] - 1s 263us/step - loss: 0.0678\n",
            "Epoch 2/50\n",
            "5410/5410 [==============================] - 1s 164us/step - loss: 0.0219\n",
            "Epoch 3/50\n",
            "5410/5410 [==============================] - 1s 164us/step - loss: 0.0202\n",
            "Epoch 4/50\n",
            "5410/5410 [==============================] - 1s 183us/step - loss: 0.0177\n",
            "Epoch 5/50\n",
            "5410/5410 [==============================] - 1s 160us/step - loss: 0.0167\n",
            "Epoch 6/50\n",
            "5410/5410 [==============================] - 1s 164us/step - loss: 0.0151\n",
            "Epoch 7/50\n",
            "5410/5410 [==============================] - 1s 159us/step - loss: 0.0140\n",
            "Epoch 8/50\n",
            "5410/5410 [==============================] - 1s 163us/step - loss: 0.0134\n",
            "Epoch 9/50\n",
            "5410/5410 [==============================] - 1s 165us/step - loss: 0.0127\n",
            "Epoch 10/50\n",
            "5410/5410 [==============================] - 1s 161us/step - loss: 0.0121\n",
            "Epoch 11/50\n",
            "5410/5410 [==============================] - 1s 163us/step - loss: 0.0120\n",
            "Epoch 12/50\n",
            "5410/5410 [==============================] - 1s 175us/step - loss: 0.0118\n",
            "Epoch 13/50\n",
            "5410/5410 [==============================] - 1s 164us/step - loss: 0.0116\n",
            "Epoch 14/50\n",
            "5410/5410 [==============================] - 1s 156us/step - loss: 0.0116\n",
            "Epoch 15/50\n",
            "5410/5410 [==============================] - 1s 168us/step - loss: 0.0115\n",
            "Epoch 16/50\n",
            "5410/5410 [==============================] - 1s 164us/step - loss: 0.0114\n",
            "Epoch 17/50\n",
            "5410/5410 [==============================] - 1s 169us/step - loss: 0.0114\n",
            "Epoch 18/50\n",
            "5410/5410 [==============================] - 1s 173us/step - loss: 0.0114\n",
            "Epoch 19/50\n",
            "5410/5410 [==============================] - 1s 166us/step - loss: 0.0113\n",
            "Epoch 20/50\n",
            "5410/5410 [==============================] - 1s 174us/step - loss: 0.0113\n",
            "Epoch 21/50\n",
            "5410/5410 [==============================] - 1s 162us/step - loss: 0.0113\n",
            "Epoch 22/50\n",
            "5410/5410 [==============================] - 1s 168us/step - loss: 0.0113\n",
            "Epoch 23/50\n",
            "5410/5410 [==============================] - 1s 163us/step - loss: 0.0112\n",
            "Epoch 24/50\n",
            "5410/5410 [==============================] - 1s 173us/step - loss: 0.0112\n",
            "Epoch 25/50\n",
            "5410/5410 [==============================] - 1s 163us/step - loss: 0.0112\n",
            "Epoch 26/50\n",
            "5410/5410 [==============================] - 1s 163us/step - loss: 0.0112\n",
            "Epoch 27/50\n",
            "5410/5410 [==============================] - 1s 163us/step - loss: 0.0112\n",
            "Epoch 28/50\n",
            "5410/5410 [==============================] - 1s 163us/step - loss: 0.0112\n",
            "Epoch 29/50\n",
            "5410/5410 [==============================] - 1s 165us/step - loss: 0.0112\n",
            "Epoch 30/50\n",
            "5410/5410 [==============================] - 1s 168us/step - loss: 0.0112\n",
            "Epoch 31/50\n",
            "5410/5410 [==============================] - 1s 168us/step - loss: 0.0112\n",
            "Epoch 32/50\n",
            "5410/5410 [==============================] - 1s 164us/step - loss: 0.0111\n",
            "Epoch 33/50\n",
            "5410/5410 [==============================] - 1s 160us/step - loss: 0.0111\n",
            "Epoch 34/50\n",
            "5410/5410 [==============================] - 1s 162us/step - loss: 0.0111\n",
            "Epoch 35/50\n",
            "5410/5410 [==============================] - 1s 167us/step - loss: 0.0111\n",
            "Epoch 36/50\n",
            "5410/5410 [==============================] - 1s 165us/step - loss: 0.0111\n",
            "Epoch 37/50\n",
            "5410/5410 [==============================] - 1s 168us/step - loss: 0.0111\n",
            "Epoch 38/50\n",
            "5410/5410 [==============================] - 1s 165us/step - loss: 0.0110\n",
            "Epoch 39/50\n",
            "5410/5410 [==============================] - 1s 165us/step - loss: 0.0110\n",
            "Epoch 40/50\n",
            "5410/5410 [==============================] - 1s 164us/step - loss: 0.0110\n",
            "Epoch 41/50\n",
            "5410/5410 [==============================] - 1s 164us/step - loss: 0.0110\n",
            "Epoch 42/50\n",
            "5410/5410 [==============================] - 1s 162us/step - loss: 0.0110\n",
            "Epoch 43/50\n",
            "5410/5410 [==============================] - 1s 159us/step - loss: 0.0110\n",
            "Epoch 44/50\n",
            "5410/5410 [==============================] - 1s 166us/step - loss: 0.0110\n",
            "Epoch 45/50\n",
            "5410/5410 [==============================] - 1s 166us/step - loss: 0.0110\n",
            "Epoch 46/50\n",
            "5410/5410 [==============================] - 1s 161us/step - loss: 0.0110\n",
            "Epoch 47/50\n",
            "5410/5410 [==============================] - 1s 166us/step - loss: 0.0109\n",
            "Epoch 48/50\n",
            "5410/5410 [==============================] - 1s 165us/step - loss: 0.0109\n",
            "Epoch 49/50\n",
            "5410/5410 [==============================] - 1s 159us/step - loss: 0.0109\n",
            "Epoch 50/50\n",
            "5410/5410 [==============================] - 1s 157us/step - loss: 0.0110\n"
          ]
        }
      ],
      "source": [
        "# Initialising the ANN\n",
        "ANN_model = Sequential()\n",
        "    \n",
        "# Adding the input layer and the first hidden layer\n",
        "ANN_model.add(Dense(units = 100, kernel_initializer = 'uniform', activation = 'relu', input_dim = X.shape[1]))\n",
        "ANN_model.add(Dropout(p = 0.1))\n",
        "    \n",
        "#Adding the second hidden layer\n",
        "ANN_model.add(Dense(units =  80, kernel_initializer = 'uniform', activation = 'relu'))\n",
        "    \n",
        "# Adding the third hidden layer\n",
        "ANN_model.add(Dense(units =  60, kernel_initializer = 'uniform', activation = 'relu'))\n",
        "\n",
        "# Adding the 4th  hidden layer\n",
        "ANN_model.add(Dense(units =  20, kernel_initializer = 'uniform', activation = 'relu'))\n",
        "ANN_model.add(Dropout(p = 0.1))\n",
        "    \n",
        "# Adding the output layer\n",
        "ANN_model.add(Dense(units = 1, kernel_initializer = 'uniform', activation = 'relu'))\n",
        "    \n",
        "# Compiling the ANN\n",
        "ANN_model.compile(optimizer = 'adam', loss = 'mean_squared_error')\n",
        "    \n",
        "# Fitting the ANN to the Training set\n",
        "ANN_model.fit(X_train, y_train, batch_size = 10, epochs = 50)\n",
        "\n",
        "ANN_results = ANN_model.predict(X_test)"
      ]
    },
    {
      "cell_type": "code",
      "execution_count": 160,
      "metadata": {
        "colab": {
          "base_uri": "https://localhost:8080/",
          "height": 118
        },
        "colab_type": "code",
        "id": "GS5lVngId5PA",
        "outputId": "be1561a6-fcac-4c7d-9279-a4206e5181f7"
      },
      "outputs": [
        {
          "name": "stdout",
          "output_type": "stream",
          "text": [
            "MSE: 0.0113\n",
            "MAE: 0.0751\n",
            "MSLE: 0.0039\n",
            "Predictions mean: 0.8334\n",
            "Real mean: 0.8352\n",
            "Relative gap: 0.21 %\n"
          ]
        }
      ],
      "source": [
        "display_errors(y_test, ANN_results)"
      ]
    },
    {
      "cell_type": "code",
      "execution_count": 161,
      "metadata": {
        "colab": {
          "base_uri": "https://localhost:8080/",
          "height": 295
        },
        "colab_type": "code",
        "id": "TXHRK_2tW_Hx",
        "outputId": "4ab1277c-631e-4566-ed7a-3b28f4a3b488"
      },
      "outputs": [
        {
          "data": {
            "image/png": "[encoded data removed]",
            "text/plain": [
              "<Figure size 432x288 with 1 Axes>"
            ]
          },
          "metadata": {
            "tags": []
          },
          "output_type": "display_data"
        }
      ],
      "source": [
        "plot_results(y_test, ANN_results, title = 'Artificial Neural Network Model')"
      ]
    },
    {
      "cell_type": "markdown",
      "metadata": {
        "colab_type": "text",
        "id": "_jGyIkQU-fYi"
      },
      "source": [
        "### **III. 6. Sentiment classifier**"
      ]
    },
    {
      "cell_type": "markdown",
      "metadata": {
        "colab_type": "text",
        "id": "Lzh_xAr69ma8"
      },
      "source": [
        "Here, we want to use the *user_reviews* table to build a classifier that predicts the sentiment (*Positive*, *Neutral* or *Negative*) of a review. \\\\\n",
        "Two ideas are presented below."
      ]
    },
    {
      "cell_type": "markdown",
      "metadata": {
        "colab_type": "text",
        "id": "qp8zbXIQSeq0"
      },
      "source": [
        "#### III. 6. 1. Using Word2Vec"
      ]
    },
    {
      "cell_type": "markdown",
      "metadata": {
        "colab_type": "text",
        "id": "Kl8-CAB5-BPk"
      },
      "source": [
        "A first idea is to use the word embedding model Word2Vec. \\\\\n",
        "Word2vec is a two-layer neural network that allows, once well trained, to extract vectorial features from each word (that feature is supposed to depict the context, the meaning of the word). A Word2vec is trained by feeding it with a large corpus of sentences. We had the idea to try to train a Word2Vec model with the reviews. "
      ]
    },
    {
      "cell_type": "markdown",
      "metadata": {
        "colab_type": "text",
        "id": "C3Cs214-_5Ar"
      },
      "source": [
        "We start by removing stopwords (non-meaningful words, such as *a*, *the*, *me*, etc.) and tokenize each review (convert the string into a list of words)."
      ]
    },
    {
      "cell_type": "code",
      "execution_count": 164,
      "metadata": {
        "colab": {
          "base_uri": "https://localhost:8080/",
          "height": 84
        },
        "colab_type": "code",
        "id": "FdvxeZL1_fEK",
        "outputId": "dbfc62bd-d87f-4ef6-f030-c567851517ee"
      },
      "outputs": [
        {
          "name": "stdout",
          "output_type": "stream",
          "text": [
            "[nltk_data] Downloading package punkt to /root/nltk_data...\n",
            "[nltk_data]   Package punkt is already up-to-date!\n",
            "[nltk_data] Downloading package stopwords to /root/nltk_data...\n",
            "[nltk_data]   Package stopwords is already up-to-date!\n"
          ]
        }
      ],
      "source": [
        "nltk.download('punkt')\n",
        "nltk.download('stopwords')\n",
        "\n",
        "def tokenize(review):\n",
        "  review_without_punctuation = review.translate(str.maketrans('', '', string.punctuation))\n",
        "  tokenized_review = review_without_punctuation.split(' ')\n",
        "  tokenized_review = [word for word in tokenized_review if word not in stopwords.words('english')]\n",
        "  return tokenized_review"
      ]
    },
    {
      "cell_type": "code",
      "execution_count": 0,
      "metadata": {
        "colab": {},
        "colab_type": "code",
        "id": "3KGoiyur_A1t"
      },
      "outputs": [],
      "source": [
        "corpus = user_reviews['Translated_Review'].apply(tokenize)"
      ]
    },
    {
      "cell_type": "code",
      "execution_count": 166,
      "metadata": {
        "colab": {
          "base_uri": "https://localhost:8080/",
          "height": 118
        },
        "colab_type": "code",
        "id": "vTZ-E4vIENH1",
        "outputId": "effa4ed1-e4d4-443b-e730-e2c5a5274ace"
      },
      "outputs": [
        {
          "data": {
            "text/plain": [
              "0    [I, like, eat, delicious, food, Thats, Im, coo...\n",
              "1    [This, help, eating, healthy, exercise, regula...\n",
              "3    [Works, great, especially, going, grocery, store]\n",
              "4                                     [Best, idea, us]\n",
              "5                                          [Best, way]\n",
              "Name: Translated_Review, dtype: object"
            ]
          },
          "execution_count": 166,
          "metadata": {
            "tags": []
          },
          "output_type": "execute_result"
        }
      ],
      "source": [
        "corpus.head()"
      ]
    },
    {
      "cell_type": "code",
      "execution_count": 0,
      "metadata": {
        "colab": {},
        "colab_type": "code",
        "id": "diF_NXe0GxS3"
      },
      "outputs": [],
      "source": [
        "W2V_model = Word2Vec(corpus)\n",
        "index2word_set = set(W2V_model.wv.index2word)"
      ]
    },
    {
      "cell_type": "markdown",
      "metadata": {
        "colab_type": "text",
        "id": "QrHWs8dQAoo5"
      },
      "source": [
        "Since Word2Vec only works on words and not on full sentences, the following function returns the average feature vector of a sentence. "
      ]
    },
    {
      "cell_type": "code",
      "execution_count": 0,
      "metadata": {
        "colab": {},
        "colab_type": "code",
        "id": "tZb80GyPG49o"
      },
      "outputs": [],
      "source": [
        "def avg_feature_vector(sentence, model = W2V_model, num_features = 100, index2word_set = index2word_set): \n",
        "    words = sentence.split()\n",
        "    feature_vec = np.zeros((num_features, ), dtype='float32')\n",
        "    n_words = 0\n",
        "    for word in words:\n",
        "        if word in index2word_set:\n",
        "            n_words += 1\n",
        "            feature_vec = np.add(feature_vec, model[word])\n",
        "    if (n_words > 0):\n",
        "        feature_vec = np.divide(feature_vec, n_words)\n",
        "    return feature_vec"
      ]
    },
    {
      "cell_type": "code",
      "execution_count": 169,
      "metadata": {
        "colab": {
          "base_uri": "https://localhost:8080/",
          "height": 70
        },
        "colab_type": "code",
        "id": "65epqsEVIMSv",
        "outputId": "93b97f82-e05c-48bf-b4a8-e8ededaa31c6"
      },
      "outputs": [
        {
          "name": "stderr",
          "output_type": "stream",
          "text": [
            "/usr/local/lib/python3.6/dist-packages/ipykernel_launcher.py:8: DeprecationWarning: Call to deprecated `__getitem__` (Method will be removed in 4.0.0, use self.wv.__getitem__() instead).\n",
            "  \n"
          ]
        }
      ],
      "source": [
        "X2 = [avg_feature_vector(review) for review in user_reviews['Translated_Review']]    \n",
        "y2 = user_reviews['Sentiment']\n",
        "X2_train, X2_test, y2_train, y2_test = train_test_split(X2, y2, test_size=0.3)"
      ]
    },
    {
      "cell_type": "code",
      "execution_count": 0,
      "metadata": {
        "colab": {},
        "colab_type": "code",
        "id": "5AHlkmaxLU9G"
      },
      "outputs": [],
      "source": [
        "def model_results2(model):\n",
        "  model.fit(X2_train, y2_train)\n",
        "  return model.predict(X2_test)\n",
        "\n",
        "def display_accuracy(model):\n",
        "  print('Accuracy:', round(model.score(X2_test, y2_test)*100, 2), '%')  "
      ]
    },
    {
      "cell_type": "markdown",
      "metadata": {
        "colab_type": "text",
        "id": "ctELmE5RJULE"
      },
      "source": [
        "##### a) Logistic Regression"
      ]
    },
    {
      "cell_type": "code",
      "execution_count": 174,
      "metadata": {
        "colab": {
          "base_uri": "https://localhost:8080/",
          "height": 121
        },
        "colab_type": "code",
        "id": "1AnYV0BNJYc6",
        "outputId": "753b9008-772e-446b-ffb6-56abad4f73ce"
      },
      "outputs": [
        {
          "name": "stderr",
          "output_type": "stream",
          "text": [
            "/usr/local/lib/python3.6/dist-packages/sklearn/linear_model/logistic.py:432: FutureWarning: Default solver will be changed to 'lbfgs' in 0.22. Specify a solver to silence this warning.\n",
            "  FutureWarning)\n",
            "/usr/local/lib/python3.6/dist-packages/sklearn/linear_model/logistic.py:469: FutureWarning: Default multi_class will be changed to 'auto' in 0.22. Specify the multi_class option to silence this warning.\n",
            "  \"this warning.\", FutureWarning)\n"
          ]
        },
        {
          "name": "stdout",
          "output_type": "stream",
          "text": [
            "Accuracy: 70.65 %\n"
          ]
        }
      ],
      "source": [
        "LGR_model = LogisticRegression()\n",
        "LGR_results = model_results2(LGR_model)\n",
        "display_accuracy(LGR_model)"
      ]
    },
    {
      "cell_type": "markdown",
      "metadata": {
        "colab_type": "text",
        "id": "IFdd6Yx5QfIJ"
      },
      "source": [
        "##### b) Decision Tree Classifier"
      ]
    },
    {
      "cell_type": "code",
      "execution_count": 175,
      "metadata": {
        "colab": {
          "base_uri": "https://localhost:8080/",
          "height": 34
        },
        "colab_type": "code",
        "id": "uHDU3jINQw9s",
        "outputId": "617be795-b35a-4cbe-87de-86b022987c3d"
      },
      "outputs": [
        {
          "name": "stdout",
          "output_type": "stream",
          "text": [
            "Accuracy: 73.37 %\n"
          ]
        }
      ],
      "source": [
        "DTC_model = DecisionTreeClassifier()\n",
        "DTC_results = model_results2(DTC_model)\n",
        "display_accuracy(DTC_model)"
      ]
    },
    {
      "cell_type": "markdown",
      "metadata": {
        "colab_type": "text",
        "id": "wp214uaTRHsE"
      },
      "source": [
        "##### c) K-Nearest Neighbors"
      ]
    },
    {
      "cell_type": "code",
      "execution_count": 176,
      "metadata": {
        "colab": {
          "base_uri": "https://localhost:8080/",
          "height": 34
        },
        "colab_type": "code",
        "id": "UwX9MGg-RWY1",
        "outputId": "7db0f804-77f5-484e-e210-4d8a6212aa84"
      },
      "outputs": [
        {
          "name": "stdout",
          "output_type": "stream",
          "text": [
            "Accuracy: 70.63 %\n"
          ]
        }
      ],
      "source": [
        "KNN_model = KNeighborsClassifier()\n",
        "KNN_results = model_results2(KNN_model)\n",
        "display_accuracy(KNN_model)"
      ]
    },
    {
      "cell_type": "markdown",
      "metadata": {
        "colab_type": "text",
        "id": "GYxC2MJVR7W-"
      },
      "source": [
        "##### d) Linear Discriminant Analysis"
      ]
    },
    {
      "cell_type": "code",
      "execution_count": 177,
      "metadata": {
        "colab": {
          "base_uri": "https://localhost:8080/",
          "height": 34
        },
        "colab_type": "code",
        "id": "m1E-Z--oSDXq",
        "outputId": "dec9e1b2-f37d-44e7-a352-faa4ad7c6ae1"
      },
      "outputs": [
        {
          "name": "stdout",
          "output_type": "stream",
          "text": [
            "Accuracy: 70.47 %\n"
          ]
        }
      ],
      "source": [
        "LDA_model = LinearDiscriminantAnalysis()\n",
        "LDA_results = model_results2(LDA_model)\n",
        "display_accuracy(LDA_model)"
      ]
    },
    {
      "cell_type": "markdown",
      "metadata": {
        "colab_type": "text",
        "id": "-oOeLsNYT_MG"
      },
      "source": [
        "##### e) Gaussian Naive Bayes"
      ]
    },
    {
      "cell_type": "code",
      "execution_count": 178,
      "metadata": {
        "colab": {
          "base_uri": "https://localhost:8080/",
          "height": 34
        },
        "colab_type": "code",
        "id": "XsLnZwPXUEJu",
        "outputId": "4e826fe2-bb85-4035-9a05-288b46ce1324"
      },
      "outputs": [
        {
          "name": "stdout",
          "output_type": "stream",
          "text": [
            "Accuracy: 51.22 %\n"
          ]
        }
      ],
      "source": [
        "GNB_model = GaussianNB()\n",
        "GNB_results = model_results2(GNB_model)\n",
        "display_accuracy(GNB_model)"
      ]
    },
    {
      "cell_type": "markdown",
      "metadata": {
        "colab_type": "text",
        "id": "hM9vda6YU3Wi"
      },
      "source": [
        "##### f) Support Vector Machine "
      ]
    },
    {
      "cell_type": "markdown",
      "metadata": {
        "colab_type": "text",
        "id": "wHm-Z3l8ZiEO"
      },
      "source": [
        "This model is too slow to be tested."
      ]
    },
    {
      "cell_type": "code",
      "execution_count": 0,
      "metadata": {
        "colab": {},
        "colab_type": "code",
        "id": "N-Bc8wLuU9-S"
      },
      "outputs": [],
      "source": [
        "#SVM_model = SVC()\n",
        "#SVM_results = model_results2(SVM_model)\n",
        "#display_accuracy(SVM_model) "
      ]
    },
    {
      "cell_type": "markdown",
      "metadata": {
        "colab_type": "text",
        "id": "2Rbe6IpnGK4L"
      },
      "source": [
        "##### g) AdaBoost Classifier "
      ]
    },
    {
      "cell_type": "code",
      "execution_count": 180,
      "metadata": {
        "colab": {
          "base_uri": "https://localhost:8080/",
          "height": 34
        },
        "colab_type": "code",
        "id": "zUkyK-pkD4tx",
        "outputId": "e20df30e-0df5-479e-cbb6-4e82d0636175"
      },
      "outputs": [
        {
          "name": "stdout",
          "output_type": "stream",
          "text": [
            "Accuracy: 69.15 %\n"
          ]
        }
      ],
      "source": [
        "AC_model = AdaBoostClassifier()\n",
        "AC_results = model_results2(AC_model)\n",
        "display_accuracy(AC_model)"
      ]
    },
    {
      "cell_type": "markdown",
      "metadata": {
        "colab_type": "text",
        "id": "ii3j97txA6YR"
      },
      "source": [
        "As we can see by looking at the accuracy of each model, that approach is a bit disappointing. \\\\\n",
        "That results might be explained by two factors :\n",
        "*   the quality of the data: the data is pretty noisy and would have deserved a deeper cleaning (using regular expressions for example)\n",
        "*  taking the average feature vector makes us lose information and makes inaccurate the features. An improvement would be to use Doc2Vec, instead of Word2Vec: it is its generalization to text embedding. \n",
        "\n"
      ]
    },
    {
      "cell_type": "markdown",
      "metadata": {
        "colab_type": "text",
        "id": "dNO0DRNdS-4U"
      },
      "source": [
        "#### III. 6. 2. Using sklearn et keras"
      ]
    },
    {
      "cell_type": "code",
      "execution_count": 0,
      "metadata": {
        "colab": {},
        "colab_type": "code",
        "id": "VwDKcaxKTNPO"
      },
      "outputs": [],
      "source": [
        "X3 = user_reviews['Translated_Review']\n",
        "y3 = user_reviews['Sentiment']\n",
        "X3_train, X3_test, y3_train, y3_test = train_test_split(X3, y3, test_size=0.3)"
      ]
    },
    {
      "cell_type": "code",
      "execution_count": 0,
      "metadata": {
        "colab": {},
        "colab_type": "code",
        "id": "sQWMPieceMDb"
      },
      "outputs": [],
      "source": [
        "vectorizer = CountVectorizer()\n",
        "\n",
        "vectorizer.fit(X3)\n",
        "X3_train = vectorizer.transform(X3_train)\n",
        "X3_test = vectorizer.transform(X3_test)"
      ]
    },
    {
      "cell_type": "code",
      "execution_count": 184,
      "metadata": {
        "colab": {
          "base_uri": "https://localhost:8080/",
          "height": 118
        },
        "colab_type": "code",
        "id": "6M77bPZyegcg",
        "outputId": "753841ee-3aa3-4c0d-b83a-779f63926f05"
      },
      "outputs": [
        {
          "name": "stdout",
          "output_type": "stream",
          "text": [
            "Epoch 1/2\n",
            "26198/26198 [==============================] - 48s 2ms/step - loss: 0.4470 - acc: 0.8320\n",
            "Epoch 2/2\n",
            "26198/26198 [==============================] - 48s 2ms/step - loss: 0.1384 - acc: 0.9601\n",
            "11229/11229 [==============================] - 4s 342us/step\n",
            "Accuracy: 92.33 %\n"
          ]
        }
      ],
      "source": [
        "S_model = Sequential()\n",
        "S_model.add(Dense(units = 100, activation = 'relu', input_dim = len(vectorizer.get_feature_names())))\n",
        "S_model.add(Dense(units = 3, activation = 'sigmoid'))\n",
        "S_model.compile(loss = 'sparse_categorical_crossentropy', optimizer = 'adam', metrics = ['accuracy'])\n",
        "history = S_model.fit(X3_train, y3_train, epochs = 2, verbose = 1)\n",
        "scores = S_model.evaluate(X3_test, y3_test, verbose = 1)\n",
        "print(\"Accuracy:\", round(scores[1]*100, 2), '%')"
      ]
    },
    {
      "cell_type": "markdown",
      "metadata": {
        "colab_type": "text",
        "id": "LQb4c0FE74t6"
      },
      "source": [
        "### **III. 7. Adding the name of the app?**\n"
      ]
    },
    {
      "cell_type": "markdown",
      "metadata": {
        "colab_type": "text",
        "id": "VjlWDHuIYNIQ"
      },
      "source": [
        "Another idea would be to keep the name of the apps in the features of the app rating models (by converting them using Word2Vec or CountVectorizer). "
      ]
    },
    {
      "cell_type": "markdown",
      "metadata": {
        "colab_type": "text",
        "id": "ljo2Q6sn8rsT"
      },
      "source": [
        "## IV. Conclusion\n",
        "\n",
        "In this section, we will compare the Machine Learning models, based on their score."
      ]
    },
    {
      "cell_type": "markdown",
      "metadata": {
        "colab_type": "text",
        "id": "1-L4ao6FMR_g"
      },
      "source": [
        "### IV. 1.  Rating Prediction Models"
      ]
    },
    {
      "cell_type": "code",
      "execution_count": 0,
      "metadata": {
        "colab": {},
        "colab_type": "code",
        "id": "K2Xgl59YMl0u"
      },
      "outputs": [],
      "source": [
        "Names = ['LR', 'SVM-L', 'SVM-P', 'SVM-RBF', 'DT', 'RF', 'ANN']\n",
        "Results = [LR_results, SVRL_results, SVRP_results, SVRB_results, DTR_results, RFR_results, ANN_results]\n",
        "Models =  [LR_model, SVRL_model, SVRP_model, SVRB_model, DTR_model, RFR_model, ANN_model]\n",
        "Scores1 = [round(metrics.mean_absolute_error(y_test, result),4) for result in Results]\n",
        "Scores2 = [round(metrics.mean_squared_error(y_test, result),4) for result in Results]"
      ]
    },
    {
      "cell_type": "code",
      "execution_count": 186,
      "metadata": {
        "colab": {
          "base_uri": "https://localhost:8080/",
          "height": 297
        },
        "colab_type": "code",
        "id": "Q1dMhirRRddR",
        "outputId": "bfe172cc-4ec1-4644-a311-15bcb32e358b"
      },
      "outputs": [
        {
          "data": {
            "image/png": "[encoded data removed]",
            "text/plain": [
              "<Figure size 432x288 with 1 Axes>"
            ]
          },
          "metadata": {
            "tags": []
          },
          "output_type": "display_data"
        }
      ],
      "source": [
        "x = np.arange(len(Names))  \n",
        "width = 0.35  # the width of the bars\n",
        "\n",
        "fig, ax = plt.subplots()\n",
        "rects1 = ax.bar(x - width/2, Scores1, width, label='ABS error')\n",
        "rects2 = ax.bar(x + width/2, Scores2, width, label='SQR error')\n",
        "\n",
        "# Add some text for labels, title and custom x-axis tick labels, etc.\n",
        "ax.set_ylabel('Scores')\n",
        "ax.set_title('Models scores')\n",
        "ax.set_xticks(x)\n",
        "ax.set_xticklabels(Names)\n",
        "ax.legend()\n",
        "fig.tight_layout()\n",
        "\n",
        "plt.show()"
      ]
    },
    {
      "cell_type": "markdown",
      "metadata": {
        "colab_type": "text",
        "id": "MK9THqzIUgYv"
      },
      "source": [
        "It is clear that the worst model is the Decision Tree Regression model: it has the biggest errors. The other models we tested have more or less the same errors, but none of them has very remarkable result. Therefore we can't say for sure which model is the best suited for our prediction. "
      ]
    },
    {
      "cell_type": "markdown",
      "metadata": {
        "colab_type": "text",
        "id": "KEWyeWRGMZ_P"
      },
      "source": [
        "###IV. 2. Sentiment Prediction Models"
      ]
    },
    {
      "cell_type": "code",
      "execution_count": 0,
      "metadata": {
        "colab": {},
        "colab_type": "code",
        "id": "R2frc9VmL8Xd"
      },
      "outputs": [],
      "source": [
        "Names2 = ['W2V-LGR', 'W2V-DTC', 'W2V-KNN','W2V-LDA', 'W2V-GNB', 'W2V-AC', 'NN' ]\n",
        "Models2 =  [LGR_model, DTC_model, KNN_model, LDA_model, GNB_model, AC_model]\n",
        "Scores22 = [round(model.score(X2_test, y2_test)*100, 2) for model in Models2] + [round(scores[1]*100, 2)]"
      ]
    },
    {
      "cell_type": "code",
      "execution_count": 189,
      "metadata": {
        "colab": {
          "base_uri": "https://localhost:8080/",
          "height": 297
        },
        "colab_type": "code",
        "id": "8ySS-FGDiZLL",
        "outputId": "af199a31-3255-4198-94b3-b5631e6ff382"
      },
      "outputs": [
        {
          "data": {
            "image/png": "[encoded data removed]",
            "text/plain": [
              "<Figure size 432x288 with 1 Axes>"
            ]
          },
          "metadata": {
            "tags": []
          },
          "output_type": "display_data"
        }
      ],
      "source": [
        "x2 = np.arange(len(Names2))  \n",
        "width = 0.35  # the width of the bars\n",
        "\n",
        "fig, ax = plt.subplots()\n",
        "rects12 = ax.bar(x2 - width/2, Scores22, width, label='Accuracy')\n",
        "\n",
        "# Add some text for labels, title and custom x-axis tick labels, etc.\n",
        "ax.set_ylabel('Accuracy')\n",
        "ax.set_title('Models accuracy')\n",
        "ax.set_xticks(x)\n",
        "ax.set_xticklabels(Names2)\n",
        "ax.legend()\n",
        "fig.tight_layout()\n",
        "\n",
        "plt.show()"
      ]
    },
    {
      "cell_type": "markdown",
      "metadata": {
        "colab_type": "text",
        "id": "iHWrdvOUkT62"
      },
      "source": [
        "As we have already seen, the best model is the *keras* neural network. "
      ]
    }
  ]
}