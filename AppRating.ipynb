{
  "nbformat": 4,
  "nbformat_minor": 0,
  "metadata": {
    "colab": {
      "name": "ProjetML.ipynb",
      "provenance": [],
      "collapsed_sections": []
    },
    "kernelspec": {
      "name": "python3",
      "display_name": "Python 3"
    }
  },
  "cells": [
    {
      "cell_type": "markdown",
      "metadata": {
        "id": "MkkRy3CJ1lhj",
        "colab_type": "text"
      },
      "source": [
        "# **App Rating Prediction**"
      ]
    },
    {
      "cell_type": "markdown",
      "metadata": {
        "id": "8yhlpp_pd-O4",
        "colab_type": "text"
      },
      "source": [
        "## **Introduction**"
      ]
    },
    {
      "cell_type": "markdown",
      "metadata": {
        "id": "HzIFxNjubgsm",
        "colab_type": "text"
      },
      "source": [
        "The goal of this project is to use data of 10k Play Store apps and their user reviews to make rating predictions.\n",
        "The dataset is composed of two *csv* files :\n",
        "*   *googleplaystore_user_reviews.csv* : contains the first 'most relevant' 100 reviews for each app\n",
        "*   *googleplaystore.csv* : contains the details of the apps\n",
        "\n",
        "We start by loading some libraries and importing the dataset."
      ]
    },
    {
      "cell_type": "code",
      "metadata": {
        "id": "LR9Kp3I_10S9",
        "colab_type": "code",
        "colab": {}
      },
      "source": [
        "from sklearn.linear_model import LinearRegression \n",
        "from sklearn.preprocessing import normalize\n",
        "from sklearn.model_selection import train_test_split\n",
        "from sklearn import metrics\n",
        "import pandas as pd\n",
        "import numpy as np\n",
        "import matplotlib.pyplot as plt\n",
        "import seaborn as sns\n",
        "import csv"
      ],
      "execution_count": 0,
      "outputs": []
    },
    {
      "cell_type": "code",
      "metadata": {
        "id": "kOqbLfSv2ccj",
        "colab_type": "code",
        "colab": {}
      },
      "source": [
        "app_data_file_name = 'googleplaystore.csv'\n",
        "user_reviews_file_name = 'googleplaystore_user_reviews.csv'"
      ],
      "execution_count": 0,
      "outputs": []
    },
    {
      "cell_type": "code",
      "metadata": {
        "id": "PF4Xl0Ny2kER",
        "colab_type": "code",
        "colab": {}
      },
      "source": [
        "app_data = pd.read_csv(app_data_file_name)\n",
        "user_reviews = pd.read_csv(user_reviews_file_name)"
      ],
      "execution_count": 0,
      "outputs": []
    },
    {
      "cell_type": "markdown",
      "metadata": {
        "id": "x66_5x4Q2qk9",
        "colab_type": "text"
      },
      "source": [
        "## **I. Data Exploration**"
      ]
    },
    {
      "cell_type": "markdown",
      "metadata": {
        "id": "A-RA-FiLXn12",
        "colab_type": "text"
      },
      "source": [
        "In this section we will be discovering our data, we will look at some of its relevant properties, like the size, the type ... "
      ]
    },
    {
      "cell_type": "markdown",
      "metadata": {
        "id": "CZiQmnkOksep",
        "colab_type": "text"
      },
      "source": [
        "### **I. 1. Details of the apps**\n"
      ]
    },
    {
      "cell_type": "code",
      "metadata": {
        "id": "ONdlEeLE21Qr",
        "colab_type": "code",
        "colab": {}
      },
      "source": [
        "print(\"we have \",app_data.shape[0], \" app, and \", app_data.shape[1], \" feature for each app.\")"
      ],
      "execution_count": 0,
      "outputs": []
    },
    {
      "cell_type": "code",
      "metadata": {
        "id": "v-1ueChK24y8",
        "colab_type": "code",
        "colab": {}
      },
      "source": [
        "print(\"these are the features : \\n\", app_data.columns)"
      ],
      "execution_count": 0,
      "outputs": []
    },
    {
      "cell_type": "markdown",
      "metadata": {
        "id": "vM7P_ELVQ65b",
        "colab_type": "text"
      },
      "source": [
        "Here is what the dataset looks like, we can see that most of the fields do not have numerical value, we will take care of that in the data cleaning section.\n"
      ]
    },
    {
      "cell_type": "code",
      "metadata": {
        "id": "ScYSybdB27O7",
        "colab_type": "code",
        "colab": {}
      },
      "source": [
        "app_data.head()"
      ],
      "execution_count": 0,
      "outputs": []
    },
    {
      "cell_type": "code",
      "metadata": {
        "id": "kqKExE6A2934",
        "colab_type": "code",
        "colab": {}
      },
      "source": [
        "app_data.info()"
      ],
      "execution_count": 0,
      "outputs": []
    },
    {
      "cell_type": "markdown",
      "metadata": {
        "id": "V0GpkerVSL7-",
        "colab_type": "text"
      },
      "source": [
        "For a total of 10841 apps, we have only 9367 apps rated, so we need to scale down our research to the rated portion of the data."
      ]
    },
    {
      "cell_type": "code",
      "metadata": {
        "id": "y-UlNSdx3Ijp",
        "colab_type": "code",
        "colab": {}
      },
      "source": [
        "app_data.describe(include='all')"
      ],
      "execution_count": 0,
      "outputs": []
    },
    {
      "cell_type": "code",
      "metadata": {
        "id": "VdcKJ1vk3K4I",
        "colab_type": "code",
        "colab": {}
      },
      "source": [
        "app_data.hist(bins=5,column=\"Rating\", figsize=(5,5), grid=False, range=(0, 5))"
      ],
      "execution_count": 0,
      "outputs": []
    },
    {
      "cell_type": "markdown",
      "metadata": {
        "id": "PA_A7ANblXQ5",
        "colab_type": "text"
      },
      "source": [
        "### **I. 2. User reviews**"
      ]
    },
    {
      "cell_type": "code",
      "metadata": {
        "id": "cthEpVotlq80",
        "colab_type": "code",
        "colab": {}
      },
      "source": [
        "user_reviews.shape"
      ],
      "execution_count": 0,
      "outputs": []
    },
    {
      "cell_type": "code",
      "metadata": {
        "id": "auhSaz9Wluw5",
        "colab_type": "code",
        "colab": {}
      },
      "source": [
        "user_reviews.columns"
      ],
      "execution_count": 0,
      "outputs": []
    },
    {
      "cell_type": "code",
      "metadata": {
        "id": "fvAEMNw3lxeR",
        "colab_type": "code",
        "colab": {}
      },
      "source": [
        "user_reviews.head()"
      ],
      "execution_count": 0,
      "outputs": []
    },
    {
      "cell_type": "code",
      "metadata": {
        "id": "XECyidgLm9d7",
        "colab_type": "code",
        "colab": {}
      },
      "source": [
        "user_reviews.info()"
      ],
      "execution_count": 0,
      "outputs": []
    },
    {
      "cell_type": "code",
      "metadata": {
        "id": "1FWDbD00oa_T",
        "colab_type": "code",
        "colab": {}
      },
      "source": [
        "user_reviews.describe(include='all')"
      ],
      "execution_count": 0,
      "outputs": []
    },
    {
      "cell_type": "code",
      "metadata": {
        "id": "dp82InU4qDFb",
        "colab_type": "code",
        "colab": {}
      },
      "source": [
        "user_reviews.hist(bins=20, column = ['Sentiment_Polarity', 'Sentiment_Subjectivity'], figsize=(10,5), grid=False)"
      ],
      "execution_count": 0,
      "outputs": []
    },
    {
      "cell_type": "markdown",
      "metadata": {
        "id": "Hr5tGh883_oK",
        "colab_type": "text"
      },
      "source": [
        "## **II. Data Cleaning**"
      ]
    },
    {
      "cell_type": "code",
      "metadata": {
        "id": "WbzPfvGDmyzV",
        "colab_type": "code",
        "colab": {}
      },
      "source": [
        "def commas_to_int(commas):\n",
        "  L = [c for c in commas if c!=',']\n",
        "  string = ''.join(L)\n",
        "  return int(string)\n",
        "\n",
        "def string_to_int(s):\n",
        "  if s[-1]=='M':\n",
        "    n = float(s[:-1])*1000000\n",
        "  elif s[-1]=='K' or s[-1]=='k':\n",
        "    n = float(s[:-1])*1000\n",
        "  elif s[-1]=='+':\n",
        "    n = commas_to_int(s[:-1])\n",
        "  elif s[0] == \"$\":\n",
        "    n = float(s[1:])*100\n",
        "  else:\n",
        "    n = float(s)\n",
        "  return int(n)\n",
        "\n",
        "def type_to_binary(t):\n",
        "  if t == \"Free\":\n",
        "    return 0\n",
        "  else :\n",
        "    return 1\n",
        "  \n",
        "def CR_to_int(list_of_ratings):\n",
        "  list_of_ratings = list(list_of_ratings)\n",
        "  return lambda rating : len(list_of_ratings) - list_of_ratings.index(rating) - 1 \n"
      ],
      "execution_count": 0,
      "outputs": []
    },
    {
      "cell_type": "markdown",
      "metadata": {
        "id": "AuS9jtLPg-Lb",
        "colab_type": "text"
      },
      "source": [
        "### II. 1. Dropping unecessary colums"
      ]
    },
    {
      "cell_type": "markdown",
      "metadata": {
        "id": "hRNyZvaKbw_v",
        "colab_type": "text"
      },
      "source": [
        "Since we can assume that the Android version, current app version, last update are unrelated to the rating property, we can drop them from our data set"
      ]
    },
    {
      "cell_type": "code",
      "metadata": {
        "id": "TYybAxsahi9f",
        "colab_type": "code",
        "colab": {}
      },
      "source": [
        "app_data.drop(labels = ['Last Updated','Current Ver','Android Ver'], axis = 1, inplace = True)\n",
        "app_data.head()"
      ],
      "execution_count": 0,
      "outputs": []
    },
    {
      "cell_type": "markdown",
      "metadata": {
        "id": "TPMrXHtsiZLj",
        "colab_type": "text"
      },
      "source": [
        "### II.2 Removing Rows with NaN values"
      ]
    },
    {
      "cell_type": "code",
      "metadata": {
        "id": "RVKnJxcAil-N",
        "colab_type": "code",
        "colab": {}
      },
      "source": [
        "previous_number_of_rows = app_data.shape[0]\n",
        "app_data = app_data.dropna()\n",
        "print(\"new shape = \", app_data.shape)\n",
        "print('Ratio of deleted rows:', round((1-app_data.shape[0]/previous_number_of_rows)*100), '%')"
      ],
      "execution_count": 0,
      "outputs": []
    },
    {
      "cell_type": "code",
      "metadata": {
        "colab_type": "code",
        "id": "oy2oqCeHj3a_",
        "colab": {}
      },
      "source": [
        "previous_number_of_rows = user_reviews.shape[0]\n",
        "user_reviews = user_reviews.dropna()\n",
        "print(\"new shape = \", user_reviews.shape)\n",
        "print('Ratio of deleted rows:', round((1-user_reviews.shape[0]/previous_number_of_rows)*100), '%')"
      ],
      "execution_count": 0,
      "outputs": []
    },
    {
      "cell_type": "markdown",
      "metadata": {
        "id": "u-m4o7Jzk1Fj",
        "colab_type": "text"
      },
      "source": [
        "### II. 3. Changing fields with numerical nature to numbers\n",
        "\n"
      ]
    },
    {
      "cell_type": "markdown",
      "metadata": {
        "id": "BnedLAPgmpDb",
        "colab_type": "text"
      },
      "source": [
        "#### a) REVIEWS"
      ]
    },
    {
      "cell_type": "code",
      "metadata": {
        "id": "KNPxi6YhlJbD",
        "colab_type": "code",
        "colab": {}
      },
      "source": [
        "app_data['Reviews'].unique()"
      ],
      "execution_count": 0,
      "outputs": []
    },
    {
      "cell_type": "markdown",
      "metadata": {
        "id": "x3e2A-g_mAnW",
        "colab_type": "text"
      },
      "source": [
        "We only have integer values,  can directly change the reviews into an integer"
      ]
    },
    {
      "cell_type": "code",
      "metadata": {
        "id": "C46z-9yelyF1",
        "colab_type": "code",
        "colab": {}
      },
      "source": [
        "app_data['Reviews'] = app_data['Reviews'].apply(string_to_int)\n",
        "app_data['Reviews'].unique()"
      ],
      "execution_count": 0,
      "outputs": []
    },
    {
      "cell_type": "markdown",
      "metadata": {
        "id": "E1I3IMhRnLLA",
        "colab_type": "text"
      },
      "source": [
        "#### b) SIZE"
      ]
    },
    {
      "cell_type": "code",
      "metadata": {
        "id": "JXUBsadHlgzl",
        "colab_type": "code",
        "colab": {}
      },
      "source": [
        "app_data['Size'].unique()"
      ],
      "execution_count": 0,
      "outputs": []
    },
    {
      "cell_type": "markdown",
      "metadata": {
        "id": "h0ahRbTinqrv",
        "colab_type": "text"
      },
      "source": [
        "We need to scale all the sizes to the same unit, and get rid of the 'M' or 'K' and of course remove rows that have 'Varies with device'"
      ]
    },
    {
      "cell_type": "code",
      "metadata": {
        "id": "OLM0atS7oRFA",
        "colab_type": "code",
        "colab": {}
      },
      "source": [
        "app_data = app_data[app_data.Size != 'Varies with device']\n",
        "app_data['Size'] = app_data['Size'].apply(string_to_int)\n",
        "app_data['Size'].unique()"
      ],
      "execution_count": 0,
      "outputs": []
    },
    {
      "cell_type": "markdown",
      "metadata": {
        "id": "-akC7v63uDR8",
        "colab_type": "text"
      },
      "source": [
        "#### c) INSTALLS"
      ]
    },
    {
      "cell_type": "code",
      "metadata": {
        "id": "GMb3JANjuSju",
        "colab_type": "code",
        "colab": {}
      },
      "source": [
        "app_data['Installs'].unique()"
      ],
      "execution_count": 0,
      "outputs": []
    },
    {
      "cell_type": "markdown",
      "metadata": {
        "id": "KKZVc4cIuYxr",
        "colab_type": "text"
      },
      "source": [
        "We only need to remove the \"+\""
      ]
    },
    {
      "cell_type": "code",
      "metadata": {
        "id": "Z0o0OQAYv0OL",
        "colab_type": "code",
        "colab": {}
      },
      "source": [
        "app_data['Installs'] = app_data['Installs'].apply(string_to_int)\n",
        "app_data['Installs'].unique()"
      ],
      "execution_count": 0,
      "outputs": []
    },
    {
      "cell_type": "markdown",
      "metadata": {
        "id": "Bi4WwUy_ulgs",
        "colab_type": "text"
      },
      "source": [
        "#### d) PRICE"
      ]
    },
    {
      "cell_type": "code",
      "metadata": {
        "id": "L0iCrHtacsGS",
        "colab_type": "code",
        "colab": {}
      },
      "source": [
        "app_data['Price'].unique()"
      ],
      "execution_count": 0,
      "outputs": []
    },
    {
      "cell_type": "markdown",
      "metadata": {
        "id": "6Fw9s7heu2Ix",
        "colab_type": "text"
      },
      "source": [
        "We have to remove the \"$\" sign"
      ]
    },
    {
      "cell_type": "code",
      "metadata": {
        "id": "ceN6wtzHv7og",
        "colab_type": "code",
        "colab": {}
      },
      "source": [
        "app_data['Price'] = app_data['Price'].apply(string_to_int)\n",
        "app_data['Price'].unique()"
      ],
      "execution_count": 0,
      "outputs": []
    },
    {
      "cell_type": "markdown",
      "metadata": {
        "id": "eIWlE5bvAcLU",
        "colab_type": "text"
      },
      "source": [
        "### II. 4. Changing fields with non numerical nature to numbers"
      ]
    },
    {
      "cell_type": "markdown",
      "metadata": {
        "id": "1qaPsqwnwF1u",
        "colab_type": "text"
      },
      "source": [
        "#### a) TYPE"
      ]
    },
    {
      "cell_type": "code",
      "metadata": {
        "id": "Va17XzaJwNHJ",
        "colab_type": "code",
        "colab": {}
      },
      "source": [
        "app_data['Type'].unique()"
      ],
      "execution_count": 0,
      "outputs": []
    },
    {
      "cell_type": "markdown",
      "metadata": {
        "id": "tQdSYdiogLwi",
        "colab_type": "text"
      },
      "source": [
        "We can ype column into a binary 0,1 column since it contains either 'Free' or 'Paid' tags. "
      ]
    },
    {
      "cell_type": "code",
      "metadata": {
        "id": "leJdQ3g4wYr0",
        "colab_type": "code",
        "colab": {}
      },
      "source": [
        "app_data['Type'] = app_data['Type'].apply(type_to_binary)\n",
        "app_data['Type'].unique()"
      ],
      "execution_count": 0,
      "outputs": []
    },
    {
      "cell_type": "markdown",
      "metadata": {
        "id": "dWdQSdYSyDRq",
        "colab_type": "text"
      },
      "source": [
        "#### b) CONTENT RATING"
      ]
    },
    {
      "cell_type": "code",
      "metadata": {
        "id": "n_fYamFYgpcJ",
        "colab_type": "code",
        "colab": {}
      },
      "source": [
        "app_data['Content Rating'].unique()"
      ],
      "execution_count": 0,
      "outputs": []
    },
    {
      "cell_type": "markdown",
      "metadata": {
        "id": "jKyf7SgEyW2S",
        "colab_type": "text"
      },
      "source": [
        "For the content rating we can give an integer order to the tags : for example Unrated => 0, Everyone  => 5"
      ]
    },
    {
      "cell_type": "code",
      "metadata": {
        "id": "hxvi5Z8KyWLw",
        "colab_type": "code",
        "colab": {}
      },
      "source": [
        "app_data['Content Rating'] = app_data['Content Rating'].apply(CR_to_int(app_data['Content Rating'].unique()))\n",
        "app_data['Content Rating'].unique()"
      ],
      "execution_count": 0,
      "outputs": []
    },
    {
      "cell_type": "markdown",
      "metadata": {
        "id": "yFR31O_c014x",
        "colab_type": "text"
      },
      "source": [
        "#### c) CATEGORY"
      ]
    },
    {
      "cell_type": "code",
      "metadata": {
        "id": "vRPtw2sRxdx-",
        "colab_type": "code",
        "colab": {}
      },
      "source": [
        "app_data['Category'].unique()"
      ],
      "execution_count": 0,
      "outputs": []
    },
    {
      "cell_type": "markdown",
      "metadata": {
        "id": "gjPanMZy331o",
        "colab_type": "text"
      },
      "source": [
        "Since we can't order the categories, it's not recommanded to transform this field into an integer field, instead we will create dummy columns to represent each one of the categories "
      ]
    },
    {
      "cell_type": "code",
      "metadata": {
        "id": "s9tBfnkJ218N",
        "colab_type": "code",
        "colab": {}
      },
      "source": [
        "app_data = pd.get_dummies(app_data, columns=['Category'])\n",
        "app_data.head(2)"
      ],
      "execution_count": 0,
      "outputs": []
    },
    {
      "cell_type": "markdown",
      "metadata": {
        "id": "AoIEpuEG5TO7",
        "colab_type": "text"
      },
      "source": [
        "#### d) GENRES"
      ]
    },
    {
      "cell_type": "code",
      "metadata": {
        "id": "qVZHQBW32--5",
        "colab_type": "code",
        "colab": {}
      },
      "source": [
        "app_data['Genres'].unique()\n"
      ],
      "execution_count": 0,
      "outputs": []
    },
    {
      "cell_type": "markdown",
      "metadata": {
        "id": "GkRPm6d47Wxh",
        "colab_type": "text"
      },
      "source": [
        "We can make dummy columns for this field too"
      ]
    },
    {
      "cell_type": "code",
      "metadata": {
        "id": "QxplFIjZ7qd9",
        "colab_type": "code",
        "colab": {}
      },
      "source": [
        "app_data = pd.get_dummies(app_data, columns=['Genres'])\n",
        "app_data.head(2)"
      ],
      "execution_count": 0,
      "outputs": []
    },
    {
      "cell_type": "markdown",
      "metadata": {
        "id": "N4unG7Y7LJYx",
        "colab_type": "text"
      },
      "source": [
        "### II. 5. Reuniting the two datasets"
      ]
    },
    {
      "cell_type": "markdown",
      "metadata": {
        "id": "K0x5dwvpMY0k",
        "colab_type": "text"
      },
      "source": [
        "#### a) SENTIMENT"
      ]
    },
    {
      "cell_type": "markdown",
      "metadata": {
        "id": "JPTnMDTmLaHy",
        "colab_type": "text"
      },
      "source": [
        "the most important feature in the user reviews table is the sentiment"
      ]
    },
    {
      "cell_type": "code",
      "metadata": {
        "id": "6FHU7z-9Lr3U",
        "colab_type": "code",
        "colab": {}
      },
      "source": [
        "user_reviews['Sentiment'].unique()"
      ],
      "execution_count": 0,
      "outputs": []
    },
    {
      "cell_type": "markdown",
      "metadata": {
        "id": "w18D0_EyL82r",
        "colab_type": "text"
      },
      "source": [
        "first we need to transform it into an integer field :  Positive=>2 , Negative =>0"
      ]
    },
    {
      "cell_type": "code",
      "metadata": {
        "id": "cgBPGhppM4Yl",
        "colab_type": "code",
        "colab": {}
      },
      "source": [
        "user_reviews['Sentiment'] = user_reviews['Sentiment'].apply(CR_to_int(user_reviews['Sentiment'].unique()))\n",
        "user_reviews['Sentiment'].unique()"
      ],
      "execution_count": 0,
      "outputs": []
    },
    {
      "cell_type": "markdown",
      "metadata": {
        "id": "Tgk_ILyGN2s7",
        "colab_type": "text"
      },
      "source": [
        "#### b) Can we add the Sentiment average to the app's table"
      ]
    },
    {
      "cell_type": "code",
      "metadata": {
        "id": "N6dNsPXUNEr_",
        "colab_type": "code",
        "colab": {}
      },
      "source": [
        "A = app_data['App'].unique()\n",
        "B = user_reviews['App'].unique()\n",
        "C = [] \n",
        "for b in B:\n",
        "    if b in A :\n",
        "        C.append(b)\n",
        "\n",
        "print(\"We have \",len(A), \" apps in our data set\")                \n",
        "print(\"there are \",len(B), \" apps reviewed\")\n",
        "print(\"there are \",len(C), \" reviewed apps in our data set\")"
      ],
      "execution_count": 0,
      "outputs": []
    },
    {
      "cell_type": "markdown",
      "metadata": {
        "id": "ItJqxfvfkkDq",
        "colab_type": "text"
      },
      "source": [
        "Since the number of reviewed app is very small compared to the size of our data set, user_reviews table does not provide relevant information to be added to app_data table"
      ]
    },
    {
      "cell_type": "markdown",
      "metadata": {
        "id": "cik7JB0PBLDT",
        "colab_type": "text"
      },
      "source": [
        "### II. 6. Scaling data"
      ]
    },
    {
      "cell_type": "markdown",
      "metadata": {
        "id": "7nxkPZyeBKGE",
        "colab_type": "text"
      },
      "source": [
        "This makes training less sensitive to the scale of features"
      ]
    },
    {
      "cell_type": "code",
      "metadata": {
        "id": "q6-NhW8PlTLv",
        "colab_type": "code",
        "colab": {}
      },
      "source": [
        "app_data.columns[1:]\n"
      ],
      "execution_count": 0,
      "outputs": []
    },
    {
      "cell_type": "code",
      "metadata": {
        "id": "TTyoqwRZGjDp",
        "colab_type": "code",
        "colab": {}
      },
      "source": [
        "app_data_final_array = normalize(np.array(app_data)[:,1:], axis = 0, norm = 'max')"
      ],
      "execution_count": 0,
      "outputs": []
    },
    {
      "cell_type": "code",
      "metadata": {
        "id": "DV_MYYBVk5iv",
        "colab_type": "code",
        "colab": {}
      },
      "source": [
        "app_data_final_df = pd.DataFrame(data = app_data_final_array, columns = app_data.columns[1:] )"
      ],
      "execution_count": 0,
      "outputs": []
    },
    {
      "cell_type": "code",
      "metadata": {
        "id": "VeLFB15gltqa",
        "colab_type": "code",
        "colab": {}
      },
      "source": [
        "app_data_final_df.head()"
      ],
      "execution_count": 0,
      "outputs": []
    },
    {
      "cell_type": "markdown",
      "metadata": {
        "id": "S6Q9s4MNrMvZ",
        "colab_type": "text"
      },
      "source": [
        "### II. 7. Visualizing the cleaned data"
      ]
    },
    {
      "cell_type": "code",
      "metadata": {
        "id": "dql6Lal8rtmy",
        "colab_type": "code",
        "colab": {}
      },
      "source": [
        "import seaborn as sns\n",
        "sub_df = pd.DataFrame(app_data_final_df, columns=['Rating', 'Reviews', 'Size', 'Installs', 'Type', 'Price', 'Content Rating'])\n",
        "sns.pairplot(sub_df)"
      ],
      "execution_count": 0,
      "outputs": []
    },
    {
      "cell_type": "code",
      "metadata": {
        "id": "UWuaZ-xgsOZt",
        "colab_type": "code",
        "colab": {}
      },
      "source": [
        "sns.heatmap(sub_df.corr(),annot=True)"
      ],
      "execution_count": 0,
      "outputs": []
    },
    {
      "cell_type": "markdown",
      "metadata": {
        "id": "9gjuHIQa4FzM",
        "colab_type": "text"
      },
      "source": [
        "## **III. Machine Learning Models**"
      ]
    },
    {
      "cell_type": "markdown",
      "metadata": {
        "id": "odkRP2kJcRIb",
        "colab_type": "text"
      },
      "source": [
        "Once the data is cleaned, we can start to apply ML models to it in order to make rating predictions."
      ]
    },
    {
      "cell_type": "code",
      "metadata": {
        "id": "Nzx0OSYCzshG",
        "colab_type": "code",
        "colab": {}
      },
      "source": [
        "X = app_data_final_df.drop(labels = ['Rating'], axis = 1)\n",
        "y = app_data_final_df['Rating']\n",
        "X_train, X_test, y_train, y_test = train_test_split(X, y, test_size=0.3)\n",
        "\n",
        "def model_results(model):\n",
        "  model.fit(X_train, y_train)\n",
        "  return model.predict(X_test)\n",
        "  \n",
        "\n",
        "def display_errors(test, results):\n",
        "  print('MSE :', metrics.mean_squared_error(test, results))\n",
        "  print('MAE :', metrics.mean_absolute_error(test, results))\n",
        "  #print('MSLE :', metrics.mean_squared_log_error(test, results))\n",
        "  \n",
        "def plot_results(test, results, title):  \n",
        "  plt.figure(figsize=(12,7))\n",
        "  sns.regplot(results, test)\n",
        "  plt.legend()\n",
        "  plt.title(title)\n",
        "  plt.xlabel('Predicted Ratings')\n",
        "  plt.ylabel('Actual Ratings')\n",
        "  plt.show()"
      ],
      "execution_count": 0,
      "outputs": []
    },
    {
      "cell_type": "markdown",
      "metadata": {
        "id": "3rficGvH4j--",
        "colab_type": "text"
      },
      "source": [
        "### **III. 1. Linear Regression Model**\n"
      ]
    },
    {
      "cell_type": "code",
      "metadata": {
        "id": "5oRZkuK_CwoS",
        "colab_type": "code",
        "colab": {}
      },
      "source": [
        "LR_model = LinearRegression()\n",
        "LR_results = model_results(LR_model)"
      ],
      "execution_count": 0,
      "outputs": []
    },
    {
      "cell_type": "code",
      "metadata": {
        "id": "4Aua3kmizwLa",
        "colab_type": "code",
        "colab": {}
      },
      "source": [
        "display_errors(y_test, LR_results)"
      ],
      "execution_count": 0,
      "outputs": []
    },
    {
      "cell_type": "code",
      "metadata": {
        "id": "VscdsFZdzwN_",
        "colab_type": "code",
        "colab": {}
      },
      "source": [
        "plot_results(y_test, LR_results, title = 'Linear Regression Model')"
      ],
      "execution_count": 0,
      "outputs": []
    }
  ]
}